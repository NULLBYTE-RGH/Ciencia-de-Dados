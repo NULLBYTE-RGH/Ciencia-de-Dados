{
 "cells": [
  {
   "cell_type": "code",
   "execution_count": 17,
   "outputs": [],
   "source": [
    "import numpy as np\n",
    "import pandas as pd\n",
    "\n",
    "path = 'https://github.com/Rogerio-mack/IMT_Ciencia_de_Dados/raw/main/data/'"
   ],
   "metadata": {
    "collapsed": false
   }
  },
  {
   "cell_type": "markdown",
   "source": [
    "CASE: Yahoo Finance\n",
    "Nos exercícios a seguir partimos da seguinte base de dados extraída do yahoo finance:\n",
    "Para consulta de ativos no Yahoo Finance, pesquise em: https://ca.finance.yahoo.com/looku"
   ],
   "metadata": {
    "collapsed": false
   }
  },
  {
   "cell_type": "code",
   "execution_count": 18,
   "outputs": [],
   "source": [
    "%%capture\n",
    "!pip install yfinance"
   ],
   "metadata": {
    "collapsed": false
   }
  },
  {
   "cell_type": "code",
   "execution_count": 19,
   "outputs": [
    {
     "name": "stdout",
     "output_type": "stream",
     "text": [
      "[*********************100%***********************]  5 of 5 completed\n"
     ]
    },
    {
     "data": {
      "text/plain": "           Adj Close                                               Close  \\\n               BRL=X      BTC-USD   ITUB4.SA   PETR4.SA    ^BVSP   BRL=X   \nDate                                                                       \n2019-01-01    3.8800  3843.520020        NaN        NaN      NaN  3.8800   \n2019-01-02    3.8799  3943.409424  31.761538  11.060242  91012.0  3.8799   \n2019-01-03    3.7863  3836.741211  32.285160  11.331462  91564.0  3.7863   \n2019-01-04    3.7551  3857.717529  31.744345  11.363641  91841.0  3.7551   \n2019-01-05       NaN  3845.194580        NaN        NaN      NaN     NaN   \n\n                                                        ...    Open  \\\n                BTC-USD   ITUB4.SA   PETR4.SA    ^BVSP  ...   BRL=X   \nDate                                                    ...           \n2019-01-01  3843.520020        NaN        NaN      NaN  ...  3.8800   \n2019-01-02  3943.409424  37.000000  24.059999  91012.0  ...  3.8799   \n2019-01-03  3836.741211  37.610001  24.650000  91564.0  ...  3.7866   \n2019-01-04  3857.717529  36.980000  24.719999  91841.0  ...  3.7550   \n2019-01-05  3845.194580        NaN        NaN      NaN  ...     NaN   \n\n                                                       Volume              \\\n                BTC-USD   ITUB4.SA   PETR4.SA    ^BVSP  BRL=X     BTC-USD   \nDate                                                                        \n2019-01-01  3746.713379        NaN        NaN      NaN    0.0  4324200990   \n2019-01-02  3849.216309  35.439999  22.549999  87887.0    0.0  5244856836   \n2019-01-03  3931.048584  36.750000  23.959999  91011.0    0.0  4530215219   \n2019-01-04  3832.040039  37.220001  24.850000  91577.0    0.0  4847965467   \n2019-01-05  3851.973877        NaN        NaN      NaN    NaN  5137609824   \n\n                                                \n              ITUB4.SA     PETR4.SA      ^BVSP  \nDate                                            \n2019-01-01         NaN          NaN        NaN  \n2019-01-02  25581700.0  104534800.0  5615400.0  \n2019-01-03  21938600.0   95206400.0  6066200.0  \n2019-01-04  24873500.0   72119800.0  5322100.0  \n2019-01-05         NaN          NaN        NaN  \n\n[5 rows x 30 columns]",
      "text/html": "<div>\n<style scoped>\n    .dataframe tbody tr th:only-of-type {\n        vertical-align: middle;\n    }\n\n    .dataframe tbody tr th {\n        vertical-align: top;\n    }\n\n    .dataframe thead tr th {\n        text-align: left;\n    }\n\n    .dataframe thead tr:last-of-type th {\n        text-align: right;\n    }\n</style>\n<table border=\"1\" class=\"dataframe\">\n  <thead>\n    <tr>\n      <th></th>\n      <th colspan=\"5\" halign=\"left\">Adj Close</th>\n      <th colspan=\"5\" halign=\"left\">Close</th>\n      <th>...</th>\n      <th colspan=\"5\" halign=\"left\">Open</th>\n      <th colspan=\"5\" halign=\"left\">Volume</th>\n    </tr>\n    <tr>\n      <th></th>\n      <th>BRL=X</th>\n      <th>BTC-USD</th>\n      <th>ITUB4.SA</th>\n      <th>PETR4.SA</th>\n      <th>^BVSP</th>\n      <th>BRL=X</th>\n      <th>BTC-USD</th>\n      <th>ITUB4.SA</th>\n      <th>PETR4.SA</th>\n      <th>^BVSP</th>\n      <th>...</th>\n      <th>BRL=X</th>\n      <th>BTC-USD</th>\n      <th>ITUB4.SA</th>\n      <th>PETR4.SA</th>\n      <th>^BVSP</th>\n      <th>BRL=X</th>\n      <th>BTC-USD</th>\n      <th>ITUB4.SA</th>\n      <th>PETR4.SA</th>\n      <th>^BVSP</th>\n    </tr>\n    <tr>\n      <th>Date</th>\n      <th></th>\n      <th></th>\n      <th></th>\n      <th></th>\n      <th></th>\n      <th></th>\n      <th></th>\n      <th></th>\n      <th></th>\n      <th></th>\n      <th></th>\n      <th></th>\n      <th></th>\n      <th></th>\n      <th></th>\n      <th></th>\n      <th></th>\n      <th></th>\n      <th></th>\n      <th></th>\n      <th></th>\n    </tr>\n  </thead>\n  <tbody>\n    <tr>\n      <th>2019-01-01</th>\n      <td>3.8800</td>\n      <td>3843.520020</td>\n      <td>NaN</td>\n      <td>NaN</td>\n      <td>NaN</td>\n      <td>3.8800</td>\n      <td>3843.520020</td>\n      <td>NaN</td>\n      <td>NaN</td>\n      <td>NaN</td>\n      <td>...</td>\n      <td>3.8800</td>\n      <td>3746.713379</td>\n      <td>NaN</td>\n      <td>NaN</td>\n      <td>NaN</td>\n      <td>0.0</td>\n      <td>4324200990</td>\n      <td>NaN</td>\n      <td>NaN</td>\n      <td>NaN</td>\n    </tr>\n    <tr>\n      <th>2019-01-02</th>\n      <td>3.8799</td>\n      <td>3943.409424</td>\n      <td>31.761538</td>\n      <td>11.060242</td>\n      <td>91012.0</td>\n      <td>3.8799</td>\n      <td>3943.409424</td>\n      <td>37.000000</td>\n      <td>24.059999</td>\n      <td>91012.0</td>\n      <td>...</td>\n      <td>3.8799</td>\n      <td>3849.216309</td>\n      <td>35.439999</td>\n      <td>22.549999</td>\n      <td>87887.0</td>\n      <td>0.0</td>\n      <td>5244856836</td>\n      <td>25581700.0</td>\n      <td>104534800.0</td>\n      <td>5615400.0</td>\n    </tr>\n    <tr>\n      <th>2019-01-03</th>\n      <td>3.7863</td>\n      <td>3836.741211</td>\n      <td>32.285160</td>\n      <td>11.331462</td>\n      <td>91564.0</td>\n      <td>3.7863</td>\n      <td>3836.741211</td>\n      <td>37.610001</td>\n      <td>24.650000</td>\n      <td>91564.0</td>\n      <td>...</td>\n      <td>3.7866</td>\n      <td>3931.048584</td>\n      <td>36.750000</td>\n      <td>23.959999</td>\n      <td>91011.0</td>\n      <td>0.0</td>\n      <td>4530215219</td>\n      <td>21938600.0</td>\n      <td>95206400.0</td>\n      <td>6066200.0</td>\n    </tr>\n    <tr>\n      <th>2019-01-04</th>\n      <td>3.7551</td>\n      <td>3857.717529</td>\n      <td>31.744345</td>\n      <td>11.363641</td>\n      <td>91841.0</td>\n      <td>3.7551</td>\n      <td>3857.717529</td>\n      <td>36.980000</td>\n      <td>24.719999</td>\n      <td>91841.0</td>\n      <td>...</td>\n      <td>3.7550</td>\n      <td>3832.040039</td>\n      <td>37.220001</td>\n      <td>24.850000</td>\n      <td>91577.0</td>\n      <td>0.0</td>\n      <td>4847965467</td>\n      <td>24873500.0</td>\n      <td>72119800.0</td>\n      <td>5322100.0</td>\n    </tr>\n    <tr>\n      <th>2019-01-05</th>\n      <td>NaN</td>\n      <td>3845.194580</td>\n      <td>NaN</td>\n      <td>NaN</td>\n      <td>NaN</td>\n      <td>NaN</td>\n      <td>3845.194580</td>\n      <td>NaN</td>\n      <td>NaN</td>\n      <td>NaN</td>\n      <td>...</td>\n      <td>NaN</td>\n      <td>3851.973877</td>\n      <td>NaN</td>\n      <td>NaN</td>\n      <td>NaN</td>\n      <td>NaN</td>\n      <td>5137609824</td>\n      <td>NaN</td>\n      <td>NaN</td>\n      <td>NaN</td>\n    </tr>\n  </tbody>\n</table>\n<p>5 rows × 30 columns</p>\n</div>"
     },
     "execution_count": 19,
     "metadata": {},
     "output_type": "execute_result"
    }
   ],
   "source": [
    "import yfinance as yf\n",
    "\n",
    "data = yf.download(['^BVSP', 'PETR4.SA', 'ITUB4.SA', 'BRL=X', 'BTC-USD'],'2019-01-01','2023-03-01')\n",
    "data.head()"
   ],
   "metadata": {
    "collapsed": false
   }
  },
  {
   "cell_type": "markdown",
   "source": [
    "Q1. pd.concat().\n",
    "Selecione o valor de fechamento ajustado de cada ticket produzindo um DataFrame df com o seguinte aspecto:"
   ],
   "metadata": {
    "collapsed": false
   }
  },
  {
   "cell_type": "code",
   "execution_count": 20,
   "outputs": [
    {
     "data": {
      "text/plain": "         Date   BRL=X      BTC-USD   ITUB4.SA   PETR4.SA    ^BVSP\n0  2019-01-01  3.8800  3843.520020        NaN        NaN      NaN\n1  2019-01-02  3.8799  3943.409424  31.761532  11.060242  91012.0\n2  2019-01-03  3.7863  3836.741211  32.285156  11.331462  91564.0\n3  2019-01-04  3.7551  3857.717529  31.744347  11.363639  91841.0\n4  2019-01-05     NaN  3845.194580        NaN        NaN      NaN",
      "text/html": "<div>\n<style scoped>\n    .dataframe tbody tr th:only-of-type {\n        vertical-align: middle;\n    }\n\n    .dataframe tbody tr th {\n        vertical-align: top;\n    }\n\n    .dataframe thead th {\n        text-align: right;\n    }\n</style>\n<table border=\"1\" class=\"dataframe\">\n  <thead>\n    <tr style=\"text-align: right;\">\n      <th></th>\n      <th>Date</th>\n      <th>BRL=X</th>\n      <th>BTC-USD</th>\n      <th>ITUB4.SA</th>\n      <th>PETR4.SA</th>\n      <th>^BVSP</th>\n    </tr>\n  </thead>\n  <tbody>\n    <tr>\n      <th>0</th>\n      <td>2019-01-01</td>\n      <td>3.8800</td>\n      <td>3843.520020</td>\n      <td>NaN</td>\n      <td>NaN</td>\n      <td>NaN</td>\n    </tr>\n    <tr>\n      <th>1</th>\n      <td>2019-01-02</td>\n      <td>3.8799</td>\n      <td>3943.409424</td>\n      <td>31.761532</td>\n      <td>11.060242</td>\n      <td>91012.0</td>\n    </tr>\n    <tr>\n      <th>2</th>\n      <td>2019-01-03</td>\n      <td>3.7863</td>\n      <td>3836.741211</td>\n      <td>32.285156</td>\n      <td>11.331462</td>\n      <td>91564.0</td>\n    </tr>\n    <tr>\n      <th>3</th>\n      <td>2019-01-04</td>\n      <td>3.7551</td>\n      <td>3857.717529</td>\n      <td>31.744347</td>\n      <td>11.363639</td>\n      <td>91841.0</td>\n    </tr>\n    <tr>\n      <th>4</th>\n      <td>2019-01-05</td>\n      <td>NaN</td>\n      <td>3845.194580</td>\n      <td>NaN</td>\n      <td>NaN</td>\n      <td>NaN</td>\n    </tr>\n  </tbody>\n</table>\n</div>"
     },
     "execution_count": 20,
     "metadata": {},
     "output_type": "execute_result"
    }
   ],
   "source": [
    "pd.read_csv(path + 'lab_yahoo_q1.csv').head()"
   ],
   "metadata": {
    "collapsed": false
   }
  },
  {
   "cell_type": "code",
   "execution_count": 21,
   "outputs": [
    {
     "data": {
      "text/plain": "MultiIndex([('Adj Close',    'BRL=X'),\n            ('Adj Close',  'BTC-USD'),\n            ('Adj Close', 'ITUB4.SA'),\n            ('Adj Close', 'PETR4.SA'),\n            ('Adj Close',    '^BVSP'),\n            (    'Close',    'BRL=X'),\n            (    'Close',  'BTC-USD'),\n            (    'Close', 'ITUB4.SA'),\n            (    'Close', 'PETR4.SA'),\n            (    'Close',    '^BVSP'),\n            (     'High',    'BRL=X'),\n            (     'High',  'BTC-USD'),\n            (     'High', 'ITUB4.SA'),\n            (     'High', 'PETR4.SA'),\n            (     'High',    '^BVSP'),\n            (      'Low',    'BRL=X'),\n            (      'Low',  'BTC-USD'),\n            (      'Low', 'ITUB4.SA'),\n            (      'Low', 'PETR4.SA'),\n            (      'Low',    '^BVSP'),\n            (     'Open',    'BRL=X'),\n            (     'Open',  'BTC-USD'),\n            (     'Open', 'ITUB4.SA'),\n            (     'Open', 'PETR4.SA'),\n            (     'Open',    '^BVSP'),\n            (   'Volume',    'BRL=X'),\n            (   'Volume',  'BTC-USD'),\n            (   'Volume', 'ITUB4.SA'),\n            (   'Volume', 'PETR4.SA'),\n            (   'Volume',    '^BVSP')],\n           )"
     },
     "execution_count": 21,
     "metadata": {},
     "output_type": "execute_result"
    }
   ],
   "source": [
    "data.keys()"
   ],
   "metadata": {
    "collapsed": false
   }
  },
  {
   "cell_type": "code",
   "execution_count": 22,
   "outputs": [
    {
     "data": {
      "text/plain": "        Date   BRL=X      BTC-USD   ITUB4.SA   PETR4.SA    ^BVSP\n0 2019-01-01  3.8800  3843.520020        NaN        NaN      NaN\n1 2019-01-02  3.8799  3943.409424  31.761538  11.060242  91012.0\n2 2019-01-03  3.7863  3836.741211  32.285160  11.331462  91564.0\n3 2019-01-04  3.7551  3857.717529  31.744345  11.363641  91841.0\n4 2019-01-05     NaN  3845.194580        NaN        NaN      NaN",
      "text/html": "<div>\n<style scoped>\n    .dataframe tbody tr th:only-of-type {\n        vertical-align: middle;\n    }\n\n    .dataframe tbody tr th {\n        vertical-align: top;\n    }\n\n    .dataframe thead th {\n        text-align: right;\n    }\n</style>\n<table border=\"1\" class=\"dataframe\">\n  <thead>\n    <tr style=\"text-align: right;\">\n      <th></th>\n      <th>Date</th>\n      <th>BRL=X</th>\n      <th>BTC-USD</th>\n      <th>ITUB4.SA</th>\n      <th>PETR4.SA</th>\n      <th>^BVSP</th>\n    </tr>\n  </thead>\n  <tbody>\n    <tr>\n      <th>0</th>\n      <td>2019-01-01</td>\n      <td>3.8800</td>\n      <td>3843.520020</td>\n      <td>NaN</td>\n      <td>NaN</td>\n      <td>NaN</td>\n    </tr>\n    <tr>\n      <th>1</th>\n      <td>2019-01-02</td>\n      <td>3.8799</td>\n      <td>3943.409424</td>\n      <td>31.761538</td>\n      <td>11.060242</td>\n      <td>91012.0</td>\n    </tr>\n    <tr>\n      <th>2</th>\n      <td>2019-01-03</td>\n      <td>3.7863</td>\n      <td>3836.741211</td>\n      <td>32.285160</td>\n      <td>11.331462</td>\n      <td>91564.0</td>\n    </tr>\n    <tr>\n      <th>3</th>\n      <td>2019-01-04</td>\n      <td>3.7551</td>\n      <td>3857.717529</td>\n      <td>31.744345</td>\n      <td>11.363641</td>\n      <td>91841.0</td>\n    </tr>\n    <tr>\n      <th>4</th>\n      <td>2019-01-05</td>\n      <td>NaN</td>\n      <td>3845.194580</td>\n      <td>NaN</td>\n      <td>NaN</td>\n      <td>NaN</td>\n    </tr>\n  </tbody>\n</table>\n</div>"
     },
     "execution_count": 22,
     "metadata": {},
     "output_type": "execute_result"
    }
   ],
   "source": [
    "df = pd.concat([data[('Adj Close','BRL=X')],data[('Adj Close','BTC-USD')],data[('Adj Close','ITUB4.SA')],data[('Adj Close','PETR4.SA')],data[('Adj Close','^BVSP')]],axis = 1)\n",
    "df = pd.DataFrame(df)['Adj Close'].reset_index()\n",
    "df.head()"
   ],
   "metadata": {
    "collapsed": false
   }
  },
  {
   "cell_type": "code",
   "execution_count": 23,
   "outputs": [],
   "source": [
    "BRL = df['BRL=X'].sum()\n",
    "BTC = df['BTC-USD'].sum()\n",
    "ITUB4 = df['ITUB4.SA'].sum()\n",
    "PETR4 = df['PETR4.SA'].sum()\n",
    "BVSPA = df['^BVSP'].sum()"
   ],
   "metadata": {
    "collapsed": false
   }
  },
  {
   "cell_type": "code",
   "execution_count": 24,
   "outputs": [
    {
     "data": {
      "text/plain": "145801021.60808372"
     },
     "execution_count": 24,
     "metadata": {},
     "output_type": "execute_result"
    }
   ],
   "source": [
    "SomatTototal = BRL+BTC+ITUB4+PETR4+BVSPA\n",
    "SomatTototal"
   ],
   "metadata": {
    "collapsed": false
   }
  },
  {
   "cell_type": "markdown",
   "source": [
    "-------------------------------------------------------------------------------------------------------------------------------------------------------------------------------------"
   ],
   "metadata": {
    "collapsed": false
   }
  },
  {
   "cell_type": "markdown",
   "source": [
    "Q2. df.loc.\n",
    "Crie para o ticket BTC-USD um DataFrame df_day_gain como abaixo com a informação de day_gain, onde True significa um valor maior do ativo no dia seguinte."
   ],
   "metadata": {
    "collapsed": false
   }
  },
  {
   "cell_type": "code",
   "execution_count": 25,
   "outputs": [
    {
     "data": {
      "text/plain": "         Date  day_gain\n0  2019-01-02      True\n1  2019-01-03     False\n2  2019-01-04      True\n3  2019-01-05     False\n4  2019-01-06      True",
      "text/html": "<div>\n<style scoped>\n    .dataframe tbody tr th:only-of-type {\n        vertical-align: middle;\n    }\n\n    .dataframe tbody tr th {\n        vertical-align: top;\n    }\n\n    .dataframe thead th {\n        text-align: right;\n    }\n</style>\n<table border=\"1\" class=\"dataframe\">\n  <thead>\n    <tr style=\"text-align: right;\">\n      <th></th>\n      <th>Date</th>\n      <th>day_gain</th>\n    </tr>\n  </thead>\n  <tbody>\n    <tr>\n      <th>0</th>\n      <td>2019-01-02</td>\n      <td>True</td>\n    </tr>\n    <tr>\n      <th>1</th>\n      <td>2019-01-03</td>\n      <td>False</td>\n    </tr>\n    <tr>\n      <th>2</th>\n      <td>2019-01-04</td>\n      <td>True</td>\n    </tr>\n    <tr>\n      <th>3</th>\n      <td>2019-01-05</td>\n      <td>False</td>\n    </tr>\n    <tr>\n      <th>4</th>\n      <td>2019-01-06</td>\n      <td>True</td>\n    </tr>\n  </tbody>\n</table>\n</div>"
     },
     "execution_count": 25,
     "metadata": {},
     "output_type": "execute_result"
    }
   ],
   "source": [
    "#@markdown\n",
    "pd.read_csv(path + 'lab_yahoo_q2.csv').head()"
   ],
   "metadata": {
    "collapsed": false
   }
  },
  {
   "cell_type": "code",
   "execution_count": 26,
   "outputs": [
    {
     "data": {
      "text/plain": "        Date      BTC-USD\n0 2019-01-01  3843.520020\n1 2019-01-02  3943.409424\n2 2019-01-03  3836.741211\n3 2019-01-04  3857.717529\n4 2019-01-05  3845.194580",
      "text/html": "<div>\n<style scoped>\n    .dataframe tbody tr th:only-of-type {\n        vertical-align: middle;\n    }\n\n    .dataframe tbody tr th {\n        vertical-align: top;\n    }\n\n    .dataframe thead th {\n        text-align: right;\n    }\n</style>\n<table border=\"1\" class=\"dataframe\">\n  <thead>\n    <tr style=\"text-align: right;\">\n      <th></th>\n      <th>Date</th>\n      <th>BTC-USD</th>\n    </tr>\n  </thead>\n  <tbody>\n    <tr>\n      <th>0</th>\n      <td>2019-01-01</td>\n      <td>3843.520020</td>\n    </tr>\n    <tr>\n      <th>1</th>\n      <td>2019-01-02</td>\n      <td>3943.409424</td>\n    </tr>\n    <tr>\n      <th>2</th>\n      <td>2019-01-03</td>\n      <td>3836.741211</td>\n    </tr>\n    <tr>\n      <th>3</th>\n      <td>2019-01-04</td>\n      <td>3857.717529</td>\n    </tr>\n    <tr>\n      <th>4</th>\n      <td>2019-01-05</td>\n      <td>3845.194580</td>\n    </tr>\n  </tbody>\n</table>\n</div>"
     },
     "execution_count": 26,
     "metadata": {},
     "output_type": "execute_result"
    }
   ],
   "source": [
    "df_day_gain = df[['Date','BTC-USD']]\n",
    "df_day_gain.head()"
   ],
   "metadata": {
    "collapsed": false
   }
  },
  {
   "cell_type": "code",
   "execution_count": 29,
   "outputs": [],
   "source": [
    "T = 0\n",
    "F = 0\n",
    "try:\n",
    "    for i,v in enumerate(df_day_gain['BTC-USD']):\n",
    "        if i < len(df_day_gain['BTC-USD']):\n",
    "            if df_day_gain['BTC-USD'].loc[(i+1)] > v:\n",
    "                T=T+1\n",
    "            else:\n",
    "                F = F+1\n",
    "except:\n",
    "    pass"
   ],
   "metadata": {
    "collapsed": false
   }
  },
  {
   "cell_type": "code",
   "execution_count": 30,
   "outputs": [
    {
     "name": "stdout",
     "output_type": "stream",
     "text": [
      "F=735, V=784\n"
     ]
    }
   ],
   "source": [
    "print(f'F={F}, V={T}')"
   ],
   "metadata": {
    "collapsed": false
   }
  },
  {
   "cell_type": "markdown",
   "source": [
    "-------------------------------------------------------------------------------------------------------------------------------------------------------------------------------------"
   ],
   "metadata": {
    "collapsed": false
   }
  },
  {
   "cell_type": "markdown",
   "source": [
    "Q3. df.melt()\n",
    "\n",
    "Empregue o método melt() do Pandas para transformar o DataFrame df com abaixo.\n",
    "\n",
    "Dica: use pd.to_datetime(df.Date).dt.day_name() para gerar o nome dos dias da semana."
   ],
   "metadata": {
    "collapsed": false
   }
  },
  {
   "cell_type": "code",
   "execution_count": null,
   "outputs": [],
   "source": [
    "#@markdown\n",
    "pd.read_csv(path + 'lab_yahoo_q3.csv').head()"
   ],
   "metadata": {
    "collapsed": false
   }
  },
  {
   "cell_type": "markdown",
   "source": [
    "(Moodle) Qual o maior valor do Real às sextas-feiras (Friday) dentro do perído e em que data isso ocorreu? (Atenção, a base contém cotações do dólar)."
   ],
   "metadata": {
    "collapsed": false
   }
  },
  {
   "cell_type": "code",
   "execution_count": 31,
   "outputs": [],
   "source": [
    "Q3 = pd.melt(df,['Date'])\n",
    "Q3 = Q3.rename(columns={'variable':'Ticket'})\n",
    "Q3 = Q3.rename(columns={'value':'Adj Close'})"
   ],
   "metadata": {
    "collapsed": false
   }
  },
  {
   "cell_type": "code",
   "execution_count": 32,
   "outputs": [],
   "source": [
    "for i in Q3:\n",
    "    Q3['day_of_week'] = pd.to_datetime(Q3.Date).dt.day_name()"
   ],
   "metadata": {
    "collapsed": false
   }
  },
  {
   "cell_type": "code",
   "execution_count": 33,
   "outputs": [
    {
     "data": {
      "text/plain": "        Date Ticket  Adj Close day_of_week\n0 2019-01-01  BRL=X     3.8800     Tuesday\n1 2019-01-02  BRL=X     3.8799   Wednesday\n2 2019-01-03  BRL=X     3.7863    Thursday\n3 2019-01-04  BRL=X     3.7551      Friday\n4 2019-01-05  BRL=X        NaN    Saturday",
      "text/html": "<div>\n<style scoped>\n    .dataframe tbody tr th:only-of-type {\n        vertical-align: middle;\n    }\n\n    .dataframe tbody tr th {\n        vertical-align: top;\n    }\n\n    .dataframe thead th {\n        text-align: right;\n    }\n</style>\n<table border=\"1\" class=\"dataframe\">\n  <thead>\n    <tr style=\"text-align: right;\">\n      <th></th>\n      <th>Date</th>\n      <th>Ticket</th>\n      <th>Adj Close</th>\n      <th>day_of_week</th>\n    </tr>\n  </thead>\n  <tbody>\n    <tr>\n      <th>0</th>\n      <td>2019-01-01</td>\n      <td>BRL=X</td>\n      <td>3.8800</td>\n      <td>Tuesday</td>\n    </tr>\n    <tr>\n      <th>1</th>\n      <td>2019-01-02</td>\n      <td>BRL=X</td>\n      <td>3.8799</td>\n      <td>Wednesday</td>\n    </tr>\n    <tr>\n      <th>2</th>\n      <td>2019-01-03</td>\n      <td>BRL=X</td>\n      <td>3.7863</td>\n      <td>Thursday</td>\n    </tr>\n    <tr>\n      <th>3</th>\n      <td>2019-01-04</td>\n      <td>BRL=X</td>\n      <td>3.7551</td>\n      <td>Friday</td>\n    </tr>\n    <tr>\n      <th>4</th>\n      <td>2019-01-05</td>\n      <td>BRL=X</td>\n      <td>NaN</td>\n      <td>Saturday</td>\n    </tr>\n  </tbody>\n</table>\n</div>"
     },
     "execution_count": 33,
     "metadata": {},
     "output_type": "execute_result"
    }
   ],
   "source": [
    "Q3.head()"
   ],
   "metadata": {
    "collapsed": false
   }
  },
  {
   "cell_type": "code",
   "execution_count": 34,
   "outputs": [
    {
     "data": {
      "text/plain": "         Date Ticket  Adj Close day_of_week\n3  2019-01-04  BRL=X     3.7551      Friday\n10 2019-01-11  BRL=X     3.7079      Friday\n17 2019-01-18  BRL=X     3.7489      Friday\n24 2019-01-25  BRL=X     3.7698      Friday\n31 2019-02-01  BRL=X     3.6428      Friday",
      "text/html": "<div>\n<style scoped>\n    .dataframe tbody tr th:only-of-type {\n        vertical-align: middle;\n    }\n\n    .dataframe tbody tr th {\n        vertical-align: top;\n    }\n\n    .dataframe thead th {\n        text-align: right;\n    }\n</style>\n<table border=\"1\" class=\"dataframe\">\n  <thead>\n    <tr style=\"text-align: right;\">\n      <th></th>\n      <th>Date</th>\n      <th>Ticket</th>\n      <th>Adj Close</th>\n      <th>day_of_week</th>\n    </tr>\n  </thead>\n  <tbody>\n    <tr>\n      <th>3</th>\n      <td>2019-01-04</td>\n      <td>BRL=X</td>\n      <td>3.7551</td>\n      <td>Friday</td>\n    </tr>\n    <tr>\n      <th>10</th>\n      <td>2019-01-11</td>\n      <td>BRL=X</td>\n      <td>3.7079</td>\n      <td>Friday</td>\n    </tr>\n    <tr>\n      <th>17</th>\n      <td>2019-01-18</td>\n      <td>BRL=X</td>\n      <td>3.7489</td>\n      <td>Friday</td>\n    </tr>\n    <tr>\n      <th>24</th>\n      <td>2019-01-25</td>\n      <td>BRL=X</td>\n      <td>3.7698</td>\n      <td>Friday</td>\n    </tr>\n    <tr>\n      <th>31</th>\n      <td>2019-02-01</td>\n      <td>BRL=X</td>\n      <td>3.6428</td>\n      <td>Friday</td>\n    </tr>\n  </tbody>\n</table>\n</div>"
     },
     "execution_count": 34,
     "metadata": {},
     "output_type": "execute_result"
    }
   ],
   "source": [
    "sexta = Q3 [Q3['Ticket'] == 'BRL=X']\n",
    "sexta = sexta[sexta['day_of_week'] == 'Friday']\n",
    "sexta.head()"
   ],
   "metadata": {
    "collapsed": false
   }
  },
  {
   "cell_type": "markdown",
   "source": [
    "sexta['Adj Close'] = 1/sexta['Adj Close']"
   ],
   "metadata": {
    "collapsed": false
   }
  },
  {
   "cell_type": "code",
   "execution_count": 35,
   "outputs": [
    {
     "data": {
      "text/plain": "         Date Ticket  Adj Close day_of_week\n3  2019-01-04  BRL=X     3.7551      Friday\n10 2019-01-11  BRL=X     3.7079      Friday\n17 2019-01-18  BRL=X     3.7489      Friday\n24 2019-01-25  BRL=X     3.7698      Friday\n31 2019-02-01  BRL=X     3.6428      Friday",
      "text/html": "<div>\n<style scoped>\n    .dataframe tbody tr th:only-of-type {\n        vertical-align: middle;\n    }\n\n    .dataframe tbody tr th {\n        vertical-align: top;\n    }\n\n    .dataframe thead th {\n        text-align: right;\n    }\n</style>\n<table border=\"1\" class=\"dataframe\">\n  <thead>\n    <tr style=\"text-align: right;\">\n      <th></th>\n      <th>Date</th>\n      <th>Ticket</th>\n      <th>Adj Close</th>\n      <th>day_of_week</th>\n    </tr>\n  </thead>\n  <tbody>\n    <tr>\n      <th>3</th>\n      <td>2019-01-04</td>\n      <td>BRL=X</td>\n      <td>3.7551</td>\n      <td>Friday</td>\n    </tr>\n    <tr>\n      <th>10</th>\n      <td>2019-01-11</td>\n      <td>BRL=X</td>\n      <td>3.7079</td>\n      <td>Friday</td>\n    </tr>\n    <tr>\n      <th>17</th>\n      <td>2019-01-18</td>\n      <td>BRL=X</td>\n      <td>3.7489</td>\n      <td>Friday</td>\n    </tr>\n    <tr>\n      <th>24</th>\n      <td>2019-01-25</td>\n      <td>BRL=X</td>\n      <td>3.7698</td>\n      <td>Friday</td>\n    </tr>\n    <tr>\n      <th>31</th>\n      <td>2019-02-01</td>\n      <td>BRL=X</td>\n      <td>3.6428</td>\n      <td>Friday</td>\n    </tr>\n  </tbody>\n</table>\n</div>"
     },
     "execution_count": 35,
     "metadata": {},
     "output_type": "execute_result"
    }
   ],
   "source": [
    "sexta.head()"
   ],
   "metadata": {
    "collapsed": false
   }
  },
  {
   "cell_type": "code",
   "execution_count": 38,
   "outputs": [
    {
     "name": "stdout",
     "output_type": "stream",
     "text": [
      "Maior valor => 3.6428 e dia => ['2019-02-01T00:00:00.000000000']\n"
     ]
    }
   ],
   "source": [
    "print(f\"Maior valor => {round(sexta['Adj Close'].min(),4)} e dia => {sexta[sexta['Adj Close'] == sexta['Adj Close'].min()]['Date'].values}\")"
   ],
   "metadata": {
    "collapsed": false
   }
  },
  {
   "cell_type": "markdown",
   "source": [
    "-------------------------------------------------------------------------------------------------------------------------------------------------------------------------------------"
   ],
   "metadata": {
    "collapsed": false
   }
  },
  {
   "cell_type": "markdown",
   "source": [
    "Q4. df.pivot()\n",
    "\n",
    "Crie um DataFrame df_Friday, para ter o seguinte formato, somente com os valores de fechamento da semana (Friday) dos ativos.\n",
    "\n",
    "Dica:\n",
    "\n",
    "Selecione somente os dias desajados\n",
    "Aplique o df.pivot()\n",
    "Faça o reset_index()"
   ],
   "metadata": {
    "collapsed": false
   }
  },
  {
   "cell_type": "code",
   "execution_count": null,
   "outputs": [],
   "source": [
    "Q4 = sexta.tail(4)"
   ],
   "metadata": {
    "collapsed": false
   }
  },
  {
   "cell_type": "code",
   "execution_count": null,
   "outputs": [],
   "source": [
    "Q4['Adj Close'].mean()"
   ],
   "metadata": {
    "collapsed": false
   }
  },
  {
   "cell_type": "markdown",
   "source": [
    "-------------------------------------------------------------------------------------------------------------------------------------------------------------------------------------"
   ],
   "metadata": {
    "collapsed": false
   }
  },
  {
   "cell_type": "markdown",
   "source": [
    "Q5. Transformações dos dados.\n",
    "Converta os valores cabíveis do DataFrame anterior para reais e, em seguida, normalize o valores de cada Ticket.\n",
    "\n",
    "Dica: norma minmax, divida pelo máximo de cada Ticket)."
   ],
   "metadata": {
    "collapsed": false
   }
  },
  {
   "cell_type": "code",
   "execution_count": null,
   "outputs": [],
   "source": [
    "#@markdown\n",
    "pd.read_csv(path + 'lab_yahoo_q4.csv').head()"
   ],
   "metadata": {
    "collapsed": false
   }
  },
  {
   "cell_type": "code",
   "execution_count": null,
   "outputs": [],
   "source": [
    "df_Friday = Q3\n",
    "df_Friday = df_Friday[df_Friday['day_of_week'] == 'Friday']\n",
    "df_Friday = df_Friday[['Date','Ticket','Adj Close']]\n",
    "df_Friday = df_Friday.pivot(index='Date',columns='Ticket')\n",
    "df_Friday = df_Friday['Adj Close'].reset_index()\n",
    "df_Friday.head()"
   ],
   "metadata": {
    "collapsed": false
   }
  },
  {
   "cell_type": "markdown",
   "source": [
    "Execute o gráfico a seguir. Seu DataFrame deve se chamar df_Friday."
   ],
   "metadata": {
    "collapsed": false
   }
  },
  {
   "cell_type": "markdown",
   "source": [
    "Normalização:"
   ],
   "metadata": {
    "collapsed": false
   }
  },
  {
   "cell_type": "code",
   "execution_count": null,
   "outputs": [],
   "source": [
    "for c in ['BTC-USD', 'ITUB4.SA', 'PETR4.SA']:\n",
    "    df_Friday[c] = df_Friday[c] * df_Friday['BRL=X']\n",
    "\n",
    "for c in ['BRL=X', 'BTC-USD', 'ITUB4.SA', 'PETR4.SA', '^BVSP']:\n",
    "    df_Friday[c] = df_Friday[c] / df_Friday[c].max()"
   ],
   "metadata": {
    "collapsed": false
   }
  },
  {
   "cell_type": "code",
   "execution_count": null,
   "outputs": [],
   "source": [
    "import matplotlib.pyplot as plt\n",
    "%matplotlib inline\n",
    "\n",
    "plt.figure(figsize=(15,4))\n",
    "\n",
    "df_Friday = df_Friday.set_index('Date')\n",
    "\n",
    "for c in ['BRL=X', 'BTC-USD', 'ITUB4.SA', 'PETR4.SA', '^BVSP']:\n",
    "    plt.plot(df_Friday[c], label=c)\n",
    "\n",
    "plt.title('Friday Adj Close', fontsize=14, weight='bold')\n",
    "plt.xlabel('Date')\n",
    "plt.ylabel('Normalized Values')\n",
    "plt.legend()\n",
    "\n",
    "plt.show()"
   ],
   "metadata": {
    "collapsed": false
   }
  },
  {
   "cell_type": "code",
   "execution_count": null,
   "outputs": [],
   "source": [],
   "metadata": {
    "collapsed": false
   }
  }
 ],
 "metadata": {
  "kernelspec": {
   "display_name": "Python 3",
   "language": "python",
   "name": "python3"
  },
  "language_info": {
   "codemirror_mode": {
    "name": "ipython",
    "version": 2
   },
   "file_extension": ".py",
   "mimetype": "text/x-python",
   "name": "python",
   "nbconvert_exporter": "python",
   "pygments_lexer": "ipython2",
   "version": "2.7.6"
  }
 },
 "nbformat": 4,
 "nbformat_minor": 0
}
