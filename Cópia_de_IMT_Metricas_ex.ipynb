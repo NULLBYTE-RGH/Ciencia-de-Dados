{
  "nbformat": 4,
  "nbformat_minor": 0,
  "metadata": {
    "anaconda-cloud": {},
    "kernelspec": {
      "display_name": "Python 3",
      "language": "python",
      "name": "python3"
    },
    "language_info": {
      "codemirror_mode": {
        "name": "ipython",
        "version": 3
      },
      "file_extension": ".py",
      "mimetype": "text/x-python",
      "name": "python",
      "nbconvert_exporter": "python",
      "pygments_lexer": "ipython3",
      "version": "3.7.4"
    },
    "colab": {
      "provenance": [],
      "include_colab_link": true
    }
  },
  "cells": [
    {
      "cell_type": "markdown",
      "metadata": {
        "id": "view-in-github",
        "colab_type": "text"
      },
      "source": [
        "<a href=\"https://colab.research.google.com/github/NULLBYTE-RGH/Ciencia-de-Dados/blob/main/C%C3%B3pia_de_IMT_Metricas_ex.ipynb\" target=\"_parent\"><img src=\"https://colab.research.google.com/assets/colab-badge.svg\" alt=\"Open In Colab\"/></a>"
      ]
    },
    {
      "cell_type": "markdown",
      "metadata": {
        "id": "80CF3Eq9EXDW"
      },
      "source": [
        "<head>\n",
        "  <meta name=\"author\" content=\"Rogério de Oliveira\">\n",
        "  <meta institution=\"author\" content=\"ITM\">\n",
        "</head>\n",
        "\n",
        "<img src=\"https://maua.br/images/selo-60-anos-maua.svg\" width=300, align=\"right\">\n",
        "<!-- <h1 align=left><font size = 6, style=\"color:rgb(200,0,0)\"> optional title </font></h1> -->\n"
      ]
    },
    {
      "cell_type": "markdown",
      "source": [
        "# Lab: Métricas, Regressão Logística & K-vizinhos mais Próximos\n",
        "\n",
        "Referências e Materiais úteis para este Lab: *ver notas de aula de regressão logística e K-vizinhos mais Próximos*. Acesse também https://en.wikipedia.org/wiki/Precision_and_recall. \n",
        "\n",
        "<br>\n",
        "\n",
        "---\n",
        "\n",
        "\n",
        "\n"
      ],
      "metadata": {
        "id": "dEyV_GqcqtL1"
      }
    },
    {
      "cell_type": "markdown",
      "metadata": {
        "_uuid": "9dd9e07c590ca22f0c525222f60f0ebff4e092c6",
        "id": "kIr_4QzOlOOo"
      },
      "source": [
        "# Caso: **Predição de Diagnósticos a partir de Dados de Imagens** \n",
        "\n",
        "\n",
        "https://archive.ics.uci.edu/ml/datasets/Breast+Cancer+Wisconsin+(Diagnostic)\n",
        "\n",
        "Os dados acima são características computadas a partir de uma imagem digitalizada por *agulha fina* (PAAF) de uma massa mamária. Eles descrevem características dos núcleos celulares presentes na imagem e classificam os tumores como malignos ou benignos. \n",
        "\n"
      ]
    },
    {
      "cell_type": "markdown",
      "source": [
        "<img src=\"https://github.com/Rogerio-mack/IMT_Ciencia_de_Dados/blob/main/images/ClassificationBreastCancer.PNG?raw=true\" width=1200, align=\"right\"> "
      ],
      "metadata": {
        "id": "GEOe0ZznjEsj"
      }
    },
    {
      "cell_type": "code",
      "source": [
        "import numpy as np\n",
        "import pandas as pd\n",
        "import matplotlib.pyplot as plt             \n",
        "%matplotlib inline\n",
        "import seaborn as sns"
      ],
      "metadata": {
        "id": "oiXYMYIMLG-I"
      },
      "execution_count": 120,
      "outputs": []
    },
    {
      "cell_type": "code",
      "metadata": {
        "id": "V0xgakVgemrH"
      },
      "source": [
        "#@markdown **Set Up Lab** (*run this before continue*)\n",
        "breast = pd.read_csv('https://github.com/Rogerio-mack/Machine-Learning-I/raw/main/data/breast.csv')\n",
        "\n",
        "from sklearn.model_selection import train_test_split\n",
        "\n",
        "seed = 1984\n",
        "X_train, X_test, y_train, y_test = train_test_split(breast.drop(columns=['diagnosis']), breast.diagnosis, test_size=0.20, stratify=breast.diagnosis, random_state=seed)\n",
        "\n",
        "breast = pd.concat([X_train, y_train],axis=1)\n",
        "new_breast = X_test\n",
        "\n",
        "breast.to_csv('breast.csv',index=False)\n",
        "\n",
        "new_breast['diagnosis'] = '?'\n",
        "new_breast.to_csv('new_breast.csv',index=False)\n",
        "\n"
      ],
      "execution_count": 121,
      "outputs": []
    },
    {
      "cell_type": "markdown",
      "source": [
        "E você empregará os dados já tratados no set up acima, com os dataframes `breast` e `new_breast`. A idea aqui é empregar os dados de `breast` para estimar as classes dos novos casos desconhecidos de `new_breast`. \n",
        "\n"
      ],
      "metadata": {
        "id": "6BwJNFSC13UX"
      }
    },
    {
      "cell_type": "code",
      "source": [
        "breast.head()"
      ],
      "metadata": {
        "colab": {
          "base_uri": "https://localhost:8080/",
          "height": 317
        },
        "id": "PK1gssub2FWP",
        "outputId": "e07498d1-fad9-40b4-c41e-ddf97e838b6f"
      },
      "execution_count": 122,
      "outputs": [
        {
          "output_type": "execute_result",
          "data": {
            "text/plain": [
              "            id  radius_mean  texture_mean  perimeter_mean  area_mean  \\\n",
              "106      91505       12.540         16.32           81.25      476.3   \n",
              "500   90524101       17.990         20.66          117.80      991.7   \n",
              "68      915186        9.268         12.87           61.49      248.7   \n",
              "515     897880       10.050         17.53           64.41      310.8   \n",
              "138  881046502       20.580         22.14          134.70     1290.0   \n",
              "\n",
              "     smoothness_mean  compactness_mean  concavity_mean  concave points_mean  \\\n",
              "106           0.1158           0.10850         0.05928              0.03279   \n",
              "500           0.1036           0.13040         0.12010              0.08824   \n",
              "68            0.1634           0.22390         0.09730              0.05252   \n",
              "515           0.1007           0.07326         0.02511              0.01775   \n",
              "138           0.0909           0.13480         0.16400              0.09561   \n",
              "\n",
              "     symmetry_mean  ...  texture_worst  perimeter_worst  area_worst  \\\n",
              "106         0.1943  ...          21.40            86.67       552.0   \n",
              "500         0.1992  ...          25.41           138.10      1349.0   \n",
              "68          0.2378  ...          16.38            69.05       300.2   \n",
              "515         0.1890  ...          26.84            71.98       384.0   \n",
              "138         0.1765  ...          27.84           158.30      1656.0   \n",
              "\n",
              "     smoothness_worst  compactness_worst  concavity_worst  \\\n",
              "106            0.1580             0.1751           0.1889   \n",
              "500            0.1482             0.3735           0.3301   \n",
              "68             0.1902             0.3441           0.2099   \n",
              "515            0.1402             0.1402           0.1055   \n",
              "138            0.1178             0.2920           0.3861   \n",
              "\n",
              "     concave points_worst  symmetry_worst  fractal_dimension_worst  diagnosis  \n",
              "106               0.08411          0.3155                  0.07538          B  \n",
              "500               0.19740          0.3060                  0.08503          M  \n",
              "68                0.10250          0.3038                  0.12520          B  \n",
              "515               0.06499          0.2894                  0.07664          B  \n",
              "138               0.19200          0.2909                  0.05865          M  \n",
              "\n",
              "[5 rows x 32 columns]"
            ],
            "text/html": [
              "\n",
              "  <div id=\"df-33e4b062-101d-4c06-b442-eb0bdcbbc32a\">\n",
              "    <div class=\"colab-df-container\">\n",
              "      <div>\n",
              "<style scoped>\n",
              "    .dataframe tbody tr th:only-of-type {\n",
              "        vertical-align: middle;\n",
              "    }\n",
              "\n",
              "    .dataframe tbody tr th {\n",
              "        vertical-align: top;\n",
              "    }\n",
              "\n",
              "    .dataframe thead th {\n",
              "        text-align: right;\n",
              "    }\n",
              "</style>\n",
              "<table border=\"1\" class=\"dataframe\">\n",
              "  <thead>\n",
              "    <tr style=\"text-align: right;\">\n",
              "      <th></th>\n",
              "      <th>id</th>\n",
              "      <th>radius_mean</th>\n",
              "      <th>texture_mean</th>\n",
              "      <th>perimeter_mean</th>\n",
              "      <th>area_mean</th>\n",
              "      <th>smoothness_mean</th>\n",
              "      <th>compactness_mean</th>\n",
              "      <th>concavity_mean</th>\n",
              "      <th>concave points_mean</th>\n",
              "      <th>symmetry_mean</th>\n",
              "      <th>...</th>\n",
              "      <th>texture_worst</th>\n",
              "      <th>perimeter_worst</th>\n",
              "      <th>area_worst</th>\n",
              "      <th>smoothness_worst</th>\n",
              "      <th>compactness_worst</th>\n",
              "      <th>concavity_worst</th>\n",
              "      <th>concave points_worst</th>\n",
              "      <th>symmetry_worst</th>\n",
              "      <th>fractal_dimension_worst</th>\n",
              "      <th>diagnosis</th>\n",
              "    </tr>\n",
              "  </thead>\n",
              "  <tbody>\n",
              "    <tr>\n",
              "      <th>106</th>\n",
              "      <td>91505</td>\n",
              "      <td>12.540</td>\n",
              "      <td>16.32</td>\n",
              "      <td>81.25</td>\n",
              "      <td>476.3</td>\n",
              "      <td>0.1158</td>\n",
              "      <td>0.10850</td>\n",
              "      <td>0.05928</td>\n",
              "      <td>0.03279</td>\n",
              "      <td>0.1943</td>\n",
              "      <td>...</td>\n",
              "      <td>21.40</td>\n",
              "      <td>86.67</td>\n",
              "      <td>552.0</td>\n",
              "      <td>0.1580</td>\n",
              "      <td>0.1751</td>\n",
              "      <td>0.1889</td>\n",
              "      <td>0.08411</td>\n",
              "      <td>0.3155</td>\n",
              "      <td>0.07538</td>\n",
              "      <td>B</td>\n",
              "    </tr>\n",
              "    <tr>\n",
              "      <th>500</th>\n",
              "      <td>90524101</td>\n",
              "      <td>17.990</td>\n",
              "      <td>20.66</td>\n",
              "      <td>117.80</td>\n",
              "      <td>991.7</td>\n",
              "      <td>0.1036</td>\n",
              "      <td>0.13040</td>\n",
              "      <td>0.12010</td>\n",
              "      <td>0.08824</td>\n",
              "      <td>0.1992</td>\n",
              "      <td>...</td>\n",
              "      <td>25.41</td>\n",
              "      <td>138.10</td>\n",
              "      <td>1349.0</td>\n",
              "      <td>0.1482</td>\n",
              "      <td>0.3735</td>\n",
              "      <td>0.3301</td>\n",
              "      <td>0.19740</td>\n",
              "      <td>0.3060</td>\n",
              "      <td>0.08503</td>\n",
              "      <td>M</td>\n",
              "    </tr>\n",
              "    <tr>\n",
              "      <th>68</th>\n",
              "      <td>915186</td>\n",
              "      <td>9.268</td>\n",
              "      <td>12.87</td>\n",
              "      <td>61.49</td>\n",
              "      <td>248.7</td>\n",
              "      <td>0.1634</td>\n",
              "      <td>0.22390</td>\n",
              "      <td>0.09730</td>\n",
              "      <td>0.05252</td>\n",
              "      <td>0.2378</td>\n",
              "      <td>...</td>\n",
              "      <td>16.38</td>\n",
              "      <td>69.05</td>\n",
              "      <td>300.2</td>\n",
              "      <td>0.1902</td>\n",
              "      <td>0.3441</td>\n",
              "      <td>0.2099</td>\n",
              "      <td>0.10250</td>\n",
              "      <td>0.3038</td>\n",
              "      <td>0.12520</td>\n",
              "      <td>B</td>\n",
              "    </tr>\n",
              "    <tr>\n",
              "      <th>515</th>\n",
              "      <td>897880</td>\n",
              "      <td>10.050</td>\n",
              "      <td>17.53</td>\n",
              "      <td>64.41</td>\n",
              "      <td>310.8</td>\n",
              "      <td>0.1007</td>\n",
              "      <td>0.07326</td>\n",
              "      <td>0.02511</td>\n",
              "      <td>0.01775</td>\n",
              "      <td>0.1890</td>\n",
              "      <td>...</td>\n",
              "      <td>26.84</td>\n",
              "      <td>71.98</td>\n",
              "      <td>384.0</td>\n",
              "      <td>0.1402</td>\n",
              "      <td>0.1402</td>\n",
              "      <td>0.1055</td>\n",
              "      <td>0.06499</td>\n",
              "      <td>0.2894</td>\n",
              "      <td>0.07664</td>\n",
              "      <td>B</td>\n",
              "    </tr>\n",
              "    <tr>\n",
              "      <th>138</th>\n",
              "      <td>881046502</td>\n",
              "      <td>20.580</td>\n",
              "      <td>22.14</td>\n",
              "      <td>134.70</td>\n",
              "      <td>1290.0</td>\n",
              "      <td>0.0909</td>\n",
              "      <td>0.13480</td>\n",
              "      <td>0.16400</td>\n",
              "      <td>0.09561</td>\n",
              "      <td>0.1765</td>\n",
              "      <td>...</td>\n",
              "      <td>27.84</td>\n",
              "      <td>158.30</td>\n",
              "      <td>1656.0</td>\n",
              "      <td>0.1178</td>\n",
              "      <td>0.2920</td>\n",
              "      <td>0.3861</td>\n",
              "      <td>0.19200</td>\n",
              "      <td>0.2909</td>\n",
              "      <td>0.05865</td>\n",
              "      <td>M</td>\n",
              "    </tr>\n",
              "  </tbody>\n",
              "</table>\n",
              "<p>5 rows × 32 columns</p>\n",
              "</div>\n",
              "      <button class=\"colab-df-convert\" onclick=\"convertToInteractive('df-33e4b062-101d-4c06-b442-eb0bdcbbc32a')\"\n",
              "              title=\"Convert this dataframe to an interactive table.\"\n",
              "              style=\"display:none;\">\n",
              "        \n",
              "  <svg xmlns=\"http://www.w3.org/2000/svg\" height=\"24px\"viewBox=\"0 0 24 24\"\n",
              "       width=\"24px\">\n",
              "    <path d=\"M0 0h24v24H0V0z\" fill=\"none\"/>\n",
              "    <path d=\"M18.56 5.44l.94 2.06.94-2.06 2.06-.94-2.06-.94-.94-2.06-.94 2.06-2.06.94zm-11 1L8.5 8.5l.94-2.06 2.06-.94-2.06-.94L8.5 2.5l-.94 2.06-2.06.94zm10 10l.94 2.06.94-2.06 2.06-.94-2.06-.94-.94-2.06-.94 2.06-2.06.94z\"/><path d=\"M17.41 7.96l-1.37-1.37c-.4-.4-.92-.59-1.43-.59-.52 0-1.04.2-1.43.59L10.3 9.45l-7.72 7.72c-.78.78-.78 2.05 0 2.83L4 21.41c.39.39.9.59 1.41.59.51 0 1.02-.2 1.41-.59l7.78-7.78 2.81-2.81c.8-.78.8-2.07 0-2.86zM5.41 20L4 18.59l7.72-7.72 1.47 1.35L5.41 20z\"/>\n",
              "  </svg>\n",
              "      </button>\n",
              "      \n",
              "  <style>\n",
              "    .colab-df-container {\n",
              "      display:flex;\n",
              "      flex-wrap:wrap;\n",
              "      gap: 12px;\n",
              "    }\n",
              "\n",
              "    .colab-df-convert {\n",
              "      background-color: #E8F0FE;\n",
              "      border: none;\n",
              "      border-radius: 50%;\n",
              "      cursor: pointer;\n",
              "      display: none;\n",
              "      fill: #1967D2;\n",
              "      height: 32px;\n",
              "      padding: 0 0 0 0;\n",
              "      width: 32px;\n",
              "    }\n",
              "\n",
              "    .colab-df-convert:hover {\n",
              "      background-color: #E2EBFA;\n",
              "      box-shadow: 0px 1px 2px rgba(60, 64, 67, 0.3), 0px 1px 3px 1px rgba(60, 64, 67, 0.15);\n",
              "      fill: #174EA6;\n",
              "    }\n",
              "\n",
              "    [theme=dark] .colab-df-convert {\n",
              "      background-color: #3B4455;\n",
              "      fill: #D2E3FC;\n",
              "    }\n",
              "\n",
              "    [theme=dark] .colab-df-convert:hover {\n",
              "      background-color: #434B5C;\n",
              "      box-shadow: 0px 1px 3px 1px rgba(0, 0, 0, 0.15);\n",
              "      filter: drop-shadow(0px 1px 2px rgba(0, 0, 0, 0.3));\n",
              "      fill: #FFFFFF;\n",
              "    }\n",
              "  </style>\n",
              "\n",
              "      <script>\n",
              "        const buttonEl =\n",
              "          document.querySelector('#df-33e4b062-101d-4c06-b442-eb0bdcbbc32a button.colab-df-convert');\n",
              "        buttonEl.style.display =\n",
              "          google.colab.kernel.accessAllowed ? 'block' : 'none';\n",
              "\n",
              "        async function convertToInteractive(key) {\n",
              "          const element = document.querySelector('#df-33e4b062-101d-4c06-b442-eb0bdcbbc32a');\n",
              "          const dataTable =\n",
              "            await google.colab.kernel.invokeFunction('convertToInteractive',\n",
              "                                                     [key], {});\n",
              "          if (!dataTable) return;\n",
              "\n",
              "          const docLinkHtml = 'Like what you see? Visit the ' +\n",
              "            '<a target=\"_blank\" href=https://colab.research.google.com/notebooks/data_table.ipynb>data table notebook</a>'\n",
              "            + ' to learn more about interactive tables.';\n",
              "          element.innerHTML = '';\n",
              "          dataTable['output_type'] = 'display_data';\n",
              "          await google.colab.output.renderOutput(dataTable, element);\n",
              "          const docLink = document.createElement('div');\n",
              "          docLink.innerHTML = docLinkHtml;\n",
              "          element.appendChild(docLink);\n",
              "        }\n",
              "      </script>\n",
              "    </div>\n",
              "  </div>\n",
              "  "
            ]
          },
          "metadata": {},
          "execution_count": 122
        }
      ]
    },
    {
      "cell_type": "code",
      "source": [
        "new_breast.head()"
      ],
      "metadata": {
        "colab": {
          "base_uri": "https://localhost:8080/",
          "height": 317
        },
        "id": "CzoIeswp2Iso",
        "outputId": "2e7e81e5-c04a-4749-9312-2798815d578b"
      },
      "execution_count": 123,
      "outputs": [
        {
          "output_type": "execute_result",
          "data": {
            "text/plain": [
              "           id  radius_mean  texture_mean  perimeter_mean  area_mean  \\\n",
              "215    904689        12.96         18.29           84.18      525.2   \n",
              "39     902975        12.21         14.09           78.78      462.0   \n",
              "99     871201        19.59         18.15          130.70     1214.0   \n",
              "70     846226        19.17         24.80          132.40     1123.0   \n",
              "264  90769601        11.13         16.62           70.47      381.1   \n",
              "\n",
              "     smoothness_mean  compactness_mean  concavity_mean  concave points_mean  \\\n",
              "215          0.07351           0.07899         0.04057              0.01883   \n",
              "39           0.08108           0.07823         0.06839              0.02534   \n",
              "99           0.11200           0.16660         0.25080              0.12860   \n",
              "70           0.09740           0.24580         0.20650              0.11180   \n",
              "264          0.08151           0.03834         0.01369              0.01370   \n",
              "\n",
              "     symmetry_mean  ...  texture_worst  perimeter_worst  area_worst  \\\n",
              "215         0.1874  ...          24.61            96.31       621.9   \n",
              "39          0.1646  ...          19.29            87.65       529.9   \n",
              "99          0.2027  ...          26.39           174.90      2232.0   \n",
              "70          0.2397  ...          29.94           151.70      1332.0   \n",
              "264         0.1511  ...          20.29            74.35       421.1   \n",
              "\n",
              "     smoothness_worst  compactness_worst  concavity_worst  \\\n",
              "215           0.09329            0.23180           0.1604   \n",
              "39            0.10260            0.24310           0.3076   \n",
              "99            0.14380            0.38460           0.6810   \n",
              "70            0.10370            0.39030           0.3639   \n",
              "264           0.10300            0.06219           0.0458   \n",
              "\n",
              "     concave points_worst  symmetry_worst  fractal_dimension_worst  diagnosis  \n",
              "215               0.06608          0.3207                  0.07247          ?  \n",
              "39                0.09140          0.2677                  0.08824          ?  \n",
              "99                0.22470          0.3643                  0.09223          ?  \n",
              "70                0.17670          0.3176                  0.10230          ?  \n",
              "264               0.04044          0.2383                  0.07083          ?  \n",
              "\n",
              "[5 rows x 32 columns]"
            ],
            "text/html": [
              "\n",
              "  <div id=\"df-f66e98f5-201c-4b9a-b8a8-5054ebf480bf\">\n",
              "    <div class=\"colab-df-container\">\n",
              "      <div>\n",
              "<style scoped>\n",
              "    .dataframe tbody tr th:only-of-type {\n",
              "        vertical-align: middle;\n",
              "    }\n",
              "\n",
              "    .dataframe tbody tr th {\n",
              "        vertical-align: top;\n",
              "    }\n",
              "\n",
              "    .dataframe thead th {\n",
              "        text-align: right;\n",
              "    }\n",
              "</style>\n",
              "<table border=\"1\" class=\"dataframe\">\n",
              "  <thead>\n",
              "    <tr style=\"text-align: right;\">\n",
              "      <th></th>\n",
              "      <th>id</th>\n",
              "      <th>radius_mean</th>\n",
              "      <th>texture_mean</th>\n",
              "      <th>perimeter_mean</th>\n",
              "      <th>area_mean</th>\n",
              "      <th>smoothness_mean</th>\n",
              "      <th>compactness_mean</th>\n",
              "      <th>concavity_mean</th>\n",
              "      <th>concave points_mean</th>\n",
              "      <th>symmetry_mean</th>\n",
              "      <th>...</th>\n",
              "      <th>texture_worst</th>\n",
              "      <th>perimeter_worst</th>\n",
              "      <th>area_worst</th>\n",
              "      <th>smoothness_worst</th>\n",
              "      <th>compactness_worst</th>\n",
              "      <th>concavity_worst</th>\n",
              "      <th>concave points_worst</th>\n",
              "      <th>symmetry_worst</th>\n",
              "      <th>fractal_dimension_worst</th>\n",
              "      <th>diagnosis</th>\n",
              "    </tr>\n",
              "  </thead>\n",
              "  <tbody>\n",
              "    <tr>\n",
              "      <th>215</th>\n",
              "      <td>904689</td>\n",
              "      <td>12.96</td>\n",
              "      <td>18.29</td>\n",
              "      <td>84.18</td>\n",
              "      <td>525.2</td>\n",
              "      <td>0.07351</td>\n",
              "      <td>0.07899</td>\n",
              "      <td>0.04057</td>\n",
              "      <td>0.01883</td>\n",
              "      <td>0.1874</td>\n",
              "      <td>...</td>\n",
              "      <td>24.61</td>\n",
              "      <td>96.31</td>\n",
              "      <td>621.9</td>\n",
              "      <td>0.09329</td>\n",
              "      <td>0.23180</td>\n",
              "      <td>0.1604</td>\n",
              "      <td>0.06608</td>\n",
              "      <td>0.3207</td>\n",
              "      <td>0.07247</td>\n",
              "      <td>?</td>\n",
              "    </tr>\n",
              "    <tr>\n",
              "      <th>39</th>\n",
              "      <td>902975</td>\n",
              "      <td>12.21</td>\n",
              "      <td>14.09</td>\n",
              "      <td>78.78</td>\n",
              "      <td>462.0</td>\n",
              "      <td>0.08108</td>\n",
              "      <td>0.07823</td>\n",
              "      <td>0.06839</td>\n",
              "      <td>0.02534</td>\n",
              "      <td>0.1646</td>\n",
              "      <td>...</td>\n",
              "      <td>19.29</td>\n",
              "      <td>87.65</td>\n",
              "      <td>529.9</td>\n",
              "      <td>0.10260</td>\n",
              "      <td>0.24310</td>\n",
              "      <td>0.3076</td>\n",
              "      <td>0.09140</td>\n",
              "      <td>0.2677</td>\n",
              "      <td>0.08824</td>\n",
              "      <td>?</td>\n",
              "    </tr>\n",
              "    <tr>\n",
              "      <th>99</th>\n",
              "      <td>871201</td>\n",
              "      <td>19.59</td>\n",
              "      <td>18.15</td>\n",
              "      <td>130.70</td>\n",
              "      <td>1214.0</td>\n",
              "      <td>0.11200</td>\n",
              "      <td>0.16660</td>\n",
              "      <td>0.25080</td>\n",
              "      <td>0.12860</td>\n",
              "      <td>0.2027</td>\n",
              "      <td>...</td>\n",
              "      <td>26.39</td>\n",
              "      <td>174.90</td>\n",
              "      <td>2232.0</td>\n",
              "      <td>0.14380</td>\n",
              "      <td>0.38460</td>\n",
              "      <td>0.6810</td>\n",
              "      <td>0.22470</td>\n",
              "      <td>0.3643</td>\n",
              "      <td>0.09223</td>\n",
              "      <td>?</td>\n",
              "    </tr>\n",
              "    <tr>\n",
              "      <th>70</th>\n",
              "      <td>846226</td>\n",
              "      <td>19.17</td>\n",
              "      <td>24.80</td>\n",
              "      <td>132.40</td>\n",
              "      <td>1123.0</td>\n",
              "      <td>0.09740</td>\n",
              "      <td>0.24580</td>\n",
              "      <td>0.20650</td>\n",
              "      <td>0.11180</td>\n",
              "      <td>0.2397</td>\n",
              "      <td>...</td>\n",
              "      <td>29.94</td>\n",
              "      <td>151.70</td>\n",
              "      <td>1332.0</td>\n",
              "      <td>0.10370</td>\n",
              "      <td>0.39030</td>\n",
              "      <td>0.3639</td>\n",
              "      <td>0.17670</td>\n",
              "      <td>0.3176</td>\n",
              "      <td>0.10230</td>\n",
              "      <td>?</td>\n",
              "    </tr>\n",
              "    <tr>\n",
              "      <th>264</th>\n",
              "      <td>90769601</td>\n",
              "      <td>11.13</td>\n",
              "      <td>16.62</td>\n",
              "      <td>70.47</td>\n",
              "      <td>381.1</td>\n",
              "      <td>0.08151</td>\n",
              "      <td>0.03834</td>\n",
              "      <td>0.01369</td>\n",
              "      <td>0.01370</td>\n",
              "      <td>0.1511</td>\n",
              "      <td>...</td>\n",
              "      <td>20.29</td>\n",
              "      <td>74.35</td>\n",
              "      <td>421.1</td>\n",
              "      <td>0.10300</td>\n",
              "      <td>0.06219</td>\n",
              "      <td>0.0458</td>\n",
              "      <td>0.04044</td>\n",
              "      <td>0.2383</td>\n",
              "      <td>0.07083</td>\n",
              "      <td>?</td>\n",
              "    </tr>\n",
              "  </tbody>\n",
              "</table>\n",
              "<p>5 rows × 32 columns</p>\n",
              "</div>\n",
              "      <button class=\"colab-df-convert\" onclick=\"convertToInteractive('df-f66e98f5-201c-4b9a-b8a8-5054ebf480bf')\"\n",
              "              title=\"Convert this dataframe to an interactive table.\"\n",
              "              style=\"display:none;\">\n",
              "        \n",
              "  <svg xmlns=\"http://www.w3.org/2000/svg\" height=\"24px\"viewBox=\"0 0 24 24\"\n",
              "       width=\"24px\">\n",
              "    <path d=\"M0 0h24v24H0V0z\" fill=\"none\"/>\n",
              "    <path d=\"M18.56 5.44l.94 2.06.94-2.06 2.06-.94-2.06-.94-.94-2.06-.94 2.06-2.06.94zm-11 1L8.5 8.5l.94-2.06 2.06-.94-2.06-.94L8.5 2.5l-.94 2.06-2.06.94zm10 10l.94 2.06.94-2.06 2.06-.94-2.06-.94-.94-2.06-.94 2.06-2.06.94z\"/><path d=\"M17.41 7.96l-1.37-1.37c-.4-.4-.92-.59-1.43-.59-.52 0-1.04.2-1.43.59L10.3 9.45l-7.72 7.72c-.78.78-.78 2.05 0 2.83L4 21.41c.39.39.9.59 1.41.59.51 0 1.02-.2 1.41-.59l7.78-7.78 2.81-2.81c.8-.78.8-2.07 0-2.86zM5.41 20L4 18.59l7.72-7.72 1.47 1.35L5.41 20z\"/>\n",
              "  </svg>\n",
              "      </button>\n",
              "      \n",
              "  <style>\n",
              "    .colab-df-container {\n",
              "      display:flex;\n",
              "      flex-wrap:wrap;\n",
              "      gap: 12px;\n",
              "    }\n",
              "\n",
              "    .colab-df-convert {\n",
              "      background-color: #E8F0FE;\n",
              "      border: none;\n",
              "      border-radius: 50%;\n",
              "      cursor: pointer;\n",
              "      display: none;\n",
              "      fill: #1967D2;\n",
              "      height: 32px;\n",
              "      padding: 0 0 0 0;\n",
              "      width: 32px;\n",
              "    }\n",
              "\n",
              "    .colab-df-convert:hover {\n",
              "      background-color: #E2EBFA;\n",
              "      box-shadow: 0px 1px 2px rgba(60, 64, 67, 0.3), 0px 1px 3px 1px rgba(60, 64, 67, 0.15);\n",
              "      fill: #174EA6;\n",
              "    }\n",
              "\n",
              "    [theme=dark] .colab-df-convert {\n",
              "      background-color: #3B4455;\n",
              "      fill: #D2E3FC;\n",
              "    }\n",
              "\n",
              "    [theme=dark] .colab-df-convert:hover {\n",
              "      background-color: #434B5C;\n",
              "      box-shadow: 0px 1px 3px 1px rgba(0, 0, 0, 0.15);\n",
              "      filter: drop-shadow(0px 1px 2px rgba(0, 0, 0, 0.3));\n",
              "      fill: #FFFFFF;\n",
              "    }\n",
              "  </style>\n",
              "\n",
              "      <script>\n",
              "        const buttonEl =\n",
              "          document.querySelector('#df-f66e98f5-201c-4b9a-b8a8-5054ebf480bf button.colab-df-convert');\n",
              "        buttonEl.style.display =\n",
              "          google.colab.kernel.accessAllowed ? 'block' : 'none';\n",
              "\n",
              "        async function convertToInteractive(key) {\n",
              "          const element = document.querySelector('#df-f66e98f5-201c-4b9a-b8a8-5054ebf480bf');\n",
              "          const dataTable =\n",
              "            await google.colab.kernel.invokeFunction('convertToInteractive',\n",
              "                                                     [key], {});\n",
              "          if (!dataTable) return;\n",
              "\n",
              "          const docLinkHtml = 'Like what you see? Visit the ' +\n",
              "            '<a target=\"_blank\" href=https://colab.research.google.com/notebooks/data_table.ipynb>data table notebook</a>'\n",
              "            + ' to learn more about interactive tables.';\n",
              "          element.innerHTML = '';\n",
              "          dataTable['output_type'] = 'display_data';\n",
              "          await google.colab.output.renderOutput(dataTable, element);\n",
              "          const docLink = document.createElement('div');\n",
              "          docLink.innerHTML = docLinkHtml;\n",
              "          element.appendChild(docLink);\n",
              "        }\n",
              "      </script>\n",
              "    </div>\n",
              "  </div>\n",
              "  "
            ]
          },
          "metadata": {},
          "execution_count": 123
        }
      ]
    },
    {
      "cell_type": "markdown",
      "source": [
        "# Exercício\n",
        "\n",
        "Empregue a regressão logística (`max_iter=10000`) para classificar os casos como malignos ou benignos. \n",
        "\n",
        "* Empregue os seguintes parâmetros para separação dos conjuntos de treinamento e teste `test_size=0.3, stratify=y, random_state=1`. \n",
        "* Observe, ao menos um atributo não pode ser empregado no treinamento.\n",
        "* Faça a normalização dos dados (por simplicidade, sendo todos valores positivos, divida o valor de cada atributo pelo maior da coluna).\n",
        "* Não empregue outros parâmetros não informados aqui pois os resultados podem divergir. \n",
        "\n",
        "Analise o desempenho do modelo obtido e em seguida empregue para determinar o diagnóstico provável dos novos casos (`new_breast`). \n",
        "\n",
        "(\\*) **Atenção:** *Na predição, não esqueça de aplicar a *mesma* transformação (a normalização) empregada durante o treinamento!*"
      ],
      "metadata": {
        "id": "bFqOk91JkJv6"
      }
    },
    {
      "cell_type": "code",
      "source": [
        "from sklearn.linear_model import LogisticRegression\n",
        "from sklearn.neighbors import KNeighborsClassifier\n",
        "from sklearn.preprocessing import MinMaxScaler\n",
        "from sklearn.model_selection import train_test_split"
      ],
      "metadata": {
        "id": "8X8ZaJ0EtnR6"
      },
      "execution_count": 124,
      "outputs": []
    },
    {
      "cell_type": "code",
      "source": [
        "# Entradas e Saídas\n",
        "X = breast.drop(columns=['id','diagnosis'])\n",
        "y = breast['diagnosis']\n",
        "\n",
        "# Separação dos Conjuntos de Treinamento e Teste\n",
        "X_train, X_test, y_train, y_test = train_test_split(X, y, stratify=y, test_size=0.3, random_state=1)\n",
        "\n",
        "# Normalizar cada coluna em X_train\n",
        "X_normalized = X_train.copy()\n",
        "for column in X_normalized.columns:\n",
        "    max_value = X_train[column].max()\n",
        "    X_normalized[column] = X_normalized[column] / max_value\n",
        "\n",
        "\n",
        "clf = LogisticRegression(max_iter=10000)\n",
        "clf.fit(X_normalized,y_train)\n",
        "print( clf.coef_, clf.intercept_)"
      ],
      "metadata": {
        "colab": {
          "base_uri": "https://localhost:8080/"
        },
        "id": "t328oTBskaI6",
        "outputId": "a0c70853-96e0-4c28-d6c7-5f03fca46c06"
      },
      "execution_count": 125,
      "outputs": [
        {
          "output_type": "stream",
          "name": "stdout",
          "text": [
            "[[ 1.40505433  1.41665823  1.36803013  1.45204743  0.28808121  0.05213045\n",
            "   1.29708989  1.82117419  0.32975809 -0.69379123  1.23606701  0.29275488\n",
            "   1.01733609  0.75131598 -0.05145214 -0.45344344 -0.09791563  0.62407306\n",
            "  -0.4522894  -0.76998709  1.73662818  1.66804379  1.63161914  1.54505482\n",
            "   0.86078227  0.70183173  1.37911992  2.54710954  1.04716802 -0.01121393]] [-9.42772633]\n"
          ]
        }
      ]
    },
    {
      "cell_type": "code",
      "source": [
        "# Predição\n",
        "\n",
        "# Normalizar cada coluna em X_normalized_TEST\n",
        "X_normalized_TEST = X_test.copy()\n",
        "for column in X_normalized_TEST.columns:\n",
        "    max_value = X_train[column].max()\n",
        "    X_normalized_TEST[column] = X_normalized_TEST[column] / max_value\n",
        "y_pred = clf.predict(X_normalized_TEST)\n",
        "\n",
        "# Métricas\n",
        "from sklearn.metrics import confusion_matrix\n",
        "from sklearn.metrics import accuracy_score\n",
        "from sklearn.metrics import classification_report\n",
        "\n",
        "cm = confusion_matrix(y_test, y_pred)\n",
        "print('\\nMatriz de Confusão:\\n')\n",
        "print(cm)\n",
        "    \n",
        "accuracy = accuracy_score(y_test, y_pred)\n",
        "print('\\nScore de Acuracidade (1):\\n')\n",
        "print(f'{accuracy:.4f}')\n",
        "\n",
        "print('\\n', clf)\n",
        "\n",
        "accuracy = clf.score(X_normalized_TEST, y_test)\n",
        "print('\\nScore de Acuracidade (2):\\n')\n",
        "print(f'{accuracy:.4f}')\n",
        "\n",
        "print('\\nClassification Report:\\n')\n",
        "print(classification_report(y_test, y_pred))"
      ],
      "metadata": {
        "id": "VFuT_mSft134",
        "outputId": "2a94a346-df84-4b73-b3de-77a3cdce6b4c",
        "colab": {
          "base_uri": "https://localhost:8080/"
        }
      },
      "execution_count": 126,
      "outputs": [
        {
          "output_type": "stream",
          "name": "stdout",
          "text": [
            "\n",
            "Matriz de Confusão:\n",
            "\n",
            "[[82  0]\n",
            " [ 3 45]]\n",
            "\n",
            "Score de Acuracidade (1):\n",
            "\n",
            "0.9769\n",
            "\n",
            " LogisticRegression(max_iter=10000)\n",
            "\n",
            "Score de Acuracidade (2):\n",
            "\n",
            "0.9769\n",
            "\n",
            "Classification Report:\n",
            "\n",
            "              precision    recall  f1-score   support\n",
            "\n",
            "           B       0.96      1.00      0.98        82\n",
            "           M       1.00      0.94      0.97        48\n",
            "\n",
            "    accuracy                           0.98       130\n",
            "   macro avg       0.98      0.97      0.97       130\n",
            "weighted avg       0.98      0.98      0.98       130\n",
            "\n"
          ]
        }
      ]
    },
    {
      "cell_type": "markdown",
      "source": [
        "Q1. Qual a acuracidade geral do modelo?\n",
        "\n",
        "Q2. Qual a precisão obtida para classe M? \n",
        "\n",
        "Q3. Qual classe teve Falso Positivos? Qual o percentual de Falso Positivos para essa classe?\n",
        "\n",
        "Q4. Qual classe não teve todos as instâncias identificadas corretamente? Qual o percentual de Falso Negativos para essa classe?\n",
        "\n",
        "Q5. Quantos casos benignos e malignos classificados nos novos casos? \n",
        "\n",
        "\n"
      ],
      "metadata": {
        "id": "iDbVXdDa_Hk-"
      }
    },
    {
      "cell_type": "code",
      "source": [
        "# Entradas e Saídas\n",
        "X2 = new_breast.drop(columns=['id','diagnosis'])\n"
      ],
      "metadata": {
        "id": "YIajaNvL-Uzy"
      },
      "execution_count": 127,
      "outputs": []
    },
    {
      "cell_type": "code",
      "source": [
        "# Predição\n",
        "# Normalizar cada coluna em X2\n",
        "X2_normalized = X2.copy()\n",
        "for column in X2_normalized.columns:\n",
        "    max_value = X_train[column].max()\n",
        "    X2_normalized[column] = X2_normalized[column] / max_value\n",
        "pred = clf.predict(X2_normalized)\n"
      ],
      "metadata": {
        "id": "KkdRTUB1-mHu"
      },
      "execution_count": 128,
      "outputs": []
    },
    {
      "cell_type": "code",
      "source": [
        "pred"
      ],
      "metadata": {
        "id": "axOJZMzu_ZDc",
        "outputId": "d7e0858d-c796-40d3-edd7-70ca7790721f",
        "colab": {
          "base_uri": "https://localhost:8080/"
        }
      },
      "execution_count": 129,
      "outputs": [
        {
          "output_type": "execute_result",
          "data": {
            "text/plain": [
              "array(['B', 'B', 'M', 'M', 'B', 'M', 'M', 'B', 'M', 'B', 'B', 'B', 'B',\n",
              "       'B', 'B', 'B', 'B', 'B', 'B', 'M', 'B', 'M', 'M', 'B', 'B', 'M',\n",
              "       'B', 'B', 'B', 'B', 'B', 'B', 'B', 'B', 'M', 'B', 'B', 'B', 'M',\n",
              "       'B', 'M', 'M', 'M', 'B', 'B', 'B', 'B', 'B', 'B', 'M', 'M', 'B',\n",
              "       'M', 'B', 'B', 'M', 'B', 'B', 'B', 'M', 'M', 'B', 'B', 'B', 'B',\n",
              "       'B', 'M', 'M', 'B', 'M', 'B', 'B', 'B', 'B', 'B', 'B', 'B', 'B',\n",
              "       'M', 'B', 'B', 'M', 'M', 'M', 'B', 'B', 'M', 'B', 'M', 'B', 'M',\n",
              "       'M', 'B', 'B', 'B', 'B', 'M', 'B', 'M', 'M', 'B', 'M', 'M', 'B',\n",
              "       'B', 'M', 'B', 'B'], dtype=object)"
            ]
          },
          "metadata": {},
          "execution_count": 129
        }
      ]
    },
    {
      "cell_type": "code",
      "source": [
        "print(sum( pred == 'B'),sum( pred == 'M'))"
      ],
      "metadata": {
        "id": "J0AuSzvS_7Vu",
        "outputId": "5a1b1c35-2ec2-4d5e-9371-1a16ef3ed1b1",
        "colab": {
          "base_uri": "https://localhost:8080/"
        }
      },
      "execution_count": 130,
      "outputs": [
        {
          "output_type": "stream",
          "name": "stdout",
          "text": [
            "71 37\n"
          ]
        }
      ]
    },
    {
      "cell_type": "code",
      "source": [
        "new_breast.shape[0]"
      ],
      "metadata": {
        "id": "ls_DxhtVAQVa",
        "outputId": "ad2f32da-b50a-435f-b171-844cf7f0c6bb",
        "colab": {
          "base_uri": "https://localhost:8080/"
        }
      },
      "execution_count": 131,
      "outputs": [
        {
          "output_type": "execute_result",
          "data": {
            "text/plain": [
              "108"
            ]
          },
          "metadata": {},
          "execution_count": 131
        }
      ]
    },
    {
      "cell_type": "markdown",
      "source": [
        "# Exercício\n",
        "\n",
        "Empregue agora o modelo de K-vizinhos mais próximos, para k=3 e k=5 e analise o desempenho de cada modelo. Em seguida empregue o melhor modelo Knn para determinar o diagnóstico provável dos novos casos. \n",
        "\n",
        "* Empregue os mesmos dados de treinamento e teste empregados antes."
      ],
      "metadata": {
        "id": "T5kQDEQzBz3b"
      }
    },
    {
      "cell_type": "code",
      "source": [
        "from sklearn import neighbors"
      ],
      "metadata": {
        "id": "uPV1r3VMBz3j"
      },
      "execution_count": 132,
      "outputs": []
    },
    {
      "cell_type": "code",
      "source": [
        "clf = neighbors.KNeighborsClassifier(n_neighbors = 3)\n",
        "\n",
        "# Normalizar cada coluna em X_train\n",
        "X_normalized = X_train.copy()\n",
        "for column in X_normalized.columns:\n",
        "    max_value = X_train[column].max()\n",
        "    X_normalized[column] = X_normalized[column] / max_value\n",
        "# Normalizar cada coluna em X_normalized_TEST\n",
        "X_normalized_TEST = X_test.copy()\n",
        "for column in X_normalized_TEST.columns:\n",
        "    max_value = X_train[column].max()\n",
        "    X_normalized_TEST[column] = X_normalized_TEST[column] / max_value\n",
        "\n",
        "clf.fit(X_normalized,y_train)                 \n",
        "\n",
        "y_pred = clf.predict(X_normalized_TEST)\n",
        "\n",
        "cm = confusion_matrix(y_test, y_pred)\n",
        "print('\\nMatriz de Confusão:\\n')\n",
        "print(cm)\n",
        "    \n",
        "accuracy = accuracy_score(y_test, y_pred)\n",
        "print('\\nScore de Acuracidade (1):\\n')\n",
        "print(f'{accuracy:.4f}')\n",
        "\n",
        "print('\\n', clf)\n",
        "\n",
        "accuracy = clf.score(X_normalized_TEST, y_test)\n",
        "print('\\nScore de Acuracidade (2):\\n')\n",
        "print(f'{accuracy:.4f}')\n",
        "\n",
        "print('\\nClassification Report:\\n')\n",
        "print(classification_report(y_test, y_pred))"
      ],
      "metadata": {
        "colab": {
          "base_uri": "https://localhost:8080/"
        },
        "id": "SWsp31QHDyg7",
        "outputId": "949c03a3-464e-494b-dacf-8ebc4ac3608d"
      },
      "execution_count": 143,
      "outputs": [
        {
          "output_type": "stream",
          "name": "stdout",
          "text": [
            "\n",
            "Matriz de Confusão:\n",
            "\n",
            "[[82  0]\n",
            " [ 1 47]]\n",
            "\n",
            "Score de Acuracidade (1):\n",
            "\n",
            "0.9923\n",
            "\n",
            " KNeighborsClassifier(n_neighbors=3)\n",
            "\n",
            "Score de Acuracidade (2):\n",
            "\n",
            "0.9923\n",
            "\n",
            "Classification Report:\n",
            "\n",
            "              precision    recall  f1-score   support\n",
            "\n",
            "           B       0.99      1.00      0.99        82\n",
            "           M       1.00      0.98      0.99        48\n",
            "\n",
            "    accuracy                           0.99       130\n",
            "   macro avg       0.99      0.99      0.99       130\n",
            "weighted avg       0.99      0.99      0.99       130\n",
            "\n"
          ]
        }
      ]
    },
    {
      "cell_type": "code",
      "source": [
        "clf = neighbors.KNeighborsClassifier(n_neighbors = 5)\n",
        "\n",
        "# Normalizar cada coluna em X_train\n",
        "X_normalized = X_train.copy()\n",
        "for column in X_normalized.columns:\n",
        "    max_value = X_train[column].max()\n",
        "    X_normalized[column] = X_normalized[column] / max_value\n",
        "# Normalizar cada coluna em X_normalized_TEST\n",
        "X_normalized_TEST = X_test.copy()\n",
        "for column in X_normalized_TEST.columns:\n",
        "    max_value = X_train[column].max()\n",
        "    X_normalized_TEST[column] = X_normalized_TEST[column] / max_value\n",
        "clf.fit(X_normalized,y_train)                 \n",
        "\n",
        "y_pred = clf.predict(X_normalized_TEST)\n",
        "\n",
        "cm = confusion_matrix(y_test, y_pred)\n",
        "print('\\nMatriz de Confusão:\\n')\n",
        "print(cm)\n",
        "    \n",
        "accuracy = accuracy_score(y_test, y_pred)\n",
        "print('\\nScore de Acuracidade (1):\\n')\n",
        "print(f'{accuracy:.4f}')\n",
        "\n",
        "print('\\n', clf)\n",
        "\n",
        "accuracy = clf.score(X_normalized_TEST, y_test)\n",
        "print('\\nScore de Acuracidade (2):\\n')\n",
        "print(f'{accuracy:.4f}')\n",
        "\n",
        "print('\\nClassification Report:\\n')\n",
        "print(classification_report(y_test, y_pred))"
      ],
      "metadata": {
        "colab": {
          "base_uri": "https://localhost:8080/"
        },
        "id": "xPNQx6ycEWD0",
        "outputId": "79b7c245-e61f-4e19-8a63-5a4689f23683"
      },
      "execution_count": 142,
      "outputs": [
        {
          "output_type": "stream",
          "name": "stdout",
          "text": [
            "\n",
            "Matriz de Confusão:\n",
            "\n",
            "[[82  0]\n",
            " [ 2 46]]\n",
            "\n",
            "Score de Acuracidade (1):\n",
            "\n",
            "0.9846\n",
            "\n",
            " KNeighborsClassifier()\n",
            "\n",
            "Score de Acuracidade (2):\n",
            "\n",
            "0.9846\n",
            "\n",
            "Classification Report:\n",
            "\n",
            "              precision    recall  f1-score   support\n",
            "\n",
            "           B       0.98      1.00      0.99        82\n",
            "           M       1.00      0.96      0.98        48\n",
            "\n",
            "    accuracy                           0.98       130\n",
            "   macro avg       0.99      0.98      0.98       130\n",
            "weighted avg       0.98      0.98      0.98       130\n",
            "\n"
          ]
        }
      ]
    },
    {
      "cell_type": "code",
      "source": [
        "# Entradas e Saídas\n",
        "X2 = new_breast.drop(columns=['id','diagnosis'])\n",
        "\n",
        "# Predição\n",
        "\n",
        "X2_normalized = X2.copy()\n",
        "for column in X2_normalized.columns:\n",
        "    max_value = X_train[column].max()\n",
        "    X2_normalized[column] = X2_normalized[column] / max_value\n",
        "\n",
        "pred = clf.predict(X2_normalized)\n",
        "print(sum( pred == 'B'),sum( pred == 'M'))"
      ],
      "metadata": {
        "colab": {
          "base_uri": "https://localhost:8080/"
        },
        "id": "6BIXHtCCFNeQ",
        "outputId": "ea4465dd-7c27-4d24-b68c-42eab59c2149"
      },
      "execution_count": 144,
      "outputs": [
        {
          "output_type": "stream",
          "name": "stdout",
          "text": [
            "67 41\n"
          ]
        }
      ]
    },
    {
      "cell_type": "markdown",
      "source": [
        "Q6. Qual o melhor k e a acuracidade do melhor modelo Knn?\n",
        "\n",
        "Q7. Para k=5, há quantos Falso Positivos e Falsos Negativos da classe B?\n",
        "\n",
        "Q8. Para k=3, há quantos Falso Positivos e Falsos Negativos da classe B no melhor modelo Knn?\n",
        "\n",
        "Q9. Para k=3, há quantos Falso Positivos e Falsos Negativos da classe M no melhor modelo Knn?\n",
        "\n",
        "Q10. Podemos concluir desses testes que modelos K-vizinhos mais Próximos são melhores que modelos de Regressão Logística.\n",
        "\n",
        "Q11. Podemos concluir desses testes que quanto maior o K, melhores os modelos de K-vizinhos mais Próximos.\n",
        "\n",
        "Q12. Quantos casos benignos e malignos classificados nos novos casos com o melhor modelo de Knn? \n"
      ],
      "metadata": {
        "id": "HYwALxfGDDno"
      }
    }
  ]
}