{
 "cells": [
  {
   "cell_type": "code",
   "execution_count": 1,
   "metadata": {
    "collapsed": true
   },
   "outputs": [],
   "source": [
    "import numpy as np\n",
    "import pandas as pd\n",
    "\n",
    "path = 'https://github.com/Rogerio-mack/IMT_Ciencia_de_Dados/raw/main/data/'"
   ]
  },
  {
   "cell_type": "markdown",
   "source": [
    "CASE: Gapminder\n",
    "\n",
    "Os dados dos exercícios a seguir tem como fonte o site Gapmider."
   ],
   "metadata": {
    "collapsed": false
   }
  },
  {
   "cell_type": "markdown",
   "source": [
    "Q0. Inspecione os dados.\n",
    "Inspecione as bases de dados antes de prosseguir. Acesse e faça ao menos um head() de cada conjunto de dados."
   ],
   "metadata": {
    "collapsed": false
   }
  },
  {
   "cell_type": "code",
   "execution_count": 133,
   "outputs": [
    {
     "data": {
      "text/plain": "  country         name\n0    abkh     Abkhazia\n1     abw        Aruba\n2     afg  Afghanistan\n3     ago       Angola\n4     aia     Anguilla",
      "text/html": "<div>\n<style scoped>\n    .dataframe tbody tr th:only-of-type {\n        vertical-align: middle;\n    }\n\n    .dataframe tbody tr th {\n        vertical-align: top;\n    }\n\n    .dataframe thead th {\n        text-align: right;\n    }\n</style>\n<table border=\"1\" class=\"dataframe\">\n  <thead>\n    <tr style=\"text-align: right;\">\n      <th></th>\n      <th>country</th>\n      <th>name</th>\n    </tr>\n  </thead>\n  <tbody>\n    <tr>\n      <th>0</th>\n      <td>abkh</td>\n      <td>Abkhazia</td>\n    </tr>\n    <tr>\n      <th>1</th>\n      <td>abw</td>\n      <td>Aruba</td>\n    </tr>\n    <tr>\n      <th>2</th>\n      <td>afg</td>\n      <td>Afghanistan</td>\n    </tr>\n    <tr>\n      <th>3</th>\n      <td>ago</td>\n      <td>Angola</td>\n    </tr>\n    <tr>\n      <th>4</th>\n      <td>aia</td>\n      <td>Anguilla</td>\n    </tr>\n  </tbody>\n</table>\n</div>"
     },
     "execution_count": 133,
     "metadata": {},
     "output_type": "execute_result"
    }
   ],
   "source": [
    "paises = pd.read_csv('https://github.com/open-numbers/ddf--gapminder--co2_emission/raw/master/ddf--entities--country.csv')\n",
    "paises.head()"
   ],
   "metadata": {
    "collapsed": false
   }
  },
  {
   "cell_type": "code",
   "execution_count": 132,
   "outputs": [
    {
     "data": {
      "text/plain": "      country  year  yearly_co2_emissions_1000_tonnes\n0         abw  1959                         719.95990\n1         abw  1960                         619.06728\n2         abw  1961                         646.08113\n3         abw  1962                         709.52273\n4         abw  1963                         679.64378\n...       ...   ...                               ...\n20378     zwe  2014                       11971.40630\n20379     zwe  2015                       12173.09130\n20380     zwe  2016                       10816.28203\n20381     zwe  2017                       12035.72697\n20382     zwe  2018                       12272.73824\n\n[20383 rows x 3 columns]",
      "text/html": "<div>\n<style scoped>\n    .dataframe tbody tr th:only-of-type {\n        vertical-align: middle;\n    }\n\n    .dataframe tbody tr th {\n        vertical-align: top;\n    }\n\n    .dataframe thead th {\n        text-align: right;\n    }\n</style>\n<table border=\"1\" class=\"dataframe\">\n  <thead>\n    <tr style=\"text-align: right;\">\n      <th></th>\n      <th>country</th>\n      <th>year</th>\n      <th>yearly_co2_emissions_1000_tonnes</th>\n    </tr>\n  </thead>\n  <tbody>\n    <tr>\n      <th>0</th>\n      <td>abw</td>\n      <td>1959</td>\n      <td>719.95990</td>\n    </tr>\n    <tr>\n      <th>1</th>\n      <td>abw</td>\n      <td>1960</td>\n      <td>619.06728</td>\n    </tr>\n    <tr>\n      <th>2</th>\n      <td>abw</td>\n      <td>1961</td>\n      <td>646.08113</td>\n    </tr>\n    <tr>\n      <th>3</th>\n      <td>abw</td>\n      <td>1962</td>\n      <td>709.52273</td>\n    </tr>\n    <tr>\n      <th>4</th>\n      <td>abw</td>\n      <td>1963</td>\n      <td>679.64378</td>\n    </tr>\n    <tr>\n      <th>...</th>\n      <td>...</td>\n      <td>...</td>\n      <td>...</td>\n    </tr>\n    <tr>\n      <th>20378</th>\n      <td>zwe</td>\n      <td>2014</td>\n      <td>11971.40630</td>\n    </tr>\n    <tr>\n      <th>20379</th>\n      <td>zwe</td>\n      <td>2015</td>\n      <td>12173.09130</td>\n    </tr>\n    <tr>\n      <th>20380</th>\n      <td>zwe</td>\n      <td>2016</td>\n      <td>10816.28203</td>\n    </tr>\n    <tr>\n      <th>20381</th>\n      <td>zwe</td>\n      <td>2017</td>\n      <td>12035.72697</td>\n    </tr>\n    <tr>\n      <th>20382</th>\n      <td>zwe</td>\n      <td>2018</td>\n      <td>12272.73824</td>\n    </tr>\n  </tbody>\n</table>\n<p>20383 rows × 3 columns</p>\n</div>"
     },
     "execution_count": 132,
     "metadata": {},
     "output_type": "execute_result"
    }
   ],
   "source": [
    "emi = pd.read_csv('https://github.com/open-numbers/ddf--gapminder--co2_emission/raw/master/ddf--datapoints--yearly_co2_emissions_1000_tonnes--by--country--year.csv')\n",
    "emi"
   ],
   "metadata": {
    "collapsed": false
   }
  },
  {
   "cell_type": "code",
   "execution_count": 4,
   "outputs": [
    {
     "data": {
      "text/plain": "         geo  year  coal_electricity_generation_twh\n0  argentina  1985                            0.607\n1  argentina  1986                            1.013\n2  argentina  1987                            1.016\n3  argentina  1988                            1.586\n4  argentina  1989                            0.865",
      "text/html": "<div>\n<style scoped>\n    .dataframe tbody tr th:only-of-type {\n        vertical-align: middle;\n    }\n\n    .dataframe tbody tr th {\n        vertical-align: top;\n    }\n\n    .dataframe thead th {\n        text-align: right;\n    }\n</style>\n<table border=\"1\" class=\"dataframe\">\n  <thead>\n    <tr style=\"text-align: right;\">\n      <th></th>\n      <th>geo</th>\n      <th>year</th>\n      <th>coal_electricity_generation_twh</th>\n    </tr>\n  </thead>\n  <tbody>\n    <tr>\n      <th>0</th>\n      <td>argentina</td>\n      <td>1985</td>\n      <td>0.607</td>\n    </tr>\n    <tr>\n      <th>1</th>\n      <td>argentina</td>\n      <td>1986</td>\n      <td>1.013</td>\n    </tr>\n    <tr>\n      <th>2</th>\n      <td>argentina</td>\n      <td>1987</td>\n      <td>1.016</td>\n    </tr>\n    <tr>\n      <th>3</th>\n      <td>argentina</td>\n      <td>1988</td>\n      <td>1.586</td>\n    </tr>\n    <tr>\n      <th>4</th>\n      <td>argentina</td>\n      <td>1989</td>\n      <td>0.865</td>\n    </tr>\n  </tbody>\n</table>\n</div>"
     },
     "execution_count": 4,
     "metadata": {},
     "output_type": "execute_result"
    }
   ],
   "source": [
    "eletricidade = pd.read_csv('https://github.com/open-numbers/ddf--bp--energy/raw/master/ddf--datapoints--coal_electricity_generation_twh--by--geo--year.csv')\n",
    "eletricidade.head()"
   ],
   "metadata": {
    "collapsed": false
   }
  },
  {
   "cell_type": "markdown",
   "source": [
    "Q1. merge()\n",
    "Crie um DataFrame df das emissões de CO2 incluindo o nome do país.\n",
    "\n",
    "(Moodle) Verifique da lista abaixo quais países não tem dados para o ano mais recente da base.\n",
    "Dica:\n",
    "\n",
    "Crie um DataFrame df_lista com a lista de países\n",
    "Crie um DataFrame df_temp fazendo um left join com df_lista\n",
    "Separe como df_temp[df_temp.isna().any(axis=1)] os valores nulos incluídos de df_lista no left join"
   ],
   "metadata": {
    "collapsed": false
   }
  },
  {
   "cell_type": "code",
   "execution_count": 113,
   "outputs": [
    {
     "data": {
      "text/plain": "     country        name  year  yearly_co2_emissions_1000_tonnes\n0        ata  Antarctica   NaN                               NaN\n1846     mco      Monaco   NaN                               NaN",
      "text/html": "<div>\n<style scoped>\n    .dataframe tbody tr th:only-of-type {\n        vertical-align: middle;\n    }\n\n    .dataframe tbody tr th {\n        vertical-align: top;\n    }\n\n    .dataframe thead th {\n        text-align: right;\n    }\n</style>\n<table border=\"1\" class=\"dataframe\">\n  <thead>\n    <tr style=\"text-align: right;\">\n      <th></th>\n      <th>country</th>\n      <th>name</th>\n      <th>year</th>\n      <th>yearly_co2_emissions_1000_tonnes</th>\n    </tr>\n  </thead>\n  <tbody>\n    <tr>\n      <th>0</th>\n      <td>ata</td>\n      <td>Antarctica</td>\n      <td>NaN</td>\n      <td>NaN</td>\n    </tr>\n    <tr>\n      <th>1846</th>\n      <td>mco</td>\n      <td>Monaco</td>\n      <td>NaN</td>\n      <td>NaN</td>\n    </tr>\n  </tbody>\n</table>\n</div>"
     },
     "execution_count": 113,
     "metadata": {},
     "output_type": "execute_result"
    }
   ],
   "source": [
    "lista = ['USSR', 'Hong Kong, China', 'Honduras', 'Antarctica', 'Croatia', 'Haiti', 'Hungary',\n",
    "         'Indonesia', 'India', 'Ireland', 'Iran', 'Iraq', 'Iceland',\n",
    "         'Israel', 'Italy', 'Jamaica', 'Jordan', 'Japan', 'Kazakhstan', 'Monaco']\n",
    "\n",
    "temp = paises[paises.name.isin(lista)]\n",
    "temp = temp.merge(emi,how='left')\n",
    "linhas_com_nulos = temp[temp.isnull().any(axis=1)]\n",
    "linhas_com_nulos"
   ],
   "metadata": {
    "collapsed": false
   }
  },
  {
   "cell_type": "markdown",
   "source": [
    "----------------------------------------------------------------------------------------------------------"
   ],
   "metadata": {
    "collapsed": false
   }
  },
  {
   "cell_type": "markdown",
   "source": [
    "Q2. merge() 2\n",
    "Exclua os países identificados na questão anterior da lista. Empregue o DataFrame df para identificar os 3 países que mais efetuaram emissões no ano mais recente da base. Quais são esses países?"
   ],
   "metadata": {
    "collapsed": false
   }
  },
  {
   "cell_type": "code",
   "execution_count": 141,
   "outputs": [
    {
     "data": {
      "text/plain": "  country              name  year  yearly_co2_emissions_1000_tonnes\n0     hkg  Hong Kong, China  1938                            55.005\n1     hkg  Hong Kong, China  1939                            55.005\n2     hkg  Hong Kong, China  1941                            55.005\n3     hkg  Hong Kong, China  1947                            18.335\n4     hkg  Hong Kong, China  1948                            25.669",
      "text/html": "<div>\n<style scoped>\n    .dataframe tbody tr th:only-of-type {\n        vertical-align: middle;\n    }\n\n    .dataframe tbody tr th {\n        vertical-align: top;\n    }\n\n    .dataframe thead th {\n        text-align: right;\n    }\n</style>\n<table border=\"1\" class=\"dataframe\">\n  <thead>\n    <tr style=\"text-align: right;\">\n      <th></th>\n      <th>country</th>\n      <th>name</th>\n      <th>year</th>\n      <th>yearly_co2_emissions_1000_tonnes</th>\n    </tr>\n  </thead>\n  <tbody>\n    <tr>\n      <th>0</th>\n      <td>hkg</td>\n      <td>Hong Kong, China</td>\n      <td>1938</td>\n      <td>55.005</td>\n    </tr>\n    <tr>\n      <th>1</th>\n      <td>hkg</td>\n      <td>Hong Kong, China</td>\n      <td>1939</td>\n      <td>55.005</td>\n    </tr>\n    <tr>\n      <th>2</th>\n      <td>hkg</td>\n      <td>Hong Kong, China</td>\n      <td>1941</td>\n      <td>55.005</td>\n    </tr>\n    <tr>\n      <th>3</th>\n      <td>hkg</td>\n      <td>Hong Kong, China</td>\n      <td>1947</td>\n      <td>18.335</td>\n    </tr>\n    <tr>\n      <th>4</th>\n      <td>hkg</td>\n      <td>Hong Kong, China</td>\n      <td>1948</td>\n      <td>25.669</td>\n    </tr>\n  </tbody>\n</table>\n</div>"
     },
     "execution_count": 141,
     "metadata": {},
     "output_type": "execute_result"
    }
   ],
   "source": [
    "lista = ['Hong Kong, China', 'Honduras', 'Croatia', 'Haiti', 'Hungary',\n",
    "         'Indonesia', 'India', 'Ireland', 'Iran', 'Iraq', 'Iceland',\n",
    "         'Israel', 'Italy', 'Jamaica', 'Jordan', 'Japan', 'Kazakhstan']\n",
    "temp = paises[paises.name.isin(lista)]\n",
    "temp = temp.merge(emi,how='left')\n",
    "temp.head()"
   ],
   "metadata": {
    "collapsed": false
   }
  },
  {
   "cell_type": "code",
   "execution_count": 123,
   "outputs": [
    {
     "data": {
      "text/plain": "     country   name  year  yearly_co2_emissions_1000_tonnes\n741      ind  India  2018                      2.656274e+06\n1677     jpn  Japan  2018                      1.162933e+06\n965      irn   Iran  2018                      7.210043e+05",
      "text/html": "<div>\n<style scoped>\n    .dataframe tbody tr th:only-of-type {\n        vertical-align: middle;\n    }\n\n    .dataframe tbody tr th {\n        vertical-align: top;\n    }\n\n    .dataframe thead th {\n        text-align: right;\n    }\n</style>\n<table border=\"1\" class=\"dataframe\">\n  <thead>\n    <tr style=\"text-align: right;\">\n      <th></th>\n      <th>country</th>\n      <th>name</th>\n      <th>year</th>\n      <th>yearly_co2_emissions_1000_tonnes</th>\n    </tr>\n  </thead>\n  <tbody>\n    <tr>\n      <th>741</th>\n      <td>ind</td>\n      <td>India</td>\n      <td>2018</td>\n      <td>2.656274e+06</td>\n    </tr>\n    <tr>\n      <th>1677</th>\n      <td>jpn</td>\n      <td>Japan</td>\n      <td>2018</td>\n      <td>1.162933e+06</td>\n    </tr>\n    <tr>\n      <th>965</th>\n      <td>irn</td>\n      <td>Iran</td>\n      <td>2018</td>\n      <td>7.210043e+05</td>\n    </tr>\n  </tbody>\n</table>\n</div>"
     },
     "execution_count": 123,
     "metadata": {},
     "output_type": "execute_result"
    }
   ],
   "source": [
    "Q2 = temp[temp.year == 2018]\n",
    "Q2.nlargest(3,columns='yearly_co2_emissions_1000_tonnes')"
   ],
   "metadata": {
    "collapsed": false
   }
  },
  {
   "cell_type": "markdown",
   "source": [
    "----------------------------------------------------------------------------------------------------------"
   ],
   "metadata": {
    "collapsed": false
   }
  },
  {
   "cell_type": "markdown",
   "source": [
    "Q3. join()\n",
    "Procure obter o mesmo resultado DataFrame anterior que você construiu com o método merge(), empregando agora o método join().\n",
    "\n",
    "Dica: Empregue set_index()."
   ],
   "metadata": {
    "collapsed": false
   }
  },
  {
   "cell_type": "code",
   "execution_count": 135,
   "outputs": [
    {
     "data": {
      "text/plain": "      country  year  yearly_co2_emissions_1000_tonnes      name\n0         abw  1959                         719.95990     Aruba\n1         abw  1960                         619.06728     Aruba\n2         abw  1961                         646.08113     Aruba\n3         abw  1962                         709.52273     Aruba\n4         abw  1963                         679.64378     Aruba\n...       ...   ...                               ...       ...\n20378     zwe  2014                       11971.40630  Zimbabwe\n20379     zwe  2015                       12173.09130  Zimbabwe\n20380     zwe  2016                       10816.28203  Zimbabwe\n20381     zwe  2017                       12035.72697  Zimbabwe\n20382     zwe  2018                       12272.73824  Zimbabwe\n\n[20383 rows x 4 columns]",
      "text/html": "<div>\n<style scoped>\n    .dataframe tbody tr th:only-of-type {\n        vertical-align: middle;\n    }\n\n    .dataframe tbody tr th {\n        vertical-align: top;\n    }\n\n    .dataframe thead th {\n        text-align: right;\n    }\n</style>\n<table border=\"1\" class=\"dataframe\">\n  <thead>\n    <tr style=\"text-align: right;\">\n      <th></th>\n      <th>country</th>\n      <th>year</th>\n      <th>yearly_co2_emissions_1000_tonnes</th>\n      <th>name</th>\n    </tr>\n  </thead>\n  <tbody>\n    <tr>\n      <th>0</th>\n      <td>abw</td>\n      <td>1959</td>\n      <td>719.95990</td>\n      <td>Aruba</td>\n    </tr>\n    <tr>\n      <th>1</th>\n      <td>abw</td>\n      <td>1960</td>\n      <td>619.06728</td>\n      <td>Aruba</td>\n    </tr>\n    <tr>\n      <th>2</th>\n      <td>abw</td>\n      <td>1961</td>\n      <td>646.08113</td>\n      <td>Aruba</td>\n    </tr>\n    <tr>\n      <th>3</th>\n      <td>abw</td>\n      <td>1962</td>\n      <td>709.52273</td>\n      <td>Aruba</td>\n    </tr>\n    <tr>\n      <th>4</th>\n      <td>abw</td>\n      <td>1963</td>\n      <td>679.64378</td>\n      <td>Aruba</td>\n    </tr>\n    <tr>\n      <th>...</th>\n      <td>...</td>\n      <td>...</td>\n      <td>...</td>\n      <td>...</td>\n    </tr>\n    <tr>\n      <th>20378</th>\n      <td>zwe</td>\n      <td>2014</td>\n      <td>11971.40630</td>\n      <td>Zimbabwe</td>\n    </tr>\n    <tr>\n      <th>20379</th>\n      <td>zwe</td>\n      <td>2015</td>\n      <td>12173.09130</td>\n      <td>Zimbabwe</td>\n    </tr>\n    <tr>\n      <th>20380</th>\n      <td>zwe</td>\n      <td>2016</td>\n      <td>10816.28203</td>\n      <td>Zimbabwe</td>\n    </tr>\n    <tr>\n      <th>20381</th>\n      <td>zwe</td>\n      <td>2017</td>\n      <td>12035.72697</td>\n      <td>Zimbabwe</td>\n    </tr>\n    <tr>\n      <th>20382</th>\n      <td>zwe</td>\n      <td>2018</td>\n      <td>12272.73824</td>\n      <td>Zimbabwe</td>\n    </tr>\n  </tbody>\n</table>\n<p>20383 rows × 4 columns</p>\n</div>"
     },
     "execution_count": 135,
     "metadata": {},
     "output_type": "execute_result"
    }
   ],
   "source": [
    "emi.join(paises.set_index('country'), on='country')"
   ],
   "metadata": {
    "collapsed": false
   }
  },
  {
   "cell_type": "markdown",
   "source": [
    "----------------------------------------------------------------------------------------------------------"
   ],
   "metadata": {
    "collapsed": false
   }
  },
  {
   "cell_type": "markdown",
   "source": [
    "Q4. merge(how='inner') & apply()\n",
    "Crie um DataFrame de energia produzida a partir do carvão incluindo o nome do país. Empregue um inner join.\n",
    "\n",
    "Dica: veja por que o merge direto não funciona.\n",
    "\n",
    "(Moodle) Quantos países há na base produzida e a soma de todos os valores coal_electricity_generation_twh?"
   ],
   "metadata": {
    "collapsed": false
   }
  },
  {
   "cell_type": "code",
   "execution_count": 185,
   "outputs": [],
   "source": [
    "eletricidade2 = eletricidade.rename(columns={'geo':'name'})"
   ],
   "metadata": {
    "collapsed": false
   }
  },
  {
   "cell_type": "code",
   "execution_count": 194,
   "outputs": [
    {
     "data": {
      "text/plain": "        name  year  coal_electricity_generation_twh\n0  Argentina  1985                            0.607\n1  Argentina  1986                            1.013\n2  Argentina  1987                            1.016\n3  Argentina  1988                            1.586\n4  Argentina  1989                            0.865",
      "text/html": "<div>\n<style scoped>\n    .dataframe tbody tr th:only-of-type {\n        vertical-align: middle;\n    }\n\n    .dataframe tbody tr th {\n        vertical-align: top;\n    }\n\n    .dataframe thead th {\n        text-align: right;\n    }\n</style>\n<table border=\"1\" class=\"dataframe\">\n  <thead>\n    <tr style=\"text-align: right;\">\n      <th></th>\n      <th>name</th>\n      <th>year</th>\n      <th>coal_electricity_generation_twh</th>\n    </tr>\n  </thead>\n  <tbody>\n    <tr>\n      <th>0</th>\n      <td>Argentina</td>\n      <td>1985</td>\n      <td>0.607</td>\n    </tr>\n    <tr>\n      <th>1</th>\n      <td>Argentina</td>\n      <td>1986</td>\n      <td>1.013</td>\n    </tr>\n    <tr>\n      <th>2</th>\n      <td>Argentina</td>\n      <td>1987</td>\n      <td>1.016</td>\n    </tr>\n    <tr>\n      <th>3</th>\n      <td>Argentina</td>\n      <td>1988</td>\n      <td>1.586</td>\n    </tr>\n    <tr>\n      <th>4</th>\n      <td>Argentina</td>\n      <td>1989</td>\n      <td>0.865</td>\n    </tr>\n  </tbody>\n</table>\n</div>"
     },
     "execution_count": 194,
     "metadata": {},
     "output_type": "execute_result"
    }
   ],
   "source": [
    "eletricidade2['name'] = eletricidade2['name'].apply(lambda x:x.title())\n",
    "eletricidade2.head()"
   ],
   "metadata": {
    "collapsed": false
   }
  },
  {
   "cell_type": "code",
   "execution_count": 195,
   "outputs": [
    {
     "data": {
      "text/plain": "  country         name\n0    abkh     Abkhazia\n1     abw        Aruba\n2     afg  Afghanistan\n3     ago       Angola\n4     aia     Anguilla",
      "text/html": "<div>\n<style scoped>\n    .dataframe tbody tr th:only-of-type {\n        vertical-align: middle;\n    }\n\n    .dataframe tbody tr th {\n        vertical-align: top;\n    }\n\n    .dataframe thead th {\n        text-align: right;\n    }\n</style>\n<table border=\"1\" class=\"dataframe\">\n  <thead>\n    <tr style=\"text-align: right;\">\n      <th></th>\n      <th>country</th>\n      <th>name</th>\n    </tr>\n  </thead>\n  <tbody>\n    <tr>\n      <th>0</th>\n      <td>abkh</td>\n      <td>Abkhazia</td>\n    </tr>\n    <tr>\n      <th>1</th>\n      <td>abw</td>\n      <td>Aruba</td>\n    </tr>\n    <tr>\n      <th>2</th>\n      <td>afg</td>\n      <td>Afghanistan</td>\n    </tr>\n    <tr>\n      <th>3</th>\n      <td>ago</td>\n      <td>Angola</td>\n    </tr>\n    <tr>\n      <th>4</th>\n      <td>aia</td>\n      <td>Anguilla</td>\n    </tr>\n  </tbody>\n</table>\n</div>"
     },
     "execution_count": 195,
     "metadata": {},
     "output_type": "execute_result"
    }
   ],
   "source": [
    "paises.head()"
   ],
   "metadata": {
    "collapsed": false
   }
  },
  {
   "cell_type": "code",
   "execution_count": 198,
   "outputs": [],
   "source": [
    "Q4 = pd.merge(paises,eletricidade2,on='name',how='inner')"
   ],
   "metadata": {
    "collapsed": false
   }
  },
  {
   "cell_type": "code",
   "execution_count": 199,
   "outputs": [
    {
     "data": {
      "text/plain": "    country       name  year  coal_electricity_generation_twh\n0       arg  Argentina  1985                         0.607000\n1       arg  Argentina  1986                         1.013000\n2       arg  Argentina  1987                         1.016000\n3       arg  Argentina  1988                         1.586000\n4       arg  Argentina  1989                         0.865000\n..      ...        ...   ...                              ...\n800     vnm    Vietnam  2015                        52.711370\n801     vnm    Vietnam  2016                        63.931889\n802     vnm    Vietnam  2017                        62.538700\n803     vnm    Vietnam  2018                        83.900960\n804     vnm    Vietnam  2019                       112.527968\n\n[805 rows x 4 columns]",
      "text/html": "<div>\n<style scoped>\n    .dataframe tbody tr th:only-of-type {\n        vertical-align: middle;\n    }\n\n    .dataframe tbody tr th {\n        vertical-align: top;\n    }\n\n    .dataframe thead th {\n        text-align: right;\n    }\n</style>\n<table border=\"1\" class=\"dataframe\">\n  <thead>\n    <tr style=\"text-align: right;\">\n      <th></th>\n      <th>country</th>\n      <th>name</th>\n      <th>year</th>\n      <th>coal_electricity_generation_twh</th>\n    </tr>\n  </thead>\n  <tbody>\n    <tr>\n      <th>0</th>\n      <td>arg</td>\n      <td>Argentina</td>\n      <td>1985</td>\n      <td>0.607000</td>\n    </tr>\n    <tr>\n      <th>1</th>\n      <td>arg</td>\n      <td>Argentina</td>\n      <td>1986</td>\n      <td>1.013000</td>\n    </tr>\n    <tr>\n      <th>2</th>\n      <td>arg</td>\n      <td>Argentina</td>\n      <td>1987</td>\n      <td>1.016000</td>\n    </tr>\n    <tr>\n      <th>3</th>\n      <td>arg</td>\n      <td>Argentina</td>\n      <td>1988</td>\n      <td>1.586000</td>\n    </tr>\n    <tr>\n      <th>4</th>\n      <td>arg</td>\n      <td>Argentina</td>\n      <td>1989</td>\n      <td>0.865000</td>\n    </tr>\n    <tr>\n      <th>...</th>\n      <td>...</td>\n      <td>...</td>\n      <td>...</td>\n      <td>...</td>\n    </tr>\n    <tr>\n      <th>800</th>\n      <td>vnm</td>\n      <td>Vietnam</td>\n      <td>2015</td>\n      <td>52.711370</td>\n    </tr>\n    <tr>\n      <th>801</th>\n      <td>vnm</td>\n      <td>Vietnam</td>\n      <td>2016</td>\n      <td>63.931889</td>\n    </tr>\n    <tr>\n      <th>802</th>\n      <td>vnm</td>\n      <td>Vietnam</td>\n      <td>2017</td>\n      <td>62.538700</td>\n    </tr>\n    <tr>\n      <th>803</th>\n      <td>vnm</td>\n      <td>Vietnam</td>\n      <td>2018</td>\n      <td>83.900960</td>\n    </tr>\n    <tr>\n      <th>804</th>\n      <td>vnm</td>\n      <td>Vietnam</td>\n      <td>2019</td>\n      <td>112.527968</td>\n    </tr>\n  </tbody>\n</table>\n<p>805 rows × 4 columns</p>\n</div>"
     },
     "execution_count": 199,
     "metadata": {},
     "output_type": "execute_result"
    }
   ],
   "source": [
    "Q4"
   ],
   "metadata": {
    "collapsed": false
   }
  },
  {
   "cell_type": "code",
   "execution_count": 200,
   "outputs": [
    {
     "data": {
      "text/plain": "137198.26802701"
     },
     "execution_count": 200,
     "metadata": {},
     "output_type": "execute_result"
    }
   ],
   "source": [
    "Q4.coal_electricity_generation_twh.sum()"
   ],
   "metadata": {
    "collapsed": false
   }
  },
  {
   "cell_type": "code",
   "execution_count": 208,
   "outputs": [
    {
     "data": {
      "text/plain": "count     805\nunique     23\ntop       arg\nfreq       35\nName: country, dtype: object"
     },
     "execution_count": 208,
     "metadata": {},
     "output_type": "execute_result"
    }
   ],
   "source": [
    "Q4.country.describe()"
   ],
   "metadata": {
    "collapsed": false
   }
  },
  {
   "cell_type": "markdown",
   "source": [
    "----------------------------------------------------------------------------------------------------------"
   ],
   "metadata": {
    "collapsed": false
   }
  },
  {
   "cell_type": "markdown",
   "source": [
    "Q5. merge(how='right') & apply()\n",
    "Recrie o DataFrame anterior agora empregando right (left) join para incluir países que não foram encontrados em country_entities.\n",
    "\n",
    "(Moodle) Quais dos países ou geo posições apresentam name null no DataFrame produzido?\n",
    "\n",
    "Dica: empregue isnull()"
   ],
   "metadata": {
    "collapsed": false
   }
  },
  {
   "cell_type": "code",
   "execution_count": 278,
   "outputs": [],
   "source": [
    "Q5 = pd.merge(paises,eletricidade2,on='name',how='right')"
   ],
   "metadata": {
    "collapsed": false
   }
  },
  {
   "cell_type": "code",
   "execution_count": 303,
   "outputs": [],
   "source": [
    "Q5['name'] = Q5['name'].apply(lambda x:x.lower())"
   ],
   "metadata": {
    "collapsed": false
   }
  },
  {
   "cell_type": "code",
   "execution_count": 304,
   "outputs": [],
   "source": [
    "nulos = Q5[Q5.country.isnull()]"
   ],
   "metadata": {
    "collapsed": false
   }
  },
  {
   "cell_type": "code",
   "execution_count": 305,
   "outputs": [
    {
     "data": {
      "text/plain": "     country          name  year  coal_electricity_generation_twh\n560      NaN  other_africa  1985                         4.111336\n561      NaN  other_africa  1986                         6.090250\n562      NaN  other_africa  1987                         9.454476\n563      NaN  other_africa  1988                         9.416726\n564      NaN  other_africa  1989                         8.748628\n...      ...           ...   ...                              ...\n1500     NaN            us  2015                      1468.295586\n1501     NaN            us  2016                      1346.189340\n1502     NaN            us  2017                      1310.004561\n1503     NaN            us  2018                      1246.693485\n1504     NaN            us  2019                      1053.529530\n\n[735 rows x 4 columns]",
      "text/html": "<div>\n<style scoped>\n    .dataframe tbody tr th:only-of-type {\n        vertical-align: middle;\n    }\n\n    .dataframe tbody tr th {\n        vertical-align: top;\n    }\n\n    .dataframe thead th {\n        text-align: right;\n    }\n</style>\n<table border=\"1\" class=\"dataframe\">\n  <thead>\n    <tr style=\"text-align: right;\">\n      <th></th>\n      <th>country</th>\n      <th>name</th>\n      <th>year</th>\n      <th>coal_electricity_generation_twh</th>\n    </tr>\n  </thead>\n  <tbody>\n    <tr>\n      <th>560</th>\n      <td>NaN</td>\n      <td>other_africa</td>\n      <td>1985</td>\n      <td>4.111336</td>\n    </tr>\n    <tr>\n      <th>561</th>\n      <td>NaN</td>\n      <td>other_africa</td>\n      <td>1986</td>\n      <td>6.090250</td>\n    </tr>\n    <tr>\n      <th>562</th>\n      <td>NaN</td>\n      <td>other_africa</td>\n      <td>1987</td>\n      <td>9.454476</td>\n    </tr>\n    <tr>\n      <th>563</th>\n      <td>NaN</td>\n      <td>other_africa</td>\n      <td>1988</td>\n      <td>9.416726</td>\n    </tr>\n    <tr>\n      <th>564</th>\n      <td>NaN</td>\n      <td>other_africa</td>\n      <td>1989</td>\n      <td>8.748628</td>\n    </tr>\n    <tr>\n      <th>...</th>\n      <td>...</td>\n      <td>...</td>\n      <td>...</td>\n      <td>...</td>\n    </tr>\n    <tr>\n      <th>1500</th>\n      <td>NaN</td>\n      <td>us</td>\n      <td>2015</td>\n      <td>1468.295586</td>\n    </tr>\n    <tr>\n      <th>1501</th>\n      <td>NaN</td>\n      <td>us</td>\n      <td>2016</td>\n      <td>1346.189340</td>\n    </tr>\n    <tr>\n      <th>1502</th>\n      <td>NaN</td>\n      <td>us</td>\n      <td>2017</td>\n      <td>1310.004561</td>\n    </tr>\n    <tr>\n      <th>1503</th>\n      <td>NaN</td>\n      <td>us</td>\n      <td>2018</td>\n      <td>1246.693485</td>\n    </tr>\n    <tr>\n      <th>1504</th>\n      <td>NaN</td>\n      <td>us</td>\n      <td>2019</td>\n      <td>1053.529530</td>\n    </tr>\n  </tbody>\n</table>\n<p>735 rows × 4 columns</p>\n</div>"
     },
     "execution_count": 305,
     "metadata": {},
     "output_type": "execute_result"
    }
   ],
   "source": [
    "nulos"
   ],
   "metadata": {
    "collapsed": false
   }
  },
  {
   "cell_type": "code",
   "execution_count": 326,
   "outputs": [],
   "source": [
    "lista1 =['us', 'jamaica', 'brazil']\n",
    "lista2=['brazil', 'russian_federation', 'south_korea']\n",
    "lista3=['total_europe', 'us', 'jamaica']\n",
    "lista4=['russian_federation', 'saudi_arabia', 'south_korea']\n",
    "lista5=['south_africa', 'south_korea', 'europe']\n",
    "nulos = list(nulos.name.unique())"
   ],
   "metadata": {
    "collapsed": false
   }
  },
  {
   "cell_type": "code",
   "execution_count": 327,
   "outputs": [
    {
     "data": {
      "text/plain": "False"
     },
     "execution_count": 327,
     "metadata": {},
     "output_type": "execute_result"
    }
   ],
   "source": [
    "all(item in nulos for item in lista1)"
   ],
   "metadata": {
    "collapsed": false
   }
  },
  {
   "cell_type": "code",
   "execution_count": 328,
   "outputs": [
    {
     "data": {
      "text/plain": "False"
     },
     "execution_count": 328,
     "metadata": {},
     "output_type": "execute_result"
    }
   ],
   "source": [
    "all(item in nulos for item in lista2)"
   ],
   "metadata": {
    "collapsed": false
   }
  },
  {
   "cell_type": "code",
   "execution_count": 329,
   "outputs": [
    {
     "data": {
      "text/plain": "False"
     },
     "execution_count": 329,
     "metadata": {},
     "output_type": "execute_result"
    }
   ],
   "source": [
    "all(item in nulos for item in lista3)"
   ],
   "metadata": {
    "collapsed": false
   }
  },
  {
   "cell_type": "code",
   "execution_count": 330,
   "outputs": [
    {
     "data": {
      "text/plain": "True"
     },
     "execution_count": 330,
     "metadata": {},
     "output_type": "execute_result"
    }
   ],
   "source": [
    "all(item in nulos for item in lista4)"
   ],
   "metadata": {
    "collapsed": false
   }
  },
  {
   "cell_type": "code",
   "execution_count": 331,
   "outputs": [
    {
     "data": {
      "text/plain": "False"
     },
     "execution_count": 331,
     "metadata": {},
     "output_type": "execute_result"
    }
   ],
   "source": [
    "all(item in nulos for item in lista5)"
   ],
   "metadata": {
    "collapsed": false
   }
  }
 ],
 "metadata": {
  "kernelspec": {
   "display_name": "Python 3",
   "language": "python",
   "name": "python3"
  },
  "language_info": {
   "codemirror_mode": {
    "name": "ipython",
    "version": 2
   },
   "file_extension": ".py",
   "mimetype": "text/x-python",
   "name": "python",
   "nbconvert_exporter": "python",
   "pygments_lexer": "ipython2",
   "version": "2.7.6"
  }
 },
 "nbformat": 4,
 "nbformat_minor": 0
}
