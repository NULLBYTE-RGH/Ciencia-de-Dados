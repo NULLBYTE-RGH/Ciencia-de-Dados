{
 "cells": [
  {
   "cell_type": "code",
   "execution_count": 1,
   "metadata": {
    "collapsed": true
   },
   "outputs": [],
   "source": [
    "import numpy as np\n",
    "import pandas as pd\n",
    "\n",
    "path = 'https://github.com/Rogerio-mack/IMT_Ciencia_de_Dados/raw/main/data/'"
   ]
  },
  {
   "cell_type": "markdown",
   "source": [
    "CASE: Gapminder\n",
    "\n",
    "Os dados dos exercícios a seguir tem como fonte o site Gapmider."
   ],
   "metadata": {
    "collapsed": false
   }
  },
  {
   "cell_type": "code",
   "execution_count": 2,
   "outputs": [],
   "source": [
    "%%capture\n",
    "!wget https://github.com/open-numbers/ddf--gapminder--co2_emission/raw/master/ddf--entities--country.csv\n",
    "!wget https://github.com/open-numbers/ddf--gapminder--co2_emission/raw/master/ddf--datapoints--yearly_co2_emissions_1000_tonnes--by--country--year.csv\n",
    "!wget https://github.com/open-numbers/ddf--bp--energy/raw/master/ddf--datapoints--coal_electricity_generation_twh--by--geo--year.csv"
   ],
   "metadata": {
    "collapsed": false
   }
  },
  {
   "cell_type": "markdown",
   "source": [
    "Q0. Inspecione os dados.\n",
    "Inspecione as bases de dados antes de prosseguir. Acesse e faça ao menos um head() de cada conjunto de dados."
   ],
   "metadata": {
    "collapsed": false
   }
  },
  {
   "cell_type": "code",
   "execution_count": 3,
   "outputs": [
    {
     "data": {
      "text/plain": "  country         name\n0    abkh     Abkhazia\n1     abw        Aruba\n2     afg  Afghanistan\n3     ago       Angola\n4     aia     Anguilla",
      "text/html": "<div>\n<style scoped>\n    .dataframe tbody tr th:only-of-type {\n        vertical-align: middle;\n    }\n\n    .dataframe tbody tr th {\n        vertical-align: top;\n    }\n\n    .dataframe thead th {\n        text-align: right;\n    }\n</style>\n<table border=\"1\" class=\"dataframe\">\n  <thead>\n    <tr style=\"text-align: right;\">\n      <th></th>\n      <th>country</th>\n      <th>name</th>\n    </tr>\n  </thead>\n  <tbody>\n    <tr>\n      <th>0</th>\n      <td>abkh</td>\n      <td>Abkhazia</td>\n    </tr>\n    <tr>\n      <th>1</th>\n      <td>abw</td>\n      <td>Aruba</td>\n    </tr>\n    <tr>\n      <th>2</th>\n      <td>afg</td>\n      <td>Afghanistan</td>\n    </tr>\n    <tr>\n      <th>3</th>\n      <td>ago</td>\n      <td>Angola</td>\n    </tr>\n    <tr>\n      <th>4</th>\n      <td>aia</td>\n      <td>Anguilla</td>\n    </tr>\n  </tbody>\n</table>\n</div>"
     },
     "execution_count": 3,
     "metadata": {},
     "output_type": "execute_result"
    }
   ],
   "source": [
    "paises = pd.read_csv('https://github.com/open-numbers/ddf--gapminder--co2_emission/raw/master/ddf--entities--country.csv')\n",
    "paises.head()"
   ],
   "metadata": {
    "collapsed": false
   }
  },
  {
   "cell_type": "code",
   "execution_count": 6,
   "outputs": [
    {
     "data": {
      "text/plain": "  country  year  yearly_co2_emissions_1000_tonnes\n0     abw  1959                         719.95990\n1     abw  1960                         619.06728\n2     abw  1961                         646.08113\n3     abw  1962                         709.52273\n4     abw  1963                         679.64378",
      "text/html": "<div>\n<style scoped>\n    .dataframe tbody tr th:only-of-type {\n        vertical-align: middle;\n    }\n\n    .dataframe tbody tr th {\n        vertical-align: top;\n    }\n\n    .dataframe thead th {\n        text-align: right;\n    }\n</style>\n<table border=\"1\" class=\"dataframe\">\n  <thead>\n    <tr style=\"text-align: right;\">\n      <th></th>\n      <th>country</th>\n      <th>year</th>\n      <th>yearly_co2_emissions_1000_tonnes</th>\n    </tr>\n  </thead>\n  <tbody>\n    <tr>\n      <th>0</th>\n      <td>abw</td>\n      <td>1959</td>\n      <td>719.95990</td>\n    </tr>\n    <tr>\n      <th>1</th>\n      <td>abw</td>\n      <td>1960</td>\n      <td>619.06728</td>\n    </tr>\n    <tr>\n      <th>2</th>\n      <td>abw</td>\n      <td>1961</td>\n      <td>646.08113</td>\n    </tr>\n    <tr>\n      <th>3</th>\n      <td>abw</td>\n      <td>1962</td>\n      <td>709.52273</td>\n    </tr>\n    <tr>\n      <th>4</th>\n      <td>abw</td>\n      <td>1963</td>\n      <td>679.64378</td>\n    </tr>\n  </tbody>\n</table>\n</div>"
     },
     "execution_count": 6,
     "metadata": {},
     "output_type": "execute_result"
    }
   ],
   "source": [
    "emi = pd.read_csv('https://github.com/open-numbers/ddf--gapminder--co2_emission/raw/master/ddf--datapoints--yearly_co2_emissions_1000_tonnes--by--country--year.csv')\n",
    "emi.head()"
   ],
   "metadata": {
    "collapsed": false
   }
  },
  {
   "cell_type": "code",
   "execution_count": 5,
   "outputs": [
    {
     "data": {
      "text/plain": "         geo  year  coal_electricity_generation_twh\n0  argentina  1985                            0.607\n1  argentina  1986                            1.013\n2  argentina  1987                            1.016\n3  argentina  1988                            1.586\n4  argentina  1989                            0.865",
      "text/html": "<div>\n<style scoped>\n    .dataframe tbody tr th:only-of-type {\n        vertical-align: middle;\n    }\n\n    .dataframe tbody tr th {\n        vertical-align: top;\n    }\n\n    .dataframe thead th {\n        text-align: right;\n    }\n</style>\n<table border=\"1\" class=\"dataframe\">\n  <thead>\n    <tr style=\"text-align: right;\">\n      <th></th>\n      <th>geo</th>\n      <th>year</th>\n      <th>coal_electricity_generation_twh</th>\n    </tr>\n  </thead>\n  <tbody>\n    <tr>\n      <th>0</th>\n      <td>argentina</td>\n      <td>1985</td>\n      <td>0.607</td>\n    </tr>\n    <tr>\n      <th>1</th>\n      <td>argentina</td>\n      <td>1986</td>\n      <td>1.013</td>\n    </tr>\n    <tr>\n      <th>2</th>\n      <td>argentina</td>\n      <td>1987</td>\n      <td>1.016</td>\n    </tr>\n    <tr>\n      <th>3</th>\n      <td>argentina</td>\n      <td>1988</td>\n      <td>1.586</td>\n    </tr>\n    <tr>\n      <th>4</th>\n      <td>argentina</td>\n      <td>1989</td>\n      <td>0.865</td>\n    </tr>\n  </tbody>\n</table>\n</div>"
     },
     "execution_count": 5,
     "metadata": {},
     "output_type": "execute_result"
    }
   ],
   "source": [
    "eletricidade = pd.read_csv('https://github.com/open-numbers/ddf--bp--energy/raw/master/ddf--datapoints--coal_electricity_generation_twh--by--geo--year.csv')\n",
    "eletricidade.head()"
   ],
   "metadata": {
    "collapsed": false
   }
  },
  {
   "cell_type": "markdown",
   "source": [
    "Q1. merge()\n",
    "Crie um DataFrame df das emissões de CO2 incluindo o nome do país.\n",
    "\n",
    "(Moodle) Verifique da lista abaixo quais países não tem dados para o ano mais recente da base.\n",
    "Dica:\n",
    "\n",
    "Crie um DataFrame df_lista com a lista de países\n",
    "Crie um DataFrame df_temp fazendo um left join com df_lista\n",
    "Separe como df_temp[df_temp.isna().any(axis=1)] os valores nulos incluídos de df_lista no left join"
   ],
   "metadata": {
    "collapsed": false
   }
  },
  {
   "cell_type": "code",
   "execution_count": 18,
   "outputs": [
    {
     "data": {
      "text/plain": "      country          name  year  yearly_co2_emissions_1000_tonnes\n59        abw         Aruba  2018                         897.88160\n129       afg   Afghanistan  2018                        9446.51745\n198       ago        Angola  2018                       34565.47943\n227       aia      Anguilla  2018                         156.47729\n313       alb       Albania  2018                        4573.70537\n...       ...           ...   ...                               ...\n19832     wsm         Samoa  2018                         259.19002\n19901     yem         Yemen  2018                       10148.94713\n20215     zaf  South Africa  2018                      467944.96168\n20275     zmb        Zambia  2018                        5232.31591\n20382     zwe      Zimbabwe  2018                       12272.73824\n\n[213 rows x 4 columns]",
      "text/html": "<div>\n<style scoped>\n    .dataframe tbody tr th:only-of-type {\n        vertical-align: middle;\n    }\n\n    .dataframe tbody tr th {\n        vertical-align: top;\n    }\n\n    .dataframe thead th {\n        text-align: right;\n    }\n</style>\n<table border=\"1\" class=\"dataframe\">\n  <thead>\n    <tr style=\"text-align: right;\">\n      <th></th>\n      <th>country</th>\n      <th>name</th>\n      <th>year</th>\n      <th>yearly_co2_emissions_1000_tonnes</th>\n    </tr>\n  </thead>\n  <tbody>\n    <tr>\n      <th>59</th>\n      <td>abw</td>\n      <td>Aruba</td>\n      <td>2018</td>\n      <td>897.88160</td>\n    </tr>\n    <tr>\n      <th>129</th>\n      <td>afg</td>\n      <td>Afghanistan</td>\n      <td>2018</td>\n      <td>9446.51745</td>\n    </tr>\n    <tr>\n      <th>198</th>\n      <td>ago</td>\n      <td>Angola</td>\n      <td>2018</td>\n      <td>34565.47943</td>\n    </tr>\n    <tr>\n      <th>227</th>\n      <td>aia</td>\n      <td>Anguilla</td>\n      <td>2018</td>\n      <td>156.47729</td>\n    </tr>\n    <tr>\n      <th>313</th>\n      <td>alb</td>\n      <td>Albania</td>\n      <td>2018</td>\n      <td>4573.70537</td>\n    </tr>\n    <tr>\n      <th>...</th>\n      <td>...</td>\n      <td>...</td>\n      <td>...</td>\n      <td>...</td>\n    </tr>\n    <tr>\n      <th>19832</th>\n      <td>wsm</td>\n      <td>Samoa</td>\n      <td>2018</td>\n      <td>259.19002</td>\n    </tr>\n    <tr>\n      <th>19901</th>\n      <td>yem</td>\n      <td>Yemen</td>\n      <td>2018</td>\n      <td>10148.94713</td>\n    </tr>\n    <tr>\n      <th>20215</th>\n      <td>zaf</td>\n      <td>South Africa</td>\n      <td>2018</td>\n      <td>467944.96168</td>\n    </tr>\n    <tr>\n      <th>20275</th>\n      <td>zmb</td>\n      <td>Zambia</td>\n      <td>2018</td>\n      <td>5232.31591</td>\n    </tr>\n    <tr>\n      <th>20382</th>\n      <td>zwe</td>\n      <td>Zimbabwe</td>\n      <td>2018</td>\n      <td>12272.73824</td>\n    </tr>\n  </tbody>\n</table>\n<p>213 rows × 4 columns</p>\n</div>"
     },
     "execution_count": 18,
     "metadata": {},
     "output_type": "execute_result"
    }
   ],
   "source": [
    "df = pd.merge(paises,emi,left_on='country',right_on='country')\n",
    "df= df[df.year==2018]\n",
    "df"
   ],
   "metadata": {
    "collapsed": false
   }
  },
  {
   "cell_type": "code",
   "execution_count": 19,
   "outputs": [
    {
     "data": {
      "text/plain": "Empty DataFrame\nColumns: [country, name, year, yearly_co2_emissions_1000_tonnes]\nIndex: []",
      "text/html": "<div>\n<style scoped>\n    .dataframe tbody tr th:only-of-type {\n        vertical-align: middle;\n    }\n\n    .dataframe tbody tr th {\n        vertical-align: top;\n    }\n\n    .dataframe thead th {\n        text-align: right;\n    }\n</style>\n<table border=\"1\" class=\"dataframe\">\n  <thead>\n    <tr style=\"text-align: right;\">\n      <th></th>\n      <th>country</th>\n      <th>name</th>\n      <th>year</th>\n      <th>yearly_co2_emissions_1000_tonnes</th>\n    </tr>\n  </thead>\n  <tbody>\n  </tbody>\n</table>\n</div>"
     },
     "execution_count": 19,
     "metadata": {},
     "output_type": "execute_result"
    }
   ],
   "source": [],
   "metadata": {
    "collapsed": false
   }
  },
  {
   "cell_type": "code",
   "execution_count": null,
   "outputs": [],
   "source": [],
   "metadata": {
    "collapsed": false
   }
  }
 ],
 "metadata": {
  "kernelspec": {
   "display_name": "Python 3",
   "language": "python",
   "name": "python3"
  },
  "language_info": {
   "codemirror_mode": {
    "name": "ipython",
    "version": 2
   },
   "file_extension": ".py",
   "mimetype": "text/x-python",
   "name": "python",
   "nbconvert_exporter": "python",
   "pygments_lexer": "ipython2",
   "version": "2.7.6"
  }
 },
 "nbformat": 4,
 "nbformat_minor": 0
}
