{
 "nbformat": 4,
 "nbformat_minor": 0,
 "metadata": {
  "anaconda-cloud": {},
  "kernelspec": {
   "display_name": "Python 3",
   "language": "python",
   "name": "python3"
  },
  "language_info": {
   "codemirror_mode": {
    "name": "ipython",
    "version": 3
   },
   "file_extension": ".py",
   "mimetype": "text/x-python",
   "name": "python",
   "nbconvert_exporter": "python",
   "pygments_lexer": "ipython3",
   "version": "3.7.4"
  },
  "colab": {
   "provenance": []
  }
 },
 "cells": [
  {
   "cell_type": "markdown",
   "metadata": {
    "id": "80CF3Eq9EXDW"
   },
   "source": [
    "<head>\n",
    "  <meta name=\"author\" content=\"Rogério de Oliveira\">\n",
    "  <meta institution=\"author\" content=\"ITM\">\n",
    "</head>\n",
    "\n",
    "<img src=\"https://maua.br/images/selo-60-anos-maua.svg\" width=300, align=\"right\">\n",
    "<!-- <h1 align=left><font size = 6, style=\"color:rgb(200,0,0)\"> optional title </font></h1> -->\n"
   ]
  },
  {
   "cell_type": "markdown",
   "source": [
    "# Lab: Regressão Logística\n",
    "\n",
    "Referências e Materiais úteis para este Lab: *ver notas de aula de regressão logística e linear*.\n",
    "\n",
    "<br>\n",
    "\n",
    "---\n",
    "\n",
    "\n",
    "\n"
   ],
   "metadata": {
    "id": "dEyV_GqcqtL1"
   }
  },
  {
   "cell_type": "markdown",
   "metadata": {
    "_uuid": "9dd9e07c590ca22f0c525222f60f0ebff4e092c6",
    "id": "kIr_4QzOlOOo"
   },
   "source": [
    "# Caso: **Predição de Diagnósticos a partir de Dados de Imagens** \n",
    "\n",
    "\n",
    "https://archive.ics.uci.edu/ml/datasets/Breast+Cancer+Wisconsin+(Diagnostic)\n",
    "\n",
    "Os dados acima são características computadas a partir de uma imagem digitalizada por *agulha fina* (PAAF) de uma massa mamária. Eles descrevem características dos núcleos celulares presentes na imagem e classificam os tumores como malignos ou benignos. \n",
    "\n"
   ]
  },
  {
   "cell_type": "markdown",
   "source": [
    "<img src=\"https://github.com/Rogerio-mack/IMT_Ciencia_de_Dados/blob/main/images/ClassificationBreastCancer.PNG?raw=true\" width=1200, align=\"right\"> "
   ],
   "metadata": {
    "id": "GEOe0ZznjEsj"
   }
  },
  {
   "cell_type": "code",
   "source": [
    "import numpy as np\n",
    "import pandas as pd\n",
    "import matplotlib.pyplot as plt             \n",
    "%matplotlib inline\n",
    "import seaborn as sns"
   ],
   "metadata": {
    "id": "oiXYMYIMLG-I",
    "ExecuteTime": {
     "end_time": "2023-05-26T18:02:01.821851700Z",
     "start_time": "2023-05-26T18:02:01.778851300Z"
    }
   },
   "execution_count": 1,
   "outputs": []
  },
  {
   "cell_type": "code",
   "metadata": {
    "id": "V0xgakVgemrH",
    "cellView": "form",
    "ExecuteTime": {
     "end_time": "2023-05-26T21:33:49.034618600Z",
     "start_time": "2023-05-26T21:33:48.419620600Z"
    }
   },
   "source": [
    "#@markdown **Set Up Lab** (*run this before continue*)\n",
    "breast = pd.read_csv('https://github.com/Rogerio-mack/Machine-Learning-I/raw/main/data/breast.csv')\n",
    "\n",
    "from sklearn.model_selection import train_test_split\n",
    "\n",
    "seed = 1984\n",
    "X_train, X_test, y_train, y_test = train_test_split(breast.drop(columns=['diagnosis']), breast.diagnosis, test_size=0.50, stratify=breast.diagnosis, random_state=seed)\n",
    "\n",
    "breast = pd.concat([X_train, y_train],axis=1)\n",
    "new_breast = X_test\n",
    "\n",
    "breast.to_csv('breast.csv',index=False)\n",
    "\n",
    "new_breast['diagnosis'] = '?'\n",
    "new_breast.to_csv('new_breast.csv',index=False)\n",
    "y_test.to_csv('new_breast_answers.csv',index=False)\n",
    "\n",
    "new_breast_answers = pd.read_csv('new_breast_answers.csv')\n"
   ],
   "execution_count": 282,
   "outputs": []
  },
  {
   "cell_type": "markdown",
   "source": [
    "E você empregará os dados já tratados no set up acima, com os dataframes `breast` e `new_breast`. A idea aqui é empregar os dados de `breast` para estimar as classes dos novos casos desconhecidos de `new_breast`. \n",
    "\n"
   ],
   "metadata": {
    "id": "6BwJNFSC13UX"
   }
  },
  {
   "cell_type": "code",
   "source": [
    "breast.head()"
   ],
   "metadata": {
    "colab": {
     "base_uri": "https://localhost:8080/",
     "height": 317
    },
    "id": "PK1gssub2FWP",
    "outputId": "6e7072af-2fdf-4372-cd72-a29bc4e4afe3",
    "ExecuteTime": {
     "end_time": "2023-05-26T19:49:25.943200Z",
     "start_time": "2023-05-26T19:49:25.909200300Z"
    }
   },
   "execution_count": 142,
   "outputs": [
    {
     "data": {
      "text/plain": "          id  radius_mean  texture_mean  perimeter_mean  area_mean  \\\n397    89296        11.46         18.16           73.59      403.1   \n146   894090        12.18         14.08           77.25      461.4   \n207   897132        11.22         19.86           71.94      387.3   \n446   894335        12.43         17.00           78.60      477.3   \n63   9013594        13.66         15.15           88.27      580.6   \n\n     smoothness_mean  compactness_mean  concavity_mean  concave points_mean  \\\n397          0.08853           0.07694        0.033440             0.015020   \n146          0.07734           0.03212        0.011230             0.005051   \n207          0.10540           0.06779        0.005006             0.007583   \n446          0.07557           0.03454        0.013420             0.016990   \n63           0.08268           0.07548        0.042490             0.024710   \n\n     symmetry_mean  ...  texture_worst  perimeter_worst  area_worst  \\\n397         0.1411  ...          21.61            82.69       489.8   \n146         0.1673  ...          16.47            81.60       513.1   \n207         0.1940  ...          25.78            76.91       436.1   \n446         0.1472  ...          20.21            81.76       515.9   \n63          0.1792  ...          19.64            97.96       657.0   \n\n     smoothness_worst  compactness_worst  concavity_worst  \\\n397           0.11440            0.17890          0.12260   \n146           0.10010            0.05332          0.04116   \n207           0.14240            0.09669          0.01335   \n446           0.08409            0.04712          0.02237   \n63            0.12750            0.31040          0.25690   \n\n     concave points_worst  symmetry_worst  fractal_dimension_worst  diagnosis  \n397               0.05509          0.2208                  0.07638          B  \n146               0.01852          0.2293                  0.06037          B  \n207               0.02022          0.3292                  0.06522          B  \n446               0.02832          0.1901                  0.05932          B  \n63                0.10540          0.3387                  0.09638          B  \n\n[5 rows x 32 columns]",
      "text/html": "<div>\n<style scoped>\n    .dataframe tbody tr th:only-of-type {\n        vertical-align: middle;\n    }\n\n    .dataframe tbody tr th {\n        vertical-align: top;\n    }\n\n    .dataframe thead th {\n        text-align: right;\n    }\n</style>\n<table border=\"1\" class=\"dataframe\">\n  <thead>\n    <tr style=\"text-align: right;\">\n      <th></th>\n      <th>id</th>\n      <th>radius_mean</th>\n      <th>texture_mean</th>\n      <th>perimeter_mean</th>\n      <th>area_mean</th>\n      <th>smoothness_mean</th>\n      <th>compactness_mean</th>\n      <th>concavity_mean</th>\n      <th>concave points_mean</th>\n      <th>symmetry_mean</th>\n      <th>...</th>\n      <th>texture_worst</th>\n      <th>perimeter_worst</th>\n      <th>area_worst</th>\n      <th>smoothness_worst</th>\n      <th>compactness_worst</th>\n      <th>concavity_worst</th>\n      <th>concave points_worst</th>\n      <th>symmetry_worst</th>\n      <th>fractal_dimension_worst</th>\n      <th>diagnosis</th>\n    </tr>\n  </thead>\n  <tbody>\n    <tr>\n      <th>397</th>\n      <td>89296</td>\n      <td>11.46</td>\n      <td>18.16</td>\n      <td>73.59</td>\n      <td>403.1</td>\n      <td>0.08853</td>\n      <td>0.07694</td>\n      <td>0.033440</td>\n      <td>0.015020</td>\n      <td>0.1411</td>\n      <td>...</td>\n      <td>21.61</td>\n      <td>82.69</td>\n      <td>489.8</td>\n      <td>0.11440</td>\n      <td>0.17890</td>\n      <td>0.12260</td>\n      <td>0.05509</td>\n      <td>0.2208</td>\n      <td>0.07638</td>\n      <td>B</td>\n    </tr>\n    <tr>\n      <th>146</th>\n      <td>894090</td>\n      <td>12.18</td>\n      <td>14.08</td>\n      <td>77.25</td>\n      <td>461.4</td>\n      <td>0.07734</td>\n      <td>0.03212</td>\n      <td>0.011230</td>\n      <td>0.005051</td>\n      <td>0.1673</td>\n      <td>...</td>\n      <td>16.47</td>\n      <td>81.60</td>\n      <td>513.1</td>\n      <td>0.10010</td>\n      <td>0.05332</td>\n      <td>0.04116</td>\n      <td>0.01852</td>\n      <td>0.2293</td>\n      <td>0.06037</td>\n      <td>B</td>\n    </tr>\n    <tr>\n      <th>207</th>\n      <td>897132</td>\n      <td>11.22</td>\n      <td>19.86</td>\n      <td>71.94</td>\n      <td>387.3</td>\n      <td>0.10540</td>\n      <td>0.06779</td>\n      <td>0.005006</td>\n      <td>0.007583</td>\n      <td>0.1940</td>\n      <td>...</td>\n      <td>25.78</td>\n      <td>76.91</td>\n      <td>436.1</td>\n      <td>0.14240</td>\n      <td>0.09669</td>\n      <td>0.01335</td>\n      <td>0.02022</td>\n      <td>0.3292</td>\n      <td>0.06522</td>\n      <td>B</td>\n    </tr>\n    <tr>\n      <th>446</th>\n      <td>894335</td>\n      <td>12.43</td>\n      <td>17.00</td>\n      <td>78.60</td>\n      <td>477.3</td>\n      <td>0.07557</td>\n      <td>0.03454</td>\n      <td>0.013420</td>\n      <td>0.016990</td>\n      <td>0.1472</td>\n      <td>...</td>\n      <td>20.21</td>\n      <td>81.76</td>\n      <td>515.9</td>\n      <td>0.08409</td>\n      <td>0.04712</td>\n      <td>0.02237</td>\n      <td>0.02832</td>\n      <td>0.1901</td>\n      <td>0.05932</td>\n      <td>B</td>\n    </tr>\n    <tr>\n      <th>63</th>\n      <td>9013594</td>\n      <td>13.66</td>\n      <td>15.15</td>\n      <td>88.27</td>\n      <td>580.6</td>\n      <td>0.08268</td>\n      <td>0.07548</td>\n      <td>0.042490</td>\n      <td>0.024710</td>\n      <td>0.1792</td>\n      <td>...</td>\n      <td>19.64</td>\n      <td>97.96</td>\n      <td>657.0</td>\n      <td>0.12750</td>\n      <td>0.31040</td>\n      <td>0.25690</td>\n      <td>0.10540</td>\n      <td>0.3387</td>\n      <td>0.09638</td>\n      <td>B</td>\n    </tr>\n  </tbody>\n</table>\n<p>5 rows × 32 columns</p>\n</div>"
     },
     "execution_count": 142,
     "metadata": {},
     "output_type": "execute_result"
    }
   ]
  },
  {
   "cell_type": "code",
   "source": [
    "new_breast.head()"
   ],
   "metadata": {
    "colab": {
     "base_uri": "https://localhost:8080/",
     "height": 317
    },
    "id": "CzoIeswp2Iso",
    "outputId": "b21b4ff6-e89a-4aba-e6ec-455330a33911",
    "ExecuteTime": {
     "end_time": "2023-05-26T19:49:26.600202Z",
     "start_time": "2023-05-26T19:49:26.549199300Z"
    }
   },
   "execution_count": 143,
   "outputs": [
    {
     "data": {
      "text/plain": "          id  radius_mean  texture_mean  perimeter_mean  area_mean  \\\n426  8711803       19.190         15.94          126.30     1157.0   \n424   924342        9.333         21.94           59.01      264.0   \n472   903011       11.270         15.50           73.38      392.0   \n372   857156       13.490         22.30           86.91      561.0   \n284    87880       13.810         23.75           91.56      597.8   \n\n     smoothness_mean  compactness_mean  concavity_mean  concave points_mean  \\\n426          0.08694           0.11850         0.11930              0.09667   \n424          0.09240           0.05605         0.03996              0.01282   \n472          0.08365           0.11140         0.10070              0.02757   \n372          0.08752           0.07698         0.04751              0.03384   \n284          0.13230           0.17680         0.15580              0.09176   \n\n     symmetry_mean  ...  texture_worst  perimeter_worst  area_worst  \\\n426         0.1741  ...          17.81           146.60      1495.0   \n424         0.1692  ...          25.05            62.86       295.8   \n472         0.1810  ...          18.93            79.73       450.0   \n372         0.1809  ...          31.82            99.00       698.8   \n284         0.2251  ...          41.85           128.50      1153.0   \n\n     smoothness_worst  compactness_worst  concavity_worst  \\\n426            0.1124            0.20160          0.22640   \n424            0.1103            0.08298          0.07993   \n472            0.1102            0.28090          0.30210   \n372            0.1162            0.17110          0.22820   \n284            0.2226            0.52090          0.46460   \n\n     concave points_worst  symmetry_worst  fractal_dimension_worst  diagnosis  \n426               0.17770          0.2443                  0.06251          ?  \n424               0.02564          0.2435                  0.07393          ?  \n472               0.08272          0.2157                  0.10430          ?  \n372               0.12820          0.2871                  0.06917          ?  \n284               0.20130          0.4432                  0.10860          ?  \n\n[5 rows x 32 columns]",
      "text/html": "<div>\n<style scoped>\n    .dataframe tbody tr th:only-of-type {\n        vertical-align: middle;\n    }\n\n    .dataframe tbody tr th {\n        vertical-align: top;\n    }\n\n    .dataframe thead th {\n        text-align: right;\n    }\n</style>\n<table border=\"1\" class=\"dataframe\">\n  <thead>\n    <tr style=\"text-align: right;\">\n      <th></th>\n      <th>id</th>\n      <th>radius_mean</th>\n      <th>texture_mean</th>\n      <th>perimeter_mean</th>\n      <th>area_mean</th>\n      <th>smoothness_mean</th>\n      <th>compactness_mean</th>\n      <th>concavity_mean</th>\n      <th>concave points_mean</th>\n      <th>symmetry_mean</th>\n      <th>...</th>\n      <th>texture_worst</th>\n      <th>perimeter_worst</th>\n      <th>area_worst</th>\n      <th>smoothness_worst</th>\n      <th>compactness_worst</th>\n      <th>concavity_worst</th>\n      <th>concave points_worst</th>\n      <th>symmetry_worst</th>\n      <th>fractal_dimension_worst</th>\n      <th>diagnosis</th>\n    </tr>\n  </thead>\n  <tbody>\n    <tr>\n      <th>426</th>\n      <td>8711803</td>\n      <td>19.190</td>\n      <td>15.94</td>\n      <td>126.30</td>\n      <td>1157.0</td>\n      <td>0.08694</td>\n      <td>0.11850</td>\n      <td>0.11930</td>\n      <td>0.09667</td>\n      <td>0.1741</td>\n      <td>...</td>\n      <td>17.81</td>\n      <td>146.60</td>\n      <td>1495.0</td>\n      <td>0.1124</td>\n      <td>0.20160</td>\n      <td>0.22640</td>\n      <td>0.17770</td>\n      <td>0.2443</td>\n      <td>0.06251</td>\n      <td>?</td>\n    </tr>\n    <tr>\n      <th>424</th>\n      <td>924342</td>\n      <td>9.333</td>\n      <td>21.94</td>\n      <td>59.01</td>\n      <td>264.0</td>\n      <td>0.09240</td>\n      <td>0.05605</td>\n      <td>0.03996</td>\n      <td>0.01282</td>\n      <td>0.1692</td>\n      <td>...</td>\n      <td>25.05</td>\n      <td>62.86</td>\n      <td>295.8</td>\n      <td>0.1103</td>\n      <td>0.08298</td>\n      <td>0.07993</td>\n      <td>0.02564</td>\n      <td>0.2435</td>\n      <td>0.07393</td>\n      <td>?</td>\n    </tr>\n    <tr>\n      <th>472</th>\n      <td>903011</td>\n      <td>11.270</td>\n      <td>15.50</td>\n      <td>73.38</td>\n      <td>392.0</td>\n      <td>0.08365</td>\n      <td>0.11140</td>\n      <td>0.10070</td>\n      <td>0.02757</td>\n      <td>0.1810</td>\n      <td>...</td>\n      <td>18.93</td>\n      <td>79.73</td>\n      <td>450.0</td>\n      <td>0.1102</td>\n      <td>0.28090</td>\n      <td>0.30210</td>\n      <td>0.08272</td>\n      <td>0.2157</td>\n      <td>0.10430</td>\n      <td>?</td>\n    </tr>\n    <tr>\n      <th>372</th>\n      <td>857156</td>\n      <td>13.490</td>\n      <td>22.30</td>\n      <td>86.91</td>\n      <td>561.0</td>\n      <td>0.08752</td>\n      <td>0.07698</td>\n      <td>0.04751</td>\n      <td>0.03384</td>\n      <td>0.1809</td>\n      <td>...</td>\n      <td>31.82</td>\n      <td>99.00</td>\n      <td>698.8</td>\n      <td>0.1162</td>\n      <td>0.17110</td>\n      <td>0.22820</td>\n      <td>0.12820</td>\n      <td>0.2871</td>\n      <td>0.06917</td>\n      <td>?</td>\n    </tr>\n    <tr>\n      <th>284</th>\n      <td>87880</td>\n      <td>13.810</td>\n      <td>23.75</td>\n      <td>91.56</td>\n      <td>597.8</td>\n      <td>0.13230</td>\n      <td>0.17680</td>\n      <td>0.15580</td>\n      <td>0.09176</td>\n      <td>0.2251</td>\n      <td>...</td>\n      <td>41.85</td>\n      <td>128.50</td>\n      <td>1153.0</td>\n      <td>0.2226</td>\n      <td>0.52090</td>\n      <td>0.46460</td>\n      <td>0.20130</td>\n      <td>0.4432</td>\n      <td>0.10860</td>\n      <td>?</td>\n    </tr>\n  </tbody>\n</table>\n<p>5 rows × 32 columns</p>\n</div>"
     },
     "execution_count": 143,
     "metadata": {},
     "output_type": "execute_result"
    }
   ]
  },
  {
   "cell_type": "markdown",
   "source": [
    "# Exercício\n",
    "\n",
    "Empregue a regressão logística para determinar o diagnóstico provável dos novos casos. "
   ],
   "metadata": {
    "id": "bFqOk91JkJv6"
   }
  },
  {
   "cell_type": "markdown",
   "source": [
    "## Treine o modelo\n",
    "\n",
    "Q1. Empregue `max_iter=10000` e observe que **ao menos 1 atributo (além do atributo alvo), não pode ser empregado para entrada do treinamento**. Por que? \n",
    "\n",
    "Q2. Qual quantos são e qual a soma dos coeficientes da regressão logística obtidos após o treinamento? (Dica: os coeficientes inclui também o coeficiente independente.)\n",
    "\n",
    "Q3. Quantos atributos são positivamente relacionados com o aspecto benigno do tumor? \n",
    "\n",
    "Q4. Quais os 5 atributos que mais contribuem positivamente para o aspecto maligno do tumor? (Dica: empregue `np.argsort`)\n",
    "\n",
    "Q5. Qual a acuracidade do modelo sobre o conjunto de treinamento empregado? \n",
    "\n"
   ],
   "metadata": {
    "id": "e5fiH48sk-mZ"
   }
  },
  {
   "cell_type": "code",
   "execution_count": 188,
   "outputs": [],
   "source": [
    "from sklearn.linear_model import LogisticRegression"
   ],
   "metadata": {
    "collapsed": false,
    "ExecuteTime": {
     "end_time": "2023-05-26T20:20:24.129382Z",
     "start_time": "2023-05-26T20:20:24.111382300Z"
    }
   }
  },
  {
   "cell_type": "code",
   "source": [
    "clf = LogisticRegression(max_iter=10000)\n",
    "print(clf)"
   ],
   "metadata": {
    "id": "t328oTBskaI6",
    "ExecuteTime": {
     "end_time": "2023-05-26T20:20:24.378417800Z",
     "start_time": "2023-05-26T20:20:24.355381600Z"
    }
   },
   "execution_count": 189,
   "outputs": [
    {
     "name": "stdout",
     "output_type": "stream",
     "text": [
      "LogisticRegression(max_iter=10000)\n"
     ]
    }
   ]
  },
  {
   "cell_type": "code",
   "execution_count": 190,
   "outputs": [],
   "source": [
    "#breast = breast.dropna()"
   ],
   "metadata": {
    "collapsed": false,
    "ExecuteTime": {
     "end_time": "2023-05-26T20:20:24.657415700Z",
     "start_time": "2023-05-26T20:20:24.644381200Z"
    }
   }
  },
  {
   "cell_type": "code",
   "execution_count": 198,
   "outputs": [
    {
     "data": {
      "text/plain": "     radius_mean  texture_mean  perimeter_mean  area_mean  smoothness_mean  \\\n397        11.46         18.16           73.59      403.1          0.08853   \n146        12.18         14.08           77.25      461.4          0.07734   \n207        11.22         19.86           71.94      387.3          0.10540   \n446        12.43         17.00           78.60      477.3          0.07557   \n63         13.66         15.15           88.27      580.6          0.08268   \n\n     compactness_mean  concavity_mean  concave points_mean  symmetry_mean  \\\n397           0.07694        0.033440             0.015020         0.1411   \n146           0.03212        0.011230             0.005051         0.1673   \n207           0.06779        0.005006             0.007583         0.1940   \n446           0.03454        0.013420             0.016990         0.1472   \n63            0.07548        0.042490             0.024710         0.1792   \n\n     fractal_dimension_mean  ...  radius_worst  texture_worst  \\\n397                 0.06243  ...         12.68          21.61   \n146                 0.05649  ...         12.85          16.47   \n207                 0.06028  ...         11.98          25.78   \n446                 0.05561  ...         12.90          20.21   \n63                  0.05897  ...         14.54          19.64   \n\n     perimeter_worst  area_worst  smoothness_worst  compactness_worst  \\\n397            82.69       489.8           0.11440            0.17890   \n146            81.60       513.1           0.10010            0.05332   \n207            76.91       436.1           0.14240            0.09669   \n446            81.76       515.9           0.08409            0.04712   \n63             97.96       657.0           0.12750            0.31040   \n\n     concavity_worst  concave points_worst  symmetry_worst  \\\n397          0.12260               0.05509          0.2208   \n146          0.04116               0.01852          0.2293   \n207          0.01335               0.02022          0.3292   \n446          0.02237               0.02832          0.1901   \n63           0.25690               0.10540          0.3387   \n\n     fractal_dimension_worst  \n397                  0.07638  \n146                  0.06037  \n207                  0.06522  \n446                  0.05932  \n63                   0.09638  \n\n[5 rows x 30 columns]",
      "text/html": "<div>\n<style scoped>\n    .dataframe tbody tr th:only-of-type {\n        vertical-align: middle;\n    }\n\n    .dataframe tbody tr th {\n        vertical-align: top;\n    }\n\n    .dataframe thead th {\n        text-align: right;\n    }\n</style>\n<table border=\"1\" class=\"dataframe\">\n  <thead>\n    <tr style=\"text-align: right;\">\n      <th></th>\n      <th>radius_mean</th>\n      <th>texture_mean</th>\n      <th>perimeter_mean</th>\n      <th>area_mean</th>\n      <th>smoothness_mean</th>\n      <th>compactness_mean</th>\n      <th>concavity_mean</th>\n      <th>concave points_mean</th>\n      <th>symmetry_mean</th>\n      <th>fractal_dimension_mean</th>\n      <th>...</th>\n      <th>radius_worst</th>\n      <th>texture_worst</th>\n      <th>perimeter_worst</th>\n      <th>area_worst</th>\n      <th>smoothness_worst</th>\n      <th>compactness_worst</th>\n      <th>concavity_worst</th>\n      <th>concave points_worst</th>\n      <th>symmetry_worst</th>\n      <th>fractal_dimension_worst</th>\n    </tr>\n  </thead>\n  <tbody>\n    <tr>\n      <th>397</th>\n      <td>11.46</td>\n      <td>18.16</td>\n      <td>73.59</td>\n      <td>403.1</td>\n      <td>0.08853</td>\n      <td>0.07694</td>\n      <td>0.033440</td>\n      <td>0.015020</td>\n      <td>0.1411</td>\n      <td>0.06243</td>\n      <td>...</td>\n      <td>12.68</td>\n      <td>21.61</td>\n      <td>82.69</td>\n      <td>489.8</td>\n      <td>0.11440</td>\n      <td>0.17890</td>\n      <td>0.12260</td>\n      <td>0.05509</td>\n      <td>0.2208</td>\n      <td>0.07638</td>\n    </tr>\n    <tr>\n      <th>146</th>\n      <td>12.18</td>\n      <td>14.08</td>\n      <td>77.25</td>\n      <td>461.4</td>\n      <td>0.07734</td>\n      <td>0.03212</td>\n      <td>0.011230</td>\n      <td>0.005051</td>\n      <td>0.1673</td>\n      <td>0.05649</td>\n      <td>...</td>\n      <td>12.85</td>\n      <td>16.47</td>\n      <td>81.60</td>\n      <td>513.1</td>\n      <td>0.10010</td>\n      <td>0.05332</td>\n      <td>0.04116</td>\n      <td>0.01852</td>\n      <td>0.2293</td>\n      <td>0.06037</td>\n    </tr>\n    <tr>\n      <th>207</th>\n      <td>11.22</td>\n      <td>19.86</td>\n      <td>71.94</td>\n      <td>387.3</td>\n      <td>0.10540</td>\n      <td>0.06779</td>\n      <td>0.005006</td>\n      <td>0.007583</td>\n      <td>0.1940</td>\n      <td>0.06028</td>\n      <td>...</td>\n      <td>11.98</td>\n      <td>25.78</td>\n      <td>76.91</td>\n      <td>436.1</td>\n      <td>0.14240</td>\n      <td>0.09669</td>\n      <td>0.01335</td>\n      <td>0.02022</td>\n      <td>0.3292</td>\n      <td>0.06522</td>\n    </tr>\n    <tr>\n      <th>446</th>\n      <td>12.43</td>\n      <td>17.00</td>\n      <td>78.60</td>\n      <td>477.3</td>\n      <td>0.07557</td>\n      <td>0.03454</td>\n      <td>0.013420</td>\n      <td>0.016990</td>\n      <td>0.1472</td>\n      <td>0.05561</td>\n      <td>...</td>\n      <td>12.90</td>\n      <td>20.21</td>\n      <td>81.76</td>\n      <td>515.9</td>\n      <td>0.08409</td>\n      <td>0.04712</td>\n      <td>0.02237</td>\n      <td>0.02832</td>\n      <td>0.1901</td>\n      <td>0.05932</td>\n    </tr>\n    <tr>\n      <th>63</th>\n      <td>13.66</td>\n      <td>15.15</td>\n      <td>88.27</td>\n      <td>580.6</td>\n      <td>0.08268</td>\n      <td>0.07548</td>\n      <td>0.042490</td>\n      <td>0.024710</td>\n      <td>0.1792</td>\n      <td>0.05897</td>\n      <td>...</td>\n      <td>14.54</td>\n      <td>19.64</td>\n      <td>97.96</td>\n      <td>657.0</td>\n      <td>0.12750</td>\n      <td>0.31040</td>\n      <td>0.25690</td>\n      <td>0.10540</td>\n      <td>0.3387</td>\n      <td>0.09638</td>\n    </tr>\n  </tbody>\n</table>\n<p>5 rows × 30 columns</p>\n</div>"
     },
     "execution_count": 198,
     "metadata": {},
     "output_type": "execute_result"
    }
   ],
   "source": [
    "x = breast.drop(columns=['diagnosis','id'])\n",
    "y = breast['diagnosis']\n",
    "#mapeamento = {'B': 0, 'M': 1}\n",
    "#y = y.map(mapeamento)\n",
    "x.head()"
   ],
   "metadata": {
    "collapsed": false,
    "ExecuteTime": {
     "end_time": "2023-05-26T20:20:51.939717300Z",
     "start_time": "2023-05-26T20:20:51.917721800Z"
    }
   }
  },
  {
   "cell_type": "code",
   "execution_count": 199,
   "outputs": [
    {
     "data": {
      "text/plain": "array(['B', 'M'], dtype=object)"
     },
     "execution_count": 199,
     "metadata": {},
     "output_type": "execute_result"
    }
   ],
   "source": [
    "y.unique()"
   ],
   "metadata": {
    "collapsed": false,
    "ExecuteTime": {
     "end_time": "2023-05-26T20:20:53.629718700Z",
     "start_time": "2023-05-26T20:20:53.601720300Z"
    }
   }
  },
  {
   "cell_type": "code",
   "execution_count": 253,
   "outputs": [
    {
     "name": "stdout",
     "output_type": "stream",
     "text": [
      "[[-0.94811709 -0.25083662 -0.11933998  0.00691762  0.09311546  0.2187934\n",
      "   0.34845504  0.16972468  0.12696875  0.0200858  -0.02330621 -0.5246577\n",
      "   0.09013387  0.0830665   0.01180634 -0.01101374  0.03967257  0.02212071\n",
      "  -0.0049066  -0.00912465 -0.98161021  0.35658799  0.08917613  0.02366169\n",
      "   0.18838234  0.78218649  1.11937751  0.36983255  0.24416154  0.07827429]] [-0.30121164]\n"
     ]
    }
   ],
   "source": [
    "clf.fit(x,y)\n",
    "print( clf.coef_, clf.intercept_)"
   ],
   "metadata": {
    "collapsed": false,
    "ExecuteTime": {
     "end_time": "2023-05-26T21:22:02.200037700Z",
     "start_time": "2023-05-26T21:22:02.138035700Z"
    }
   }
  },
  {
   "cell_type": "code",
   "execution_count": 254,
   "outputs": [],
   "source": [
    "# Os coeficientes são acessados através do atributo 'coef_'\n",
    "coeficientes = clf.coef_[0]\n",
    "# Número de coeficientes (incluindo o coeficiente independente)\n",
    "num_coeficientes = len(coeficientes) + 1\n",
    "\n",
    "# Soma dos coeficientes (incluindo o coeficiente independente)\n",
    "soma_coeficientes = np.sum(np.abs(coeficientes) + np.abs(clf.intercept_[0]))\n"
   ],
   "metadata": {
    "collapsed": false,
    "ExecuteTime": {
     "end_time": "2023-05-26T21:22:03.555039600Z",
     "start_time": "2023-05-26T21:22:03.528039Z"
    }
   }
  },
  {
   "cell_type": "markdown",
   "source": [
    "Q2"
   ],
   "metadata": {
    "collapsed": false
   }
  },
  {
   "cell_type": "code",
   "execution_count": 255,
   "outputs": [
    {
     "name": "stdout",
     "output_type": "stream",
     "text": [
      "31 , 16.39176325290316\n"
     ]
    }
   ],
   "source": [
    "print(num_coeficientes,',',soma_coeficientes)"
   ],
   "metadata": {
    "collapsed": false,
    "ExecuteTime": {
     "end_time": "2023-05-26T21:22:05.469236300Z",
     "start_time": "2023-05-26T21:22:05.458235300Z"
    }
   }
  },
  {
   "cell_type": "markdown",
   "source": [
    "Q3"
   ],
   "metadata": {
    "collapsed": false
   }
  },
  {
   "cell_type": "code",
   "execution_count": 256,
   "outputs": [
    {
     "name": "stdout",
     "output_type": "stream",
     "text": [
      "Número de atributos positivamente relacionados com o aspecto benigno: 21\n",
      "Número de atributos negativamente relacionados com o aspecto benigno: 9\n"
     ]
    }
   ],
   "source": [
    "from sklearn.linear_model import LogisticRegression\n",
    "\n",
    "coeficientes = clf.coef_\n",
    "\n",
    "# Contar o número de coeficientes positivos\n",
    "# Os coeficientes positivos indicam uma relação positiva entre o atributo e a classe benigna do tumor.\n",
    "num_atributos_positivos = sum(coef > 0 for coef in coeficientes[0])\n",
    "num_atributos_negativos = sum(coef < 0 for coef in coeficientes[0])\n",
    "print(\"Número de atributos positivamente relacionados com o aspecto benigno:\", num_atributos_positivos)\n",
    "print(\"Número de atributos negativamente relacionados com o aspecto benigno:\", num_atributos_negativos)\n"
   ],
   "metadata": {
    "collapsed": false,
    "ExecuteTime": {
     "end_time": "2023-05-26T21:22:06.761270600Z",
     "start_time": "2023-05-26T21:22:06.738236200Z"
    }
   }
  },
  {
   "cell_type": "markdown",
   "source": [
    "Q4"
   ],
   "metadata": {
    "collapsed": false
   }
  },
  {
   "cell_type": "code",
   "execution_count": 257,
   "outputs": [
    {
     "name": "stdout",
     "output_type": "stream",
     "text": [
      "radius_worst\n",
      "radius_mean\n",
      "texture_se\n",
      "texture_mean\n",
      "perimeter_mean\n"
     ]
    }
   ],
   "source": [
    "import numpy as np\n",
    "\n",
    "coeficientes = clf.coef_\n",
    "\n",
    "# Obtendo os índices dos atributos ordenados em ordem crescente\n",
    "indices_ordenados = np.argsort(coeficientes)\n",
    "\n",
    "# Obtendo os 5 atributos que mais contribuem positivamente para o aspecto maligno do tumor\n",
    "top_5_atributos = indices_ordenados[0][:5]\n",
    "\n",
    "# Exibindo os nomes dos atributos\n",
    "for indice in top_5_atributos:\n",
    "    nome_atributo = x.columns[indice]\n",
    "    print(nome_atributo)\n"
   ],
   "metadata": {
    "collapsed": false,
    "ExecuteTime": {
     "end_time": "2023-05-26T21:22:09.171915900Z",
     "start_time": "2023-05-26T21:22:09.161866200Z"
    }
   }
  },
  {
   "cell_type": "markdown",
   "source": [
    "Q5"
   ],
   "metadata": {
    "collapsed": false
   }
  },
  {
   "cell_type": "code",
   "execution_count": 216,
   "outputs": [
    {
     "name": "stdout",
     "output_type": "stream",
     "text": [
      "\n",
      "Score de Acuracidade:\n",
      "\n",
      "0.941\n"
     ]
    }
   ],
   "source": [
    "print('\\nScore de Acuracidade:\\n')\n",
    "print(round(clf.score(x,y),3))"
   ],
   "metadata": {
    "collapsed": false,
    "ExecuteTime": {
     "end_time": "2023-05-26T20:30:40.228141700Z",
     "start_time": "2023-05-26T20:30:40.208144300Z"
    }
   }
  },
  {
   "cell_type": "markdown",
   "source": [
    "## Predição dos novos casos"
   ],
   "metadata": {
    "id": "Y_MEtn_nnTzj"
   }
  },
  {
   "cell_type": "markdown",
   "source": [
    "Faça a predição dos novos casos.\n",
    "\n",
    "Q6. Quantos casos benignos e quandos malignos você obteve? "
   ],
   "metadata": {
    "id": "YXDG5Ye0oIkL"
   }
  },
  {
   "cell_type": "code",
   "source": [
    "x2 = new_breast.drop(columns=['diagnosis','id'])\n",
    "y2 = clf.predict(x2)\n",
    "print(sum(y2 == 'B'),sum(y2 == 'M'))# Seu código"
   ],
   "metadata": {
    "id": "ywrhLu1_k79i",
    "ExecuteTime": {
     "end_time": "2023-05-26T20:53:37.442495200Z",
     "start_time": "2023-05-26T20:53:37.414459300Z"
    }
   },
   "execution_count": 233,
   "outputs": [
    {
     "name": "stdout",
     "output_type": "stream",
     "text": [
      "171 99\n"
     ]
    }
   ]
  },
  {
   "cell_type": "markdown",
   "source": [
    "Q7. O dataset abaixo contém as respostas dos novos casos. Compare com suas predições. Qual o percentual de acerto desse modelo sobre esse conjunto? É o mesmo sobre que o resultado anterior? O que você pode dizer sobre esse resultado? \n"
   ],
   "metadata": {
    "id": "BlV-NbV4pJMa"
   }
  },
  {
   "cell_type": "code",
   "source": [
    "new_breast_answers.head()"
   ],
   "metadata": {
    "id": "ju3PsdXmpLlR",
    "outputId": "ff2c7832-b27f-4eaf-9e79-472b8887c718",
    "colab": {
     "base_uri": "https://localhost:8080/",
     "height": 206
    }
   },
   "execution_count": null,
   "outputs": [
    {
     "output_type": "execute_result",
     "data": {
      "text/plain": [
       "  diagnosis\n",
       "0         M\n",
       "1         B\n",
       "2         B\n",
       "3         B\n",
       "4         M"
      ],
      "text/html": [
       "\n",
       "  <div id=\"df-1bfd82c0-0a6c-4aac-88d3-a2628e32c4cb\">\n",
       "    <div class=\"colab-df-container\">\n",
       "      <div>\n",
       "<style scoped>\n",
       "    .dataframe tbody tr th:only-of-type {\n",
       "        vertical-align: middle;\n",
       "    }\n",
       "\n",
       "    .dataframe tbody tr th {\n",
       "        vertical-align: top;\n",
       "    }\n",
       "\n",
       "    .dataframe thead th {\n",
       "        text-align: right;\n",
       "    }\n",
       "</style>\n",
       "<table border=\"1\" class=\"dataframe\">\n",
       "  <thead>\n",
       "    <tr style=\"text-align: right;\">\n",
       "      <th></th>\n",
       "      <th>diagnosis</th>\n",
       "    </tr>\n",
       "  </thead>\n",
       "  <tbody>\n",
       "    <tr>\n",
       "      <th>0</th>\n",
       "      <td>M</td>\n",
       "    </tr>\n",
       "    <tr>\n",
       "      <th>1</th>\n",
       "      <td>B</td>\n",
       "    </tr>\n",
       "    <tr>\n",
       "      <th>2</th>\n",
       "      <td>B</td>\n",
       "    </tr>\n",
       "    <tr>\n",
       "      <th>3</th>\n",
       "      <td>B</td>\n",
       "    </tr>\n",
       "    <tr>\n",
       "      <th>4</th>\n",
       "      <td>M</td>\n",
       "    </tr>\n",
       "  </tbody>\n",
       "</table>\n",
       "</div>\n",
       "      <button class=\"colab-df-convert\" onclick=\"convertToInteractive('df-1bfd82c0-0a6c-4aac-88d3-a2628e32c4cb')\"\n",
       "              title=\"Convert this dataframe to an interactive table.\"\n",
       "              style=\"display:none;\">\n",
       "        \n",
       "  <svg xmlns=\"http://www.w3.org/2000/svg\" height=\"24px\"viewBox=\"0 0 24 24\"\n",
       "       width=\"24px\">\n",
       "    <path d=\"M0 0h24v24H0V0z\" fill=\"none\"/>\n",
       "    <path d=\"M18.56 5.44l.94 2.06.94-2.06 2.06-.94-2.06-.94-.94-2.06-.94 2.06-2.06.94zm-11 1L8.5 8.5l.94-2.06 2.06-.94-2.06-.94L8.5 2.5l-.94 2.06-2.06.94zm10 10l.94 2.06.94-2.06 2.06-.94-2.06-.94-.94-2.06-.94 2.06-2.06.94z\"/><path d=\"M17.41 7.96l-1.37-1.37c-.4-.4-.92-.59-1.43-.59-.52 0-1.04.2-1.43.59L10.3 9.45l-7.72 7.72c-.78.78-.78 2.05 0 2.83L4 21.41c.39.39.9.59 1.41.59.51 0 1.02-.2 1.41-.59l7.78-7.78 2.81-2.81c.8-.78.8-2.07 0-2.86zM5.41 20L4 18.59l7.72-7.72 1.47 1.35L5.41 20z\"/>\n",
       "  </svg>\n",
       "      </button>\n",
       "      \n",
       "  <style>\n",
       "    .colab-df-container {\n",
       "      display:flex;\n",
       "      flex-wrap:wrap;\n",
       "      gap: 12px;\n",
       "    }\n",
       "\n",
       "    .colab-df-convert {\n",
       "      background-color: #E8F0FE;\n",
       "      border: none;\n",
       "      border-radius: 50%;\n",
       "      cursor: pointer;\n",
       "      display: none;\n",
       "      fill: #1967D2;\n",
       "      height: 32px;\n",
       "      padding: 0 0 0 0;\n",
       "      width: 32px;\n",
       "    }\n",
       "\n",
       "    .colab-df-convert:hover {\n",
       "      background-color: #E2EBFA;\n",
       "      box-shadow: 0px 1px 2px rgba(60, 64, 67, 0.3), 0px 1px 3px 1px rgba(60, 64, 67, 0.15);\n",
       "      fill: #174EA6;\n",
       "    }\n",
       "\n",
       "    [theme=dark] .colab-df-convert {\n",
       "      background-color: #3B4455;\n",
       "      fill: #D2E3FC;\n",
       "    }\n",
       "\n",
       "    [theme=dark] .colab-df-convert:hover {\n",
       "      background-color: #434B5C;\n",
       "      box-shadow: 0px 1px 3px 1px rgba(0, 0, 0, 0.15);\n",
       "      filter: drop-shadow(0px 1px 2px rgba(0, 0, 0, 0.3));\n",
       "      fill: #FFFFFF;\n",
       "    }\n",
       "  </style>\n",
       "\n",
       "      <script>\n",
       "        const buttonEl =\n",
       "          document.querySelector('#df-1bfd82c0-0a6c-4aac-88d3-a2628e32c4cb button.colab-df-convert');\n",
       "        buttonEl.style.display =\n",
       "          google.colab.kernel.accessAllowed ? 'block' : 'none';\n",
       "\n",
       "        async function convertToInteractive(key) {\n",
       "          const element = document.querySelector('#df-1bfd82c0-0a6c-4aac-88d3-a2628e32c4cb');\n",
       "          const dataTable =\n",
       "            await google.colab.kernel.invokeFunction('convertToInteractive',\n",
       "                                                     [key], {});\n",
       "          if (!dataTable) return;\n",
       "\n",
       "          const docLinkHtml = 'Like what you see? Visit the ' +\n",
       "            '<a target=\"_blank\" href=https://colab.research.google.com/notebooks/data_table.ipynb>data table notebook</a>'\n",
       "            + ' to learn more about interactive tables.';\n",
       "          element.innerHTML = '';\n",
       "          dataTable['output_type'] = 'display_data';\n",
       "          await google.colab.output.renderOutput(dataTable, element);\n",
       "          const docLink = document.createElement('div');\n",
       "          docLink.innerHTML = docLinkHtml;\n",
       "          element.appendChild(docLink);\n",
       "        }\n",
       "      </script>\n",
       "    </div>\n",
       "  </div>\n",
       "  "
      ]
     },
     "metadata": {},
     "execution_count": 247
    }
   ]
  },
  {
   "cell_type": "code",
   "execution_count": 234,
   "outputs": [
    {
     "data": {
      "text/plain": "diagnosis\nB            170\nM            100\ndtype: int64"
     },
     "execution_count": 234,
     "metadata": {},
     "output_type": "execute_result"
    }
   ],
   "source": [
    "new_breast_answers.value_counts()"
   ],
   "metadata": {
    "collapsed": false,
    "ExecuteTime": {
     "end_time": "2023-05-26T20:55:00.733600800Z",
     "start_time": "2023-05-26T20:55:00.630577900Z"
    }
   }
  },
  {
   "cell_type": "code",
   "execution_count": 241,
   "outputs": [
    {
     "name": "stdout",
     "output_type": "stream",
     "text": [
      "Percentual de acerto do modelo sobre o conjunto de teste: 0.952%\n"
     ]
    }
   ],
   "source": [
    "y_test = new_breast_answers['diagnosis']\n",
    "predicoes = y2\n",
    "# Calcular o percentual de acerto do modelo sobre o conjunto de teste considerando apenas \"B\" ou \"M\"\n",
    "percentual_acerto = (predicoes == y_test).sum() / len(y_test)\n",
    "\n",
    "# Exibir o percentual de acerto\n",
    "print(f'Percentual de acerto do modelo sobre o conjunto de teste: {percentual_acerto:.3f}%')"
   ],
   "metadata": {
    "collapsed": false,
    "ExecuteTime": {
     "end_time": "2023-05-26T21:07:46.034238800Z",
     "start_time": "2023-05-26T21:07:46.017239Z"
    }
   }
  },
  {
   "cell_type": "markdown",
   "source": [
    "## Treine o modelo com os dados normalizado (`minmax`)\n",
    "\n",
    "Na norma `minmax` cada atributo deve estar em uma escala de $[0,1]$.\n",
    "\n",
    "Q8. Para o novo modelo, quantos atributos são positivamente relacionados com o aspecto benigno do tumor? \n",
    "\n",
    "Q9. Para o novo modelo, quais os 5 atributos que mais contribuem positivamente para o aspecto maligno do tumor? São os mesmos da lista anteriormente obtida? (Dica: empregue `np.argsort`)\n",
    "\n",
    ">> **A normalização, mesmo não sendo obrigatória alguns modelos permite uma melhor interpretabilidade dos resultados, por exemplo da participação de cada atributo na determinação da variável alvo.**\n",
    "\n",
    "Q10. Para o novo modelo, qual a acuracidade do modelo sobre o conjunto de treinamento empregado? \n",
    "\n",
    "Q11. Quantos casos B e M são obtidos com o novo modelo para o conjunto de novos casos? \n",
    "\n",
    "Q12. Quantos casos B seriam obtidos se aumentarmos a margem segurança requerendo uma probabilidade mínima de 60% para os casos benignos (Dica: empregue `clf.predict_proba`)."
   ],
   "metadata": {
    "id": "ziHUPvKaqXez"
   }
  },
  {
   "cell_type": "markdown",
   "source": [
    "Q8"
   ],
   "metadata": {
    "collapsed": false
   }
  },
  {
   "cell_type": "code",
   "source": [
    "x3 = breast.drop(columns=['diagnosis','id'])\n",
    "y3 = breast['diagnosis']"
   ],
   "metadata": {
    "id": "WOXyZUS3qXe7",
    "ExecuteTime": {
     "end_time": "2023-05-26T21:29:15.416999300Z",
     "start_time": "2023-05-26T21:29:15.399962500Z"
    }
   },
   "execution_count": 272,
   "outputs": []
  },
  {
   "cell_type": "code",
   "execution_count": 273,
   "outputs": [],
   "source": [
    "from sklearn.preprocessing import MinMaxScaler\n",
    "# Crie uma instância do MinMaxScaler\n",
    "scaler = MinMaxScaler()\n",
    "\n",
    "# Ajuste o scaler aos dados e aplique a transformação de escala\n",
    "dados_escalados = scaler.fit_transform(x3)"
   ],
   "metadata": {
    "collapsed": false,
    "ExecuteTime": {
     "end_time": "2023-05-26T21:29:15.936966800Z",
     "start_time": "2023-05-26T21:29:15.917961500Z"
    }
   }
  },
  {
   "cell_type": "code",
   "execution_count": 274,
   "outputs": [],
   "source": [
    "clf.fit(dados_escalados,y3)\n",
    "# Os coeficientes são acessados através do atributo 'coef_'\n",
    "coeficientes = clf.coef_[0]\n",
    "# Número de coeficientes (incluindo o coeficiente independente)\n",
    "num_coeficientes = len(coeficientes) + 1\n",
    "\n",
    "# Soma dos coeficientes (incluindo o coeficiente independente)\n",
    "soma_coeficientes = np.sum(np.abs(coeficientes) + np.abs(clf.intercept_[0]))"
   ],
   "metadata": {
    "collapsed": false,
    "ExecuteTime": {
     "end_time": "2023-05-26T21:29:16.321964100Z",
     "start_time": "2023-05-26T21:29:16.292966Z"
    }
   }
  },
  {
   "cell_type": "code",
   "execution_count": 281,
   "outputs": [
    {
     "name": "stdout",
     "output_type": "stream",
     "text": [
      "Número de atributos positivamente relacionados com o aspecto benigno: 25\n",
      "Número de atributos negativamente relacionados com o aspecto benigno: 5\n"
     ]
    }
   ],
   "source": [
    "coeficientes = clf.coef_\n",
    "\n",
    "# Contar o número de coeficientes positivos\n",
    "# Os coeficientes positivos indicam uma relação positiva entre o atributo e a classe benigna do tumor.\n",
    "num_atributos_positivos = sum(coef > 0 for coef in coeficientes[0])\n",
    "num_atributos_negativos = sum(coef <= 0 for coef in coeficientes[0])\n",
    "print(\"Número de atributos positivamente relacionados com o aspecto benigno:\", num_atributos_positivos)\n",
    "print(\"Número de atributos negativamente relacionados com o aspecto benigno:\", num_atributos_negativos)"
   ],
   "metadata": {
    "collapsed": false,
    "ExecuteTime": {
     "end_time": "2023-05-26T21:32:56.387755700Z",
     "start_time": "2023-05-26T21:32:56.373738Z"
    }
   }
  },
  {
   "cell_type": "markdown",
   "source": [
    "Q9"
   ],
   "metadata": {
    "collapsed": false
   }
  },
  {
   "cell_type": "code",
   "execution_count": 276,
   "outputs": [
    {
     "name": "stdout",
     "output_type": "stream",
     "text": [
      "fractal_dimension_mean\n",
      "symmetry_se\n",
      "fractal_dimension_se\n",
      "compactness_se\n",
      "concavity_se\n"
     ]
    }
   ],
   "source": [
    "import numpy as np\n",
    "\n",
    "\n",
    "# Obtendo os índices dos atributos ordenados em ordem crescente\n",
    "indices_ordenados = np.argsort(coeficientes)\n",
    "\n",
    "# Obtendo os 5 atributos que mais contribuem positivamente para o aspecto maligno do tumor\n",
    "top_5_atributos = indices_ordenados[0][:5]\n",
    "\n",
    "# Exibindo os nomes dos atributos\n",
    "for indice in top_5_atributos:\n",
    "    nome_atributo = x3.columns[indice]\n",
    "    print(nome_atributo)"
   ],
   "metadata": {
    "collapsed": false,
    "ExecuteTime": {
     "end_time": "2023-05-26T21:29:17.860960900Z",
     "start_time": "2023-05-26T21:29:17.845962100Z"
    }
   }
  },
  {
   "cell_type": "markdown",
   "source": [
    "Q10"
   ],
   "metadata": {
    "collapsed": false
   }
  },
  {
   "cell_type": "code",
   "execution_count": 277,
   "outputs": [
    {
     "name": "stdout",
     "output_type": "stream",
     "text": [
      "\n",
      "Score de Acuracidade:\n",
      "\n",
      "0.963\n"
     ]
    }
   ],
   "source": [
    "print('\\nScore de Acuracidade:\\n')\n",
    "print(round(clf.score(dados_escalados,y3),3))"
   ],
   "metadata": {
    "collapsed": false,
    "ExecuteTime": {
     "end_time": "2023-05-26T21:29:20.520981600Z",
     "start_time": "2023-05-26T21:29:20.502963700Z"
    }
   }
  },
  {
   "cell_type": "markdown",
   "source": [
    "Q11"
   ],
   "metadata": {
    "collapsed": false
   }
  },
  {
   "cell_type": "code",
   "execution_count": 284,
   "outputs": [
    {
     "name": "stdout",
     "output_type": "stream",
     "text": [
      "177 93\n"
     ]
    }
   ],
   "source": [
    "from sklearn.preprocessing import MinMaxScaler\n",
    "x2 = new_breast.drop(columns=['diagnosis','id'])\n",
    "# Crie uma instância do MinMaxScaler\n",
    "scaler = MinMaxScaler()\n",
    "# Ajuste o scaler aos dados e aplique a transformação de escala\n",
    "dados_escalados = scaler.fit_transform(x2)\n",
    "y2 = clf.predict(dados_escalados)\n",
    "print(sum(y2 == 'B'),sum(y2 == 'M'))# Seu código"
   ],
   "metadata": {
    "collapsed": false,
    "ExecuteTime": {
     "end_time": "2023-05-26T21:37:15.113151800Z",
     "start_time": "2023-05-26T21:37:15.084151400Z"
    }
   }
  },
  {
   "cell_type": "markdown",
   "source": [
    "Q12"
   ],
   "metadata": {
    "collapsed": false
   }
  },
  {
   "cell_type": "code",
   "execution_count": 285,
   "outputs": [
    {
     "name": "stdout",
     "output_type": "stream",
     "text": [
      "Número de casos benignos com probabilidade mínima de 60%: 169\n"
     ]
    }
   ],
   "source": [
    "# Obter as probabilidades de cada classe para cada amostra\n",
    "probas = clf.predict_proba(dados_escalados)\n",
    "\n",
    "# Obter as probabilidades de casos benignos (B)\n",
    "prob_benigno = probas[:, 0]  # A probabilidade da classe benigno está na coluna 0\n",
    "\n",
    "# Obter o número de casos benignos com probabilidade mínima de 60%\n",
    "num_benignos = len(prob_benigno[prob_benigno >= 0.6])\n",
    "\n",
    "# Exibir o número de casos benignos\n",
    "print(f\"Número de casos benignos com probabilidade mínima de 60%: {num_benignos}\")\n"
   ],
   "metadata": {
    "collapsed": false,
    "ExecuteTime": {
     "end_time": "2023-05-26T21:46:02.674631300Z",
     "start_time": "2023-05-26T21:46:02.650557500Z"
    }
   }
  },
  {
   "cell_type": "markdown",
   "source": [],
   "metadata": {
    "id": "etXpvHg0zeya"
   }
  }
 ]
}
