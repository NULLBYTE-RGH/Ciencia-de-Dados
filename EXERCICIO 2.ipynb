{
 "cells": [
  {
   "cell_type": "code",
   "execution_count": 75,
   "metadata": {
    "collapsed": true
   },
   "outputs": [],
   "source": [
    "import pandas as pd\n",
    "import numpy as np"
   ]
  },
  {
   "cell_type": "code",
   "execution_count": 3,
   "outputs": [
    {
     "data": {
      "text/plain": "   total_bill   tip     sex smoker  day    time  size\n0       16.99  1.01  Female     No  Sun  Dinner     2\n1       10.34  1.66    Male     No  Sun  Dinner     3\n2       21.01  3.50    Male     No  Sun  Dinner     3\n3       23.68  3.31    Male     No  Sun  Dinner     2\n4       24.59  3.61  Female     No  Sun  Dinner     4",
      "text/html": "<div>\n<style scoped>\n    .dataframe tbody tr th:only-of-type {\n        vertical-align: middle;\n    }\n\n    .dataframe tbody tr th {\n        vertical-align: top;\n    }\n\n    .dataframe thead th {\n        text-align: right;\n    }\n</style>\n<table border=\"1\" class=\"dataframe\">\n  <thead>\n    <tr style=\"text-align: right;\">\n      <th></th>\n      <th>total_bill</th>\n      <th>tip</th>\n      <th>sex</th>\n      <th>smoker</th>\n      <th>day</th>\n      <th>time</th>\n      <th>size</th>\n    </tr>\n  </thead>\n  <tbody>\n    <tr>\n      <th>0</th>\n      <td>16.99</td>\n      <td>1.01</td>\n      <td>Female</td>\n      <td>No</td>\n      <td>Sun</td>\n      <td>Dinner</td>\n      <td>2</td>\n    </tr>\n    <tr>\n      <th>1</th>\n      <td>10.34</td>\n      <td>1.66</td>\n      <td>Male</td>\n      <td>No</td>\n      <td>Sun</td>\n      <td>Dinner</td>\n      <td>3</td>\n    </tr>\n    <tr>\n      <th>2</th>\n      <td>21.01</td>\n      <td>3.50</td>\n      <td>Male</td>\n      <td>No</td>\n      <td>Sun</td>\n      <td>Dinner</td>\n      <td>3</td>\n    </tr>\n    <tr>\n      <th>3</th>\n      <td>23.68</td>\n      <td>3.31</td>\n      <td>Male</td>\n      <td>No</td>\n      <td>Sun</td>\n      <td>Dinner</td>\n      <td>2</td>\n    </tr>\n    <tr>\n      <th>4</th>\n      <td>24.59</td>\n      <td>3.61</td>\n      <td>Female</td>\n      <td>No</td>\n      <td>Sun</td>\n      <td>Dinner</td>\n      <td>4</td>\n    </tr>\n  </tbody>\n</table>\n</div>"
     },
     "execution_count": 3,
     "metadata": {},
     "output_type": "execute_result"
    }
   ],
   "source": [
    "tips = pd.read_csv('https://raw.githubusercontent.com/Rogerio-mack/Visualizacao-de-Dados-em-Python/main/data/tips.csv')\n",
    "tips.head()"
   ],
   "metadata": {
    "collapsed": false
   }
  },
  {
   "cell_type": "markdown",
   "source": [
    "Considere a base de dados tips. Considerando somente os finais de semana, quem tem média de participantes na mesa maior, fumantes ou não fumantes"
   ],
   "metadata": {
    "collapsed": false
   }
  },
  {
   "cell_type": "code",
   "execution_count": 35,
   "outputs": [],
   "source": [
    "Sabado = tips[tips.day == 'Sat']\n",
    "Domingo = tips[tips.day == 'Sun']\n",
    "FinalDsemna = pd.concat([Sabado,Domingo])"
   ],
   "metadata": {
    "collapsed": false
   }
  },
  {
   "cell_type": "code",
   "execution_count": 37,
   "outputs": [
    {
     "data": {
      "text/plain": "     total_bill   tip     sex smoker  day    time  size\n19        20.65  3.35    Male     No  Sat  Dinner     3\n20        17.92  4.08    Male     No  Sat  Dinner     2\n21        20.29  2.75  Female     No  Sat  Dinner     2\n22        15.77  2.23  Female     No  Sat  Dinner     2\n23        39.42  7.58    Male     No  Sat  Dinner     4\n..          ...   ...     ...    ...  ...     ...   ...\n186       20.90  3.50  Female    Yes  Sun  Dinner     3\n187       30.46  2.00    Male    Yes  Sun  Dinner     5\n188       18.15  3.50  Female    Yes  Sun  Dinner     3\n189       23.10  4.00    Male    Yes  Sun  Dinner     3\n190       15.69  1.50    Male    Yes  Sun  Dinner     2\n\n[163 rows x 7 columns]",
      "text/html": "<div>\n<style scoped>\n    .dataframe tbody tr th:only-of-type {\n        vertical-align: middle;\n    }\n\n    .dataframe tbody tr th {\n        vertical-align: top;\n    }\n\n    .dataframe thead th {\n        text-align: right;\n    }\n</style>\n<table border=\"1\" class=\"dataframe\">\n  <thead>\n    <tr style=\"text-align: right;\">\n      <th></th>\n      <th>total_bill</th>\n      <th>tip</th>\n      <th>sex</th>\n      <th>smoker</th>\n      <th>day</th>\n      <th>time</th>\n      <th>size</th>\n    </tr>\n  </thead>\n  <tbody>\n    <tr>\n      <th>19</th>\n      <td>20.65</td>\n      <td>3.35</td>\n      <td>Male</td>\n      <td>No</td>\n      <td>Sat</td>\n      <td>Dinner</td>\n      <td>3</td>\n    </tr>\n    <tr>\n      <th>20</th>\n      <td>17.92</td>\n      <td>4.08</td>\n      <td>Male</td>\n      <td>No</td>\n      <td>Sat</td>\n      <td>Dinner</td>\n      <td>2</td>\n    </tr>\n    <tr>\n      <th>21</th>\n      <td>20.29</td>\n      <td>2.75</td>\n      <td>Female</td>\n      <td>No</td>\n      <td>Sat</td>\n      <td>Dinner</td>\n      <td>2</td>\n    </tr>\n    <tr>\n      <th>22</th>\n      <td>15.77</td>\n      <td>2.23</td>\n      <td>Female</td>\n      <td>No</td>\n      <td>Sat</td>\n      <td>Dinner</td>\n      <td>2</td>\n    </tr>\n    <tr>\n      <th>23</th>\n      <td>39.42</td>\n      <td>7.58</td>\n      <td>Male</td>\n      <td>No</td>\n      <td>Sat</td>\n      <td>Dinner</td>\n      <td>4</td>\n    </tr>\n    <tr>\n      <th>...</th>\n      <td>...</td>\n      <td>...</td>\n      <td>...</td>\n      <td>...</td>\n      <td>...</td>\n      <td>...</td>\n      <td>...</td>\n    </tr>\n    <tr>\n      <th>186</th>\n      <td>20.90</td>\n      <td>3.50</td>\n      <td>Female</td>\n      <td>Yes</td>\n      <td>Sun</td>\n      <td>Dinner</td>\n      <td>3</td>\n    </tr>\n    <tr>\n      <th>187</th>\n      <td>30.46</td>\n      <td>2.00</td>\n      <td>Male</td>\n      <td>Yes</td>\n      <td>Sun</td>\n      <td>Dinner</td>\n      <td>5</td>\n    </tr>\n    <tr>\n      <th>188</th>\n      <td>18.15</td>\n      <td>3.50</td>\n      <td>Female</td>\n      <td>Yes</td>\n      <td>Sun</td>\n      <td>Dinner</td>\n      <td>3</td>\n    </tr>\n    <tr>\n      <th>189</th>\n      <td>23.10</td>\n      <td>4.00</td>\n      <td>Male</td>\n      <td>Yes</td>\n      <td>Sun</td>\n      <td>Dinner</td>\n      <td>3</td>\n    </tr>\n    <tr>\n      <th>190</th>\n      <td>15.69</td>\n      <td>1.50</td>\n      <td>Male</td>\n      <td>Yes</td>\n      <td>Sun</td>\n      <td>Dinner</td>\n      <td>2</td>\n    </tr>\n  </tbody>\n</table>\n<p>163 rows × 7 columns</p>\n</div>"
     },
     "execution_count": 37,
     "metadata": {},
     "output_type": "execute_result"
    }
   ],
   "source": [
    "FinalDsemna"
   ],
   "metadata": {
    "collapsed": false
   }
  },
  {
   "cell_type": "code",
   "execution_count": 41,
   "outputs": [
    {
     "data": {
      "text/plain": "smoker\nNo     102\nYes     61\ndtype: int64"
     },
     "execution_count": 41,
     "metadata": {},
     "output_type": "execute_result"
    }
   ],
   "source": [
    "FinalDsemna.value_counts('smoker')"
   ],
   "metadata": {
    "collapsed": false
   }
  },
  {
   "cell_type": "code",
   "execution_count": 54,
   "outputs": [
    {
     "data": {
      "text/plain": "'63 %'"
     },
     "execution_count": 54,
     "metadata": {},
     "output_type": "execute_result"
    }
   ],
   "source": [
    "str(round((102/163)*100)) + ' %'"
   ],
   "metadata": {
    "collapsed": false
   }
  },
  {
   "cell_type": "code",
   "execution_count": 53,
   "outputs": [
    {
     "data": {
      "text/plain": "'37 %'"
     },
     "execution_count": 53,
     "metadata": {},
     "output_type": "execute_result"
    }
   ],
   "source": [
    "str(round((61/163)*100)) + ' %'"
   ],
   "metadata": {
    "collapsed": false
   }
  },
  {
   "cell_type": "markdown",
   "source": [
    "=========================================================================================================================================================="
   ],
   "metadata": {
    "collapsed": false
   }
  },
  {
   "cell_type": "markdown",
   "source": [
    "Acesse a base de dados insurance para as questões a seguir."
   ],
   "metadata": {
    "collapsed": false
   }
  },
  {
   "cell_type": "code",
   "execution_count": 56,
   "outputs": [
    {
     "data": {
      "text/plain": "   age     sex     bmi  children smoker     region      charges\n0   19  female  27.900         0    yes  southwest  16884.92400\n1   18    male  33.770         1     no  southeast   1725.55230\n2   28    male  33.000         3     no  southeast   4449.46200\n3   33    male  22.705         0     no  northwest  21984.47061\n4   32    male  28.880         0     no  northwest   3866.85520",
      "text/html": "<div>\n<style scoped>\n    .dataframe tbody tr th:only-of-type {\n        vertical-align: middle;\n    }\n\n    .dataframe tbody tr th {\n        vertical-align: top;\n    }\n\n    .dataframe thead th {\n        text-align: right;\n    }\n</style>\n<table border=\"1\" class=\"dataframe\">\n  <thead>\n    <tr style=\"text-align: right;\">\n      <th></th>\n      <th>age</th>\n      <th>sex</th>\n      <th>bmi</th>\n      <th>children</th>\n      <th>smoker</th>\n      <th>region</th>\n      <th>charges</th>\n    </tr>\n  </thead>\n  <tbody>\n    <tr>\n      <th>0</th>\n      <td>19</td>\n      <td>female</td>\n      <td>27.900</td>\n      <td>0</td>\n      <td>yes</td>\n      <td>southwest</td>\n      <td>16884.92400</td>\n    </tr>\n    <tr>\n      <th>1</th>\n      <td>18</td>\n      <td>male</td>\n      <td>33.770</td>\n      <td>1</td>\n      <td>no</td>\n      <td>southeast</td>\n      <td>1725.55230</td>\n    </tr>\n    <tr>\n      <th>2</th>\n      <td>28</td>\n      <td>male</td>\n      <td>33.000</td>\n      <td>3</td>\n      <td>no</td>\n      <td>southeast</td>\n      <td>4449.46200</td>\n    </tr>\n    <tr>\n      <th>3</th>\n      <td>33</td>\n      <td>male</td>\n      <td>22.705</td>\n      <td>0</td>\n      <td>no</td>\n      <td>northwest</td>\n      <td>21984.47061</td>\n    </tr>\n    <tr>\n      <th>4</th>\n      <td>32</td>\n      <td>male</td>\n      <td>28.880</td>\n      <td>0</td>\n      <td>no</td>\n      <td>northwest</td>\n      <td>3866.85520</td>\n    </tr>\n  </tbody>\n</table>\n</div>"
     },
     "execution_count": 56,
     "metadata": {},
     "output_type": "execute_result"
    }
   ],
   "source": [
    "en = pd.read_csv('https://raw.githubusercontent.com/Rogerio-mack/IMT_Ciencia_de_Dados/main/data/insurance.csv')\n",
    "en.head()"
   ],
   "metadata": {
    "collapsed": false
   }
  },
  {
   "cell_type": "markdown",
   "source": [
    "Q2. Qual percentual de homens e mulheres assegurados na base?"
   ],
   "metadata": {
    "collapsed": false
   }
  },
  {
   "cell_type": "code",
   "execution_count": 72,
   "outputs": [
    {
     "data": {
      "text/plain": "       age  sex  bmi  children  smoker  region  charges\nsex                                                    \nFalse  676  676  676       676     676     676      676\nTrue   662  662  662       662     662     662      662",
      "text/html": "<div>\n<style scoped>\n    .dataframe tbody tr th:only-of-type {\n        vertical-align: middle;\n    }\n\n    .dataframe tbody tr th {\n        vertical-align: top;\n    }\n\n    .dataframe thead th {\n        text-align: right;\n    }\n</style>\n<table border=\"1\" class=\"dataframe\">\n  <thead>\n    <tr style=\"text-align: right;\">\n      <th></th>\n      <th>age</th>\n      <th>sex</th>\n      <th>bmi</th>\n      <th>children</th>\n      <th>smoker</th>\n      <th>region</th>\n      <th>charges</th>\n    </tr>\n    <tr>\n      <th>sex</th>\n      <th></th>\n      <th></th>\n      <th></th>\n      <th></th>\n      <th></th>\n      <th></th>\n      <th></th>\n    </tr>\n  </thead>\n  <tbody>\n    <tr>\n      <th>False</th>\n      <td>676</td>\n      <td>676</td>\n      <td>676</td>\n      <td>676</td>\n      <td>676</td>\n      <td>676</td>\n      <td>676</td>\n    </tr>\n    <tr>\n      <th>True</th>\n      <td>662</td>\n      <td>662</td>\n      <td>662</td>\n      <td>662</td>\n      <td>662</td>\n      <td>662</td>\n      <td>662</td>\n    </tr>\n  </tbody>\n</table>\n</div>"
     },
     "metadata": {},
     "output_type": "display_data"
    }
   ],
   "source": [
    "display(en.groupby(en.sex=='female').count())"
   ],
   "metadata": {
    "collapsed": false
   }
  },
  {
   "cell_type": "code",
   "execution_count": 86,
   "outputs": [
    {
     "name": "stdout",
     "output_type": "stream",
     "text": [
      "Homens = 0.51\n"
     ]
    }
   ],
   "source": [
    "print(f'Homens = {round(676/len(en),2)}')"
   ],
   "metadata": {
    "collapsed": false
   }
  },
  {
   "cell_type": "code",
   "execution_count": 87,
   "outputs": [
    {
     "name": "stdout",
     "output_type": "stream",
     "text": [
      "Mulheres = 0.49\n"
     ]
    }
   ],
   "source": [
    "print(f'Mulheres = {round(662/len(en),2)}')"
   ],
   "metadata": {
    "collapsed": false
   }
  },
  {
   "cell_type": "markdown",
   "source": [
    "Q3. Qual o total do valor de seguro pago por homens e mulheres segurados na base?"
   ],
   "metadata": {
    "collapsed": false
   }
  },
  {
   "cell_type": "code",
   "execution_count": 117,
   "outputs": [
    {
     "data": {
      "text/plain": "sex\nfemale    8.321061e+06\nmale      9.434764e+06\nName: charges, dtype: float64"
     },
     "execution_count": 117,
     "metadata": {},
     "output_type": "execute_result"
    }
   ],
   "source": [
    "en.groupby(en.sex).sum('charges').charges"
   ],
   "metadata": {
    "collapsed": false
   }
  },
  {
   "cell_type": "code",
   "execution_count": 120,
   "outputs": [
    {
     "name": "stdout",
     "output_type": "stream",
     "text": [
      "mulher  = 8321061.194619\n"
     ]
    }
   ],
   "source": [
    "print(f'mulher  = {en.groupby(en.sex).sum(\"charges\").charges.to_list()[0]}')"
   ],
   "metadata": {
    "collapsed": false
   }
  },
  {
   "cell_type": "code",
   "execution_count": 121,
   "outputs": [
    {
     "name": "stdout",
     "output_type": "stream",
     "text": [
      "homen  = 9434763.79614\n"
     ]
    }
   ],
   "source": [
    "print(f'homen  = {en.groupby(en.sex).sum(\"charges\").charges.to_list()[1]}')"
   ],
   "metadata": {
    "collapsed": false
   }
  },
  {
   "cell_type": "markdown",
   "source": [
    "Q4. Qual o precentual de valor de seguros pagos por homens e mulheres segurados na base?\n"
   ],
   "metadata": {
    "collapsed": false
   }
  },
  {
   "cell_type": "code",
   "execution_count": 126,
   "outputs": [
    {
     "name": "stdout",
     "output_type": "stream",
     "text": [
      "Percentual mulher = 0.47\n"
     ]
    }
   ],
   "source": [
    "print(f'Percentual mulher = {round(en.groupby(en.sex).sum(\"charges\").charges.to_list()[0]/(en.groupby(en.sex).sum(\"charges\").charges.to_list()[0]+en.groupby(en.sex).sum(\"charges\").charges.to_list()[1]),2)}')"
   ],
   "metadata": {
    "collapsed": false
   }
  },
  {
   "cell_type": "code",
   "execution_count": 127,
   "outputs": [
    {
     "name": "stdout",
     "output_type": "stream",
     "text": [
      "Percentual homen = 0.53\n"
     ]
    }
   ],
   "source": [
    "print(f'Percentual homen = {round(en.groupby(en.sex).sum(\"charges\").charges.to_list()[1]/(en.groupby(en.sex).sum(\"charges\").charges.to_list()[0]+en.groupby(en.sex).sum(\"charges\").charges.to_list()[1]),2)}')"
   ],
   "metadata": {
    "collapsed": false
   }
  },
  {
   "cell_type": "markdown",
   "source": [
    "Q5. Não fumantes apresentam em média mais filhos?"
   ],
   "metadata": {
    "collapsed": false
   }
  },
  {
   "cell_type": "code",
   "execution_count": 128,
   "outputs": [
    {
     "data": {
      "text/plain": "1338"
     },
     "execution_count": 128,
     "metadata": {},
     "output_type": "execute_result"
    }
   ],
   "source": [
    "totalFilhos = en.children.count()\n",
    "totalFilhos"
   ],
   "metadata": {
    "collapsed": false
   }
  },
  {
   "cell_type": "code",
   "execution_count": 132,
   "outputs": [
    {
     "data": {
      "text/plain": "      age     sex     bmi  children smoker     region      charges\n1      18    male  33.770         1     no  southeast   1725.55230\n2      28    male  33.000         3     no  southeast   4449.46200\n3      33    male  22.705         0     no  northwest  21984.47061\n4      32    male  28.880         0     no  northwest   3866.85520\n5      31  female  25.740         0     no  southeast   3756.62160\n...   ...     ...     ...       ...    ...        ...          ...\n1332   52  female  44.700         3     no  southwest  11411.68500\n1333   50    male  30.970         3     no  northwest  10600.54830\n1334   18  female  31.920         0     no  northeast   2205.98080\n1335   18  female  36.850         0     no  southeast   1629.83350\n1336   21  female  25.800         0     no  southwest   2007.94500\n\n[1064 rows x 7 columns]",
      "text/html": "<div>\n<style scoped>\n    .dataframe tbody tr th:only-of-type {\n        vertical-align: middle;\n    }\n\n    .dataframe tbody tr th {\n        vertical-align: top;\n    }\n\n    .dataframe thead th {\n        text-align: right;\n    }\n</style>\n<table border=\"1\" class=\"dataframe\">\n  <thead>\n    <tr style=\"text-align: right;\">\n      <th></th>\n      <th>age</th>\n      <th>sex</th>\n      <th>bmi</th>\n      <th>children</th>\n      <th>smoker</th>\n      <th>region</th>\n      <th>charges</th>\n    </tr>\n  </thead>\n  <tbody>\n    <tr>\n      <th>1</th>\n      <td>18</td>\n      <td>male</td>\n      <td>33.770</td>\n      <td>1</td>\n      <td>no</td>\n      <td>southeast</td>\n      <td>1725.55230</td>\n    </tr>\n    <tr>\n      <th>2</th>\n      <td>28</td>\n      <td>male</td>\n      <td>33.000</td>\n      <td>3</td>\n      <td>no</td>\n      <td>southeast</td>\n      <td>4449.46200</td>\n    </tr>\n    <tr>\n      <th>3</th>\n      <td>33</td>\n      <td>male</td>\n      <td>22.705</td>\n      <td>0</td>\n      <td>no</td>\n      <td>northwest</td>\n      <td>21984.47061</td>\n    </tr>\n    <tr>\n      <th>4</th>\n      <td>32</td>\n      <td>male</td>\n      <td>28.880</td>\n      <td>0</td>\n      <td>no</td>\n      <td>northwest</td>\n      <td>3866.85520</td>\n    </tr>\n    <tr>\n      <th>5</th>\n      <td>31</td>\n      <td>female</td>\n      <td>25.740</td>\n      <td>0</td>\n      <td>no</td>\n      <td>southeast</td>\n      <td>3756.62160</td>\n    </tr>\n    <tr>\n      <th>...</th>\n      <td>...</td>\n      <td>...</td>\n      <td>...</td>\n      <td>...</td>\n      <td>...</td>\n      <td>...</td>\n      <td>...</td>\n    </tr>\n    <tr>\n      <th>1332</th>\n      <td>52</td>\n      <td>female</td>\n      <td>44.700</td>\n      <td>3</td>\n      <td>no</td>\n      <td>southwest</td>\n      <td>11411.68500</td>\n    </tr>\n    <tr>\n      <th>1333</th>\n      <td>50</td>\n      <td>male</td>\n      <td>30.970</td>\n      <td>3</td>\n      <td>no</td>\n      <td>northwest</td>\n      <td>10600.54830</td>\n    </tr>\n    <tr>\n      <th>1334</th>\n      <td>18</td>\n      <td>female</td>\n      <td>31.920</td>\n      <td>0</td>\n      <td>no</td>\n      <td>northeast</td>\n      <td>2205.98080</td>\n    </tr>\n    <tr>\n      <th>1335</th>\n      <td>18</td>\n      <td>female</td>\n      <td>36.850</td>\n      <td>0</td>\n      <td>no</td>\n      <td>southeast</td>\n      <td>1629.83350</td>\n    </tr>\n    <tr>\n      <th>1336</th>\n      <td>21</td>\n      <td>female</td>\n      <td>25.800</td>\n      <td>0</td>\n      <td>no</td>\n      <td>southwest</td>\n      <td>2007.94500</td>\n    </tr>\n  </tbody>\n</table>\n<p>1064 rows × 7 columns</p>\n</div>"
     },
     "execution_count": 132,
     "metadata": {},
     "output_type": "execute_result"
    }
   ],
   "source": [
    "naoFumantes = en[en.smoker == 'no']\n",
    "naoFumantes"
   ],
   "metadata": {
    "collapsed": false
   }
  },
  {
   "cell_type": "code",
   "execution_count": 134,
   "outputs": [
    {
     "data": {
      "text/plain": "1064"
     },
     "execution_count": 134,
     "metadata": {},
     "output_type": "execute_result"
    }
   ],
   "source": [
    "filhosDeNaoFumantes = naoFumantes.children.count()\n",
    "filhosDeNaoFumantes"
   ],
   "metadata": {
    "collapsed": false
   }
  },
  {
   "cell_type": "code",
   "execution_count": 142,
   "outputs": [
    {
     "name": "stdout",
     "output_type": "stream",
     "text": [
      "80.0 %\n"
     ]
    }
   ],
   "source": [
    "print(f'{round(filhosDeNaoFumantes/totalFilhos,2)*100} %')"
   ],
   "metadata": {
    "collapsed": false
   }
  },
  {
   "cell_type": "markdown",
   "source": [
    "Q6. Qual a média e maior de idade dentre os segurados homem, das regiões northwest ou northeast?\n"
   ],
   "metadata": {
    "collapsed": false
   }
  },
  {
   "cell_type": "code",
   "execution_count": 154,
   "outputs": [
    {
     "data": {
      "text/plain": "      age     sex     bmi  children smoker     region      charges\n3      33    male  22.705         0     no  northwest  21984.47061\n4      32    male  28.880         0     no  northwest   3866.85520\n7      37  female  27.740         3     no  northwest   7281.50560\n9      60  female  25.840         0     no  northwest  28923.13692\n24     37    male  28.025         2     no  northwest   6203.90175\n...   ...     ...     ...       ...    ...        ...          ...\n1321   62    male  26.695         0    yes  northeast  28101.33305\n1325   61    male  33.535         0     no  northeast  13143.33665\n1326   42  female  32.870         0     no  northeast   7050.02130\n1328   23  female  24.225         2     no  northeast  22395.74424\n1334   18  female  31.920         0     no  northeast   2205.98080\n\n[649 rows x 7 columns]",
      "text/html": "<div>\n<style scoped>\n    .dataframe tbody tr th:only-of-type {\n        vertical-align: middle;\n    }\n\n    .dataframe tbody tr th {\n        vertical-align: top;\n    }\n\n    .dataframe thead th {\n        text-align: right;\n    }\n</style>\n<table border=\"1\" class=\"dataframe\">\n  <thead>\n    <tr style=\"text-align: right;\">\n      <th></th>\n      <th>age</th>\n      <th>sex</th>\n      <th>bmi</th>\n      <th>children</th>\n      <th>smoker</th>\n      <th>region</th>\n      <th>charges</th>\n    </tr>\n  </thead>\n  <tbody>\n    <tr>\n      <th>3</th>\n      <td>33</td>\n      <td>male</td>\n      <td>22.705</td>\n      <td>0</td>\n      <td>no</td>\n      <td>northwest</td>\n      <td>21984.47061</td>\n    </tr>\n    <tr>\n      <th>4</th>\n      <td>32</td>\n      <td>male</td>\n      <td>28.880</td>\n      <td>0</td>\n      <td>no</td>\n      <td>northwest</td>\n      <td>3866.85520</td>\n    </tr>\n    <tr>\n      <th>7</th>\n      <td>37</td>\n      <td>female</td>\n      <td>27.740</td>\n      <td>3</td>\n      <td>no</td>\n      <td>northwest</td>\n      <td>7281.50560</td>\n    </tr>\n    <tr>\n      <th>9</th>\n      <td>60</td>\n      <td>female</td>\n      <td>25.840</td>\n      <td>0</td>\n      <td>no</td>\n      <td>northwest</td>\n      <td>28923.13692</td>\n    </tr>\n    <tr>\n      <th>24</th>\n      <td>37</td>\n      <td>male</td>\n      <td>28.025</td>\n      <td>2</td>\n      <td>no</td>\n      <td>northwest</td>\n      <td>6203.90175</td>\n    </tr>\n    <tr>\n      <th>...</th>\n      <td>...</td>\n      <td>...</td>\n      <td>...</td>\n      <td>...</td>\n      <td>...</td>\n      <td>...</td>\n      <td>...</td>\n    </tr>\n    <tr>\n      <th>1321</th>\n      <td>62</td>\n      <td>male</td>\n      <td>26.695</td>\n      <td>0</td>\n      <td>yes</td>\n      <td>northeast</td>\n      <td>28101.33305</td>\n    </tr>\n    <tr>\n      <th>1325</th>\n      <td>61</td>\n      <td>male</td>\n      <td>33.535</td>\n      <td>0</td>\n      <td>no</td>\n      <td>northeast</td>\n      <td>13143.33665</td>\n    </tr>\n    <tr>\n      <th>1326</th>\n      <td>42</td>\n      <td>female</td>\n      <td>32.870</td>\n      <td>0</td>\n      <td>no</td>\n      <td>northeast</td>\n      <td>7050.02130</td>\n    </tr>\n    <tr>\n      <th>1328</th>\n      <td>23</td>\n      <td>female</td>\n      <td>24.225</td>\n      <td>2</td>\n      <td>no</td>\n      <td>northeast</td>\n      <td>22395.74424</td>\n    </tr>\n    <tr>\n      <th>1334</th>\n      <td>18</td>\n      <td>female</td>\n      <td>31.920</td>\n      <td>0</td>\n      <td>no</td>\n      <td>northeast</td>\n      <td>2205.98080</td>\n    </tr>\n  </tbody>\n</table>\n<p>649 rows × 7 columns</p>\n</div>"
     },
     "execution_count": 154,
     "metadata": {},
     "output_type": "execute_result"
    }
   ],
   "source": [
    "west = en[en.region == 'northwest']\n",
    "heast = en[en.region == 'northeast']\n",
    "regiao = pd.concat([west,heast])\n",
    "regiao"
   ],
   "metadata": {
    "collapsed": false
   }
  },
  {
   "cell_type": "code",
   "execution_count": 156,
   "outputs": [
    {
     "data": {
      "text/plain": "      age   sex     bmi  children smoker     region      charges\n3      33  male  22.705         0     no  northwest  21984.47061\n4      32  male  28.880         0     no  northwest   3866.85520\n24     37  male  28.025         2     no  northwest   6203.90175\n28     23  male  17.385         1     no  northwest   2775.19215\n33     63  male  28.310         0     no  northwest  13770.09790\n...   ...   ...     ...       ...    ...        ...          ...\n1304   42  male  24.605         2    yes  northeast  21259.37795\n1315   18  male  28.310         1     no  northeast  11272.33139\n1318   35  male  39.710         4     no  northeast  19496.71917\n1321   62  male  26.695         0    yes  northeast  28101.33305\n1325   61  male  33.535         0     no  northeast  13143.33665\n\n[324 rows x 7 columns]",
      "text/html": "<div>\n<style scoped>\n    .dataframe tbody tr th:only-of-type {\n        vertical-align: middle;\n    }\n\n    .dataframe tbody tr th {\n        vertical-align: top;\n    }\n\n    .dataframe thead th {\n        text-align: right;\n    }\n</style>\n<table border=\"1\" class=\"dataframe\">\n  <thead>\n    <tr style=\"text-align: right;\">\n      <th></th>\n      <th>age</th>\n      <th>sex</th>\n      <th>bmi</th>\n      <th>children</th>\n      <th>smoker</th>\n      <th>region</th>\n      <th>charges</th>\n    </tr>\n  </thead>\n  <tbody>\n    <tr>\n      <th>3</th>\n      <td>33</td>\n      <td>male</td>\n      <td>22.705</td>\n      <td>0</td>\n      <td>no</td>\n      <td>northwest</td>\n      <td>21984.47061</td>\n    </tr>\n    <tr>\n      <th>4</th>\n      <td>32</td>\n      <td>male</td>\n      <td>28.880</td>\n      <td>0</td>\n      <td>no</td>\n      <td>northwest</td>\n      <td>3866.85520</td>\n    </tr>\n    <tr>\n      <th>24</th>\n      <td>37</td>\n      <td>male</td>\n      <td>28.025</td>\n      <td>2</td>\n      <td>no</td>\n      <td>northwest</td>\n      <td>6203.90175</td>\n    </tr>\n    <tr>\n      <th>28</th>\n      <td>23</td>\n      <td>male</td>\n      <td>17.385</td>\n      <td>1</td>\n      <td>no</td>\n      <td>northwest</td>\n      <td>2775.19215</td>\n    </tr>\n    <tr>\n      <th>33</th>\n      <td>63</td>\n      <td>male</td>\n      <td>28.310</td>\n      <td>0</td>\n      <td>no</td>\n      <td>northwest</td>\n      <td>13770.09790</td>\n    </tr>\n    <tr>\n      <th>...</th>\n      <td>...</td>\n      <td>...</td>\n      <td>...</td>\n      <td>...</td>\n      <td>...</td>\n      <td>...</td>\n      <td>...</td>\n    </tr>\n    <tr>\n      <th>1304</th>\n      <td>42</td>\n      <td>male</td>\n      <td>24.605</td>\n      <td>2</td>\n      <td>yes</td>\n      <td>northeast</td>\n      <td>21259.37795</td>\n    </tr>\n    <tr>\n      <th>1315</th>\n      <td>18</td>\n      <td>male</td>\n      <td>28.310</td>\n      <td>1</td>\n      <td>no</td>\n      <td>northeast</td>\n      <td>11272.33139</td>\n    </tr>\n    <tr>\n      <th>1318</th>\n      <td>35</td>\n      <td>male</td>\n      <td>39.710</td>\n      <td>4</td>\n      <td>no</td>\n      <td>northeast</td>\n      <td>19496.71917</td>\n    </tr>\n    <tr>\n      <th>1321</th>\n      <td>62</td>\n      <td>male</td>\n      <td>26.695</td>\n      <td>0</td>\n      <td>yes</td>\n      <td>northeast</td>\n      <td>28101.33305</td>\n    </tr>\n    <tr>\n      <th>1325</th>\n      <td>61</td>\n      <td>male</td>\n      <td>33.535</td>\n      <td>0</td>\n      <td>no</td>\n      <td>northeast</td>\n      <td>13143.33665</td>\n    </tr>\n  </tbody>\n</table>\n<p>324 rows × 7 columns</p>\n</div>"
     },
     "execution_count": 156,
     "metadata": {},
     "output_type": "execute_result"
    }
   ],
   "source": [
    "regiao = regiao[regiao.sex == 'male']\n",
    "regiao"
   ],
   "metadata": {
    "collapsed": false
   }
  },
  {
   "cell_type": "code",
   "execution_count": 157,
   "outputs": [
    {
     "data": {
      "text/plain": "38.848765432098766"
     },
     "execution_count": 157,
     "metadata": {},
     "output_type": "execute_result"
    }
   ],
   "source": [
    "regiao.age.mean()"
   ],
   "metadata": {
    "collapsed": false
   }
  },
  {
   "cell_type": "markdown",
   "source": [
    "=========================================================================================================================================================="
   ],
   "metadata": {
    "collapsed": false
   }
  },
  {
   "cell_type": "markdown",
   "source": [
    "Q7. Quantos tipos de energia e países diferentes há na base?"
   ],
   "metadata": {
    "collapsed": false
   }
  },
  {
   "cell_type": "code",
   "execution_count": 222,
   "outputs": [
    {
     "data": {
      "text/plain": "  country country_name                  type    level     2016     2017  \\\n0      BE      Belgium  Conventional thermal  Level 1  30728.0  31316.0   \n1      BE      Belgium               Nuclear  Level 1  41430.0  40128.5   \n2      BE      Belgium                 Hydro  Level 1   1476.0   1360.9   \n3      BE      Belgium    Pumped hydro power  Level 2   1110.0   1093.2   \n4      BE      Belgium                  Wind  Level 1   5340.0   6387.9   \n\n        2018  \n0  30092.635  \n1  26995.628  \n2   1239.248  \n3    983.190  \n4   7177.346  ",
      "text/html": "<div>\n<style scoped>\n    .dataframe tbody tr th:only-of-type {\n        vertical-align: middle;\n    }\n\n    .dataframe tbody tr th {\n        vertical-align: top;\n    }\n\n    .dataframe thead th {\n        text-align: right;\n    }\n</style>\n<table border=\"1\" class=\"dataframe\">\n  <thead>\n    <tr style=\"text-align: right;\">\n      <th></th>\n      <th>country</th>\n      <th>country_name</th>\n      <th>type</th>\n      <th>level</th>\n      <th>2016</th>\n      <th>2017</th>\n      <th>2018</th>\n    </tr>\n  </thead>\n  <tbody>\n    <tr>\n      <th>0</th>\n      <td>BE</td>\n      <td>Belgium</td>\n      <td>Conventional thermal</td>\n      <td>Level 1</td>\n      <td>30728.0</td>\n      <td>31316.0</td>\n      <td>30092.635</td>\n    </tr>\n    <tr>\n      <th>1</th>\n      <td>BE</td>\n      <td>Belgium</td>\n      <td>Nuclear</td>\n      <td>Level 1</td>\n      <td>41430.0</td>\n      <td>40128.5</td>\n      <td>26995.628</td>\n    </tr>\n    <tr>\n      <th>2</th>\n      <td>BE</td>\n      <td>Belgium</td>\n      <td>Hydro</td>\n      <td>Level 1</td>\n      <td>1476.0</td>\n      <td>1360.9</td>\n      <td>1239.248</td>\n    </tr>\n    <tr>\n      <th>3</th>\n      <td>BE</td>\n      <td>Belgium</td>\n      <td>Pumped hydro power</td>\n      <td>Level 2</td>\n      <td>1110.0</td>\n      <td>1093.2</td>\n      <td>983.190</td>\n    </tr>\n    <tr>\n      <th>4</th>\n      <td>BE</td>\n      <td>Belgium</td>\n      <td>Wind</td>\n      <td>Level 1</td>\n      <td>5340.0</td>\n      <td>6387.9</td>\n      <td>7177.346</td>\n    </tr>\n  </tbody>\n</table>\n</div>"
     },
     "execution_count": 222,
     "metadata": {},
     "output_type": "execute_result"
    }
   ],
   "source": [
    "energia = pd.read_csv('https://raw.githubusercontent.com/Rogerio-mack/IMT_Ciencia_de_Dados/main/data/energy_types.csv')\n",
    "energia.head()"
   ],
   "metadata": {
    "collapsed": false
   }
  },
  {
   "cell_type": "code",
   "execution_count": 189,
   "outputs": [
    {
     "data": {
      "text/plain": "37"
     },
     "execution_count": 189,
     "metadata": {},
     "output_type": "execute_result"
    }
   ],
   "source": [
    "grupo = energia.groupby(energia.country)\n",
    "len(grupo)"
   ],
   "metadata": {
    "collapsed": false
   }
  },
  {
   "cell_type": "code",
   "execution_count": 192,
   "outputs": [
    {
     "data": {
      "text/plain": "country\nAL    8\nAT    8\nBA    8\nBE    8\nBG    8\nCY    8\nCZ    8\nDE    8\nDK    8\nEE    8\nEL    8\nES    8\nFI    8\nFR    8\nGE    8\nHR    8\nHU    8\nIE    8\nIT    8\nLT    8\nLU    8\nLV    8\nME    8\nMK    8\nMT    8\nNL    8\nNO    8\nPL    8\nPT    8\nRO    8\nRS    8\nSE    8\nSI    8\nSK    8\nTR    8\nUA    8\nUK    8\nName: type, dtype: int64"
     },
     "execution_count": 192,
     "metadata": {},
     "output_type": "execute_result"
    }
   ],
   "source": [
    "grupo.type.count()"
   ],
   "metadata": {
    "collapsed": false
   }
  },
  {
   "cell_type": "markdown",
   "source": [
    "Q8. Qual o percentual de energia nuclear produzido na Europa no ano de 2018?"
   ],
   "metadata": {
    "collapsed": false
   }
  },
  {
   "cell_type": "code",
   "execution_count": 205,
   "outputs": [
    {
     "data": {
      "text/plain": "3787674.63"
     },
     "execution_count": 205,
     "metadata": {},
     "output_type": "execute_result"
    }
   ],
   "source": [
    "totalEnergia = energia['2018'].sum()\n",
    "totalEnergia"
   ],
   "metadata": {
    "collapsed": false
   }
  },
  {
   "cell_type": "code",
   "execution_count": 199,
   "outputs": [
    {
     "data": {
      "text/plain": "868333.983"
     },
     "execution_count": 199,
     "metadata": {},
     "output_type": "execute_result"
    }
   ],
   "source": [
    "nuclear = energia[energia.type == 'Nuclear']['2018'].sum()\n",
    "nuclear"
   ],
   "metadata": {
    "collapsed": false
   }
  },
  {
   "cell_type": "code",
   "execution_count": 207,
   "outputs": [
    {
     "name": "stdout",
     "output_type": "stream",
     "text": [
      "percentual Nuclear Total = 0.23 \n"
     ]
    }
   ],
   "source": [
    "print(f'percentual Nuclear Total = {round(nuclear/totalEnergia,2)} ')"
   ],
   "metadata": {
    "collapsed": false
   }
  },
  {
   "cell_type": "markdown",
   "source": [
    "Q9. Qual o percentual de energia nuclear produzido na França no ano de 2018?"
   ],
   "metadata": {
    "collapsed": false
   }
  },
  {
   "cell_type": "code",
   "execution_count": 251,
   "outputs": [
    {
     "data": {
      "text/plain": "560767.871"
     },
     "execution_count": 251,
     "metadata": {},
     "output_type": "execute_result"
    }
   ],
   "source": [
    "totalFR = energia[energia.country == 'FR']\n",
    "totalFR = totalFR['2018'].sum()\n",
    "totalFR"
   ],
   "metadata": {
    "collapsed": false
   }
  },
  {
   "cell_type": "code",
   "execution_count": 236,
   "outputs": [
    {
     "data": {
      "text/plain": "393153.254"
     },
     "execution_count": 236,
     "metadata": {},
     "output_type": "execute_result"
    }
   ],
   "source": [
    "FR = energia[energia.country == 'FR']\n",
    "FR = float(FR[FR.type == 'Nuclear']['2018'])\n",
    "FR"
   ],
   "metadata": {
    "collapsed": false
   }
  },
  {
   "cell_type": "code",
   "execution_count": 252,
   "outputs": [
    {
     "name": "stdout",
     "output_type": "stream",
     "text": [
      "percentual Nuclear Franca = 0.7 \n"
     ]
    }
   ],
   "source": [
    "print(f'percentual Nuclear Franca = {round(FR/totalFR,2)} ')"
   ],
   "metadata": {
    "collapsed": false
   }
  },
  {
   "cell_type": "markdown",
   "source": [
    "Q10. Qual o percentual de energias limpas produzida na Europa no ano de 2018?\n",
    "Energias limpas somente Hidroelétrica, Eólica, Solar e Geotérmica."
   ],
   "metadata": {
    "collapsed": false
   }
  },
  {
   "cell_type": "code",
   "execution_count": 253,
   "outputs": [
    {
     "data": {
      "text/plain": "    country country_name                  type    level     2016     2017  \\\n0        BE      Belgium  Conventional thermal  Level 1  30728.0  31316.0   \n1        BE      Belgium               Nuclear  Level 1  41430.0  40128.5   \n2        BE      Belgium                 Hydro  Level 1   1476.0   1360.9   \n3        BE      Belgium    Pumped hydro power  Level 2   1110.0   1093.2   \n4        BE      Belgium                  Wind  Level 1   5340.0   6387.9   \n..      ...          ...                   ...      ...      ...      ...   \n291      GE      Georgia    Pumped hydro power  Level 2      0.0      0.0   \n292      GE      Georgia                  Wind  Level 1      9.0     87.7   \n293      GE      Georgia                 Solar  Level 1      0.0      0.0   \n294      GE      Georgia            Geothermal  Level 1      0.0      0.0   \n295      GE      Georgia                 Other  Level 1      0.0      0.0   \n\n          2018  \n0    30092.635  \n1    26995.628  \n2     1239.248  \n3      983.190  \n4     7177.346  \n..         ...  \n291      0.000  \n292     84.226  \n293      0.000  \n294      0.000  \n295      0.000  \n\n[296 rows x 7 columns]",
      "text/html": "<div>\n<style scoped>\n    .dataframe tbody tr th:only-of-type {\n        vertical-align: middle;\n    }\n\n    .dataframe tbody tr th {\n        vertical-align: top;\n    }\n\n    .dataframe thead th {\n        text-align: right;\n    }\n</style>\n<table border=\"1\" class=\"dataframe\">\n  <thead>\n    <tr style=\"text-align: right;\">\n      <th></th>\n      <th>country</th>\n      <th>country_name</th>\n      <th>type</th>\n      <th>level</th>\n      <th>2016</th>\n      <th>2017</th>\n      <th>2018</th>\n    </tr>\n  </thead>\n  <tbody>\n    <tr>\n      <th>0</th>\n      <td>BE</td>\n      <td>Belgium</td>\n      <td>Conventional thermal</td>\n      <td>Level 1</td>\n      <td>30728.0</td>\n      <td>31316.0</td>\n      <td>30092.635</td>\n    </tr>\n    <tr>\n      <th>1</th>\n      <td>BE</td>\n      <td>Belgium</td>\n      <td>Nuclear</td>\n      <td>Level 1</td>\n      <td>41430.0</td>\n      <td>40128.5</td>\n      <td>26995.628</td>\n    </tr>\n    <tr>\n      <th>2</th>\n      <td>BE</td>\n      <td>Belgium</td>\n      <td>Hydro</td>\n      <td>Level 1</td>\n      <td>1476.0</td>\n      <td>1360.9</td>\n      <td>1239.248</td>\n    </tr>\n    <tr>\n      <th>3</th>\n      <td>BE</td>\n      <td>Belgium</td>\n      <td>Pumped hydro power</td>\n      <td>Level 2</td>\n      <td>1110.0</td>\n      <td>1093.2</td>\n      <td>983.190</td>\n    </tr>\n    <tr>\n      <th>4</th>\n      <td>BE</td>\n      <td>Belgium</td>\n      <td>Wind</td>\n      <td>Level 1</td>\n      <td>5340.0</td>\n      <td>6387.9</td>\n      <td>7177.346</td>\n    </tr>\n    <tr>\n      <th>...</th>\n      <td>...</td>\n      <td>...</td>\n      <td>...</td>\n      <td>...</td>\n      <td>...</td>\n      <td>...</td>\n      <td>...</td>\n    </tr>\n    <tr>\n      <th>291</th>\n      <td>GE</td>\n      <td>Georgia</td>\n      <td>Pumped hydro power</td>\n      <td>Level 2</td>\n      <td>0.0</td>\n      <td>0.0</td>\n      <td>0.000</td>\n    </tr>\n    <tr>\n      <th>292</th>\n      <td>GE</td>\n      <td>Georgia</td>\n      <td>Wind</td>\n      <td>Level 1</td>\n      <td>9.0</td>\n      <td>87.7</td>\n      <td>84.226</td>\n    </tr>\n    <tr>\n      <th>293</th>\n      <td>GE</td>\n      <td>Georgia</td>\n      <td>Solar</td>\n      <td>Level 1</td>\n      <td>0.0</td>\n      <td>0.0</td>\n      <td>0.000</td>\n    </tr>\n    <tr>\n      <th>294</th>\n      <td>GE</td>\n      <td>Georgia</td>\n      <td>Geothermal</td>\n      <td>Level 1</td>\n      <td>0.0</td>\n      <td>0.0</td>\n      <td>0.000</td>\n    </tr>\n    <tr>\n      <th>295</th>\n      <td>GE</td>\n      <td>Georgia</td>\n      <td>Other</td>\n      <td>Level 1</td>\n      <td>0.0</td>\n      <td>0.0</td>\n      <td>0.000</td>\n    </tr>\n  </tbody>\n</table>\n<p>296 rows × 7 columns</p>\n</div>"
     },
     "execution_count": 253,
     "metadata": {},
     "output_type": "execute_result"
    }
   ],
   "source": [
    "energia"
   ],
   "metadata": {
    "collapsed": false
   }
  },
  {
   "cell_type": "code",
   "execution_count": 259,
   "outputs": [],
   "source": [
    "Solar = energia[energia.type == 'Solar']\n",
    "Agua = energia[energia.type =='Hydro']\n",
    "Vento = energia[energia.type == 'Wind']\n",
    "Termica = energia[energia.type == 'conventional thermal']"
   ],
   "metadata": {
    "collapsed": false
   }
  },
  {
   "cell_type": "code",
   "execution_count": 260,
   "outputs": [],
   "source": [
    "energiaLimpa = pd.concat([Solar,Agua,Vento,Termica])"
   ],
   "metadata": {
    "collapsed": false
   }
  },
  {
   "cell_type": "code",
   "execution_count": 261,
   "outputs": [
    {
     "data": {
      "text/plain": "    country          country_name   type    level      2016       2017  \\\n5        BE               Belgium  Solar  Level 1   3070.00   3264.300   \n13       BG              Bulgaria  Solar  Level 1   1386.00   1402.766   \n21       CZ               Czechia  Solar  Level 1   2110.00   2168.740   \n29       DK               Denmark  Solar  Level 1    743.78    751.485   \n37       DE               Germany  Solar  Level 1  38098.00  39401.000   \n..      ...                   ...    ...      ...       ...        ...   \n260      RS                Serbia   Wind  Level 1     26.00     48.457   \n268      TR                Turkey   Wind  Level 1  15381.00  17793.167   \n276      BA  Bosnia & Herzegovina   Wind  Level 1      0.00      0.000   \n284      UA               Ukraine   Wind  Level 1    949.00    974.000   \n292      GE               Georgia   Wind  Level 1      9.00     87.700   \n\n          2018  \n5     3488.979  \n13    1043.000  \n21    2317.645  \n29     952.973  \n37   46184.000  \n..         ...  \n260    150.419  \n268  19825.697  \n276     22.368  \n284   1185.900  \n292     84.226  \n\n[111 rows x 7 columns]",
      "text/html": "<div>\n<style scoped>\n    .dataframe tbody tr th:only-of-type {\n        vertical-align: middle;\n    }\n\n    .dataframe tbody tr th {\n        vertical-align: top;\n    }\n\n    .dataframe thead th {\n        text-align: right;\n    }\n</style>\n<table border=\"1\" class=\"dataframe\">\n  <thead>\n    <tr style=\"text-align: right;\">\n      <th></th>\n      <th>country</th>\n      <th>country_name</th>\n      <th>type</th>\n      <th>level</th>\n      <th>2016</th>\n      <th>2017</th>\n      <th>2018</th>\n    </tr>\n  </thead>\n  <tbody>\n    <tr>\n      <th>5</th>\n      <td>BE</td>\n      <td>Belgium</td>\n      <td>Solar</td>\n      <td>Level 1</td>\n      <td>3070.00</td>\n      <td>3264.300</td>\n      <td>3488.979</td>\n    </tr>\n    <tr>\n      <th>13</th>\n      <td>BG</td>\n      <td>Bulgaria</td>\n      <td>Solar</td>\n      <td>Level 1</td>\n      <td>1386.00</td>\n      <td>1402.766</td>\n      <td>1043.000</td>\n    </tr>\n    <tr>\n      <th>21</th>\n      <td>CZ</td>\n      <td>Czechia</td>\n      <td>Solar</td>\n      <td>Level 1</td>\n      <td>2110.00</td>\n      <td>2168.740</td>\n      <td>2317.645</td>\n    </tr>\n    <tr>\n      <th>29</th>\n      <td>DK</td>\n      <td>Denmark</td>\n      <td>Solar</td>\n      <td>Level 1</td>\n      <td>743.78</td>\n      <td>751.485</td>\n      <td>952.973</td>\n    </tr>\n    <tr>\n      <th>37</th>\n      <td>DE</td>\n      <td>Germany</td>\n      <td>Solar</td>\n      <td>Level 1</td>\n      <td>38098.00</td>\n      <td>39401.000</td>\n      <td>46184.000</td>\n    </tr>\n    <tr>\n      <th>...</th>\n      <td>...</td>\n      <td>...</td>\n      <td>...</td>\n      <td>...</td>\n      <td>...</td>\n      <td>...</td>\n      <td>...</td>\n    </tr>\n    <tr>\n      <th>260</th>\n      <td>RS</td>\n      <td>Serbia</td>\n      <td>Wind</td>\n      <td>Level 1</td>\n      <td>26.00</td>\n      <td>48.457</td>\n      <td>150.419</td>\n    </tr>\n    <tr>\n      <th>268</th>\n      <td>TR</td>\n      <td>Turkey</td>\n      <td>Wind</td>\n      <td>Level 1</td>\n      <td>15381.00</td>\n      <td>17793.167</td>\n      <td>19825.697</td>\n    </tr>\n    <tr>\n      <th>276</th>\n      <td>BA</td>\n      <td>Bosnia &amp; Herzegovina</td>\n      <td>Wind</td>\n      <td>Level 1</td>\n      <td>0.00</td>\n      <td>0.000</td>\n      <td>22.368</td>\n    </tr>\n    <tr>\n      <th>284</th>\n      <td>UA</td>\n      <td>Ukraine</td>\n      <td>Wind</td>\n      <td>Level 1</td>\n      <td>949.00</td>\n      <td>974.000</td>\n      <td>1185.900</td>\n    </tr>\n    <tr>\n      <th>292</th>\n      <td>GE</td>\n      <td>Georgia</td>\n      <td>Wind</td>\n      <td>Level 1</td>\n      <td>9.00</td>\n      <td>87.700</td>\n      <td>84.226</td>\n    </tr>\n  </tbody>\n</table>\n<p>111 rows × 7 columns</p>\n</div>"
     },
     "execution_count": 261,
     "metadata": {},
     "output_type": "execute_result"
    }
   ],
   "source": [
    "energiaLimpa"
   ],
   "metadata": {
    "collapsed": false
   }
  },
  {
   "cell_type": "code",
   "execution_count": 263,
   "outputs": [
    {
     "data": {
      "text/plain": "1144294.4009999998"
     },
     "execution_count": 263,
     "metadata": {},
     "output_type": "execute_result"
    }
   ],
   "source": [
    "totalEnergiaLimpa = energiaLimpa['2018'].sum()\n",
    "totalEnergiaLimpa"
   ],
   "metadata": {
    "collapsed": false
   }
  },
  {
   "cell_type": "code",
   "execution_count": 265,
   "outputs": [
    {
     "name": "stdout",
     "output_type": "stream",
     "text": [
      "percentual de energias limpas = 0.3\n"
     ]
    }
   ],
   "source": [
    "print(f'percentual de energias limpas = {round(totalEnergiaLimpa/totalEnergia,2)}')"
   ],
   "metadata": {
    "collapsed": false
   }
  },
  {
   "cell_type": "markdown",
   "source": [
    "Q11. Considerando os anos de 2016, 2017 e 2018, a produção de energias limpas tem aumentado na Europa? Verifique em termos absolutos e percentuais.\n",
    "Energias limpas somente Hidroelétrica, Eólica, Solar e Geotérmica."
   ],
   "metadata": {
    "collapsed": false
   }
  },
  {
   "cell_type": "code",
   "execution_count": 267,
   "outputs": [],
   "source": [
    "D8 = energiaLimpa['2018'].sum()\n",
    "D16 = energiaLimpa['2016'].sum()\n",
    "D17 = energiaLimpa['2017'].sum()"
   ],
   "metadata": {
    "collapsed": false
   }
  },
  {
   "cell_type": "code",
   "execution_count": 269,
   "outputs": [],
   "source": [
    "total16 = energia['2016'].sum()\n",
    "total17 = energia['2017'].sum()\n",
    "total18 = energia['2018'].sum()"
   ],
   "metadata": {
    "collapsed": false
   }
  },
  {
   "cell_type": "code",
   "execution_count": 277,
   "outputs": [
    {
     "name": "stdout",
     "output_type": "stream",
     "text": [
      "Percentual em 2016 = 28.07 % e Absoluto de  = 1062021.5839999998\n",
      "Percentual em 2017 = 27.9 % e Absoluto de  = 1066121.965\n",
      "Percentual em 2018 = 30.21 % e Absoluto de  = 1144294.4009999998\n"
     ]
    }
   ],
   "source": [
    "print(f'Percentual em 2016 = {round((D16/total16)*100,2)} % e Absoluto de  = {D16}')\n",
    "print(f'Percentual em 2017 = {round((D17/total17)*100,2)} % e Absoluto de  = {D17}')\n",
    "print(f'Percentual em 2018 = {round((D8/total18)*100,2)} % e Absoluto de  = {D8}')"
   ],
   "metadata": {
    "collapsed": false
   }
  },
  {
   "cell_type": "code",
   "execution_count": null,
   "outputs": [],
   "source": [],
   "metadata": {
    "collapsed": false
   }
  }
 ],
 "metadata": {
  "kernelspec": {
   "display_name": "Python 3",
   "language": "python",
   "name": "python3"
  },
  "language_info": {
   "codemirror_mode": {
    "name": "ipython",
    "version": 2
   },
   "file_extension": ".py",
   "mimetype": "text/x-python",
   "name": "python",
   "nbconvert_exporter": "python",
   "pygments_lexer": "ipython2",
   "version": "2.7.6"
  }
 },
 "nbformat": 4,
 "nbformat_minor": 0
}
