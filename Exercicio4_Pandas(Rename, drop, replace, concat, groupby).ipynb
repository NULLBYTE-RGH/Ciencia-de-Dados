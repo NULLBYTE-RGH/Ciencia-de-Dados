{
 "cells": [
  {
   "cell_type": "code",
   "execution_count": 2,
   "metadata": {
    "collapsed": true
   },
   "outputs": [],
   "source": [
    "import numpy as np\n",
    "import pandas as pd\n",
    "\n",
    "path = 'https://github.com/Rogerio-mack/IMT_Ciencia_de_Dados/raw/main/data/'"
   ]
  },
  {
   "cell_type": "markdown",
   "source": [
    "Q0. rename(),drop(),replace(),concat()\n",
    "Combine os dados a seguir em novo DataFrame company incorporando as contratações dos meses de FEV e MAR que não constam do DataFrame company_before.\n",
    "\n",
    "Considere que:\n",
    "\n",
    "1- A companhia passará a usar um novo id para os empregados e, portanto, esse dado não precisa constar do novo DataFrame company.\n",
    "\n",
    "2- No mês de março devido a problemas com mudanças na companhia os dados das contratações encontram-se em1-layout diferente (nome e ordem dos atributos) e foram usados alguns valores categóricos diferentes nos atributos."
   ],
   "metadata": {
    "collapsed": false
   }
  },
  {
   "cell_type": "code",
   "execution_count": 10,
   "outputs": [
    {
     "data": {
      "text/plain": "   id       Setor       Sexo       Grau_Instrucao  Idade  Anos_Experiencia  \\\n0   1    Operacao  Masculino    Superior Completo     54                12   \n1   2          RH  Masculino            Doutorado     52                12   \n2   3          RH  Masculino             Mestrado     54                12   \n3   4  Financeiro   Feminino             Mestrado     32                 9   \n4   5          RH  Masculino  Superior Incompleto     34                 8   \n\n  Estado      Salario  \n0     SP  2708.410161  \n1     SP  8321.204000  \n2     RJ  7588.139000  \n3     BH  6512.599657  \n4     BH  3125.765000  ",
      "text/html": "<div>\n<style scoped>\n    .dataframe tbody tr th:only-of-type {\n        vertical-align: middle;\n    }\n\n    .dataframe tbody tr th {\n        vertical-align: top;\n    }\n\n    .dataframe thead th {\n        text-align: right;\n    }\n</style>\n<table border=\"1\" class=\"dataframe\">\n  <thead>\n    <tr style=\"text-align: right;\">\n      <th></th>\n      <th>id</th>\n      <th>Setor</th>\n      <th>Sexo</th>\n      <th>Grau_Instrucao</th>\n      <th>Idade</th>\n      <th>Anos_Experiencia</th>\n      <th>Estado</th>\n      <th>Salario</th>\n    </tr>\n  </thead>\n  <tbody>\n    <tr>\n      <th>0</th>\n      <td>1</td>\n      <td>Operacao</td>\n      <td>Masculino</td>\n      <td>Superior Completo</td>\n      <td>54</td>\n      <td>12</td>\n      <td>SP</td>\n      <td>2708.410161</td>\n    </tr>\n    <tr>\n      <th>1</th>\n      <td>2</td>\n      <td>RH</td>\n      <td>Masculino</td>\n      <td>Doutorado</td>\n      <td>52</td>\n      <td>12</td>\n      <td>SP</td>\n      <td>8321.204000</td>\n    </tr>\n    <tr>\n      <th>2</th>\n      <td>3</td>\n      <td>RH</td>\n      <td>Masculino</td>\n      <td>Mestrado</td>\n      <td>54</td>\n      <td>12</td>\n      <td>RJ</td>\n      <td>7588.139000</td>\n    </tr>\n    <tr>\n      <th>3</th>\n      <td>4</td>\n      <td>Financeiro</td>\n      <td>Feminino</td>\n      <td>Mestrado</td>\n      <td>32</td>\n      <td>9</td>\n      <td>BH</td>\n      <td>6512.599657</td>\n    </tr>\n    <tr>\n      <th>4</th>\n      <td>5</td>\n      <td>RH</td>\n      <td>Masculino</td>\n      <td>Superior Incompleto</td>\n      <td>34</td>\n      <td>8</td>\n      <td>BH</td>\n      <td>3125.765000</td>\n    </tr>\n  </tbody>\n</table>\n</div>"
     },
     "metadata": {},
     "output_type": "display_data"
    },
    {
     "data": {
      "text/plain": "     id           Setor       Sexo       Grau_Instrucao  Idade  \\\n0  1390  Administrativo   Feminino  Superior Incompleto     55   \n1  1407       Marketing  Masculino    Superior Completo     40   \n2  1347  Administrativo   Feminino             Mestrado     35   \n3  1123        Operacao  Masculino             Mestrado     45   \n4  1042  Administrativo   Feminino  Superior Incompleto     43   \n\n   Anos_Experiencia Estado      Salario  \n0                11     SP  1999.616745  \n1                17     SP  5139.437521  \n2                 8     SP  6883.379725  \n3                16     SP  6386.825060  \n4                16     BH  1877.931320  ",
      "text/html": "<div>\n<style scoped>\n    .dataframe tbody tr th:only-of-type {\n        vertical-align: middle;\n    }\n\n    .dataframe tbody tr th {\n        vertical-align: top;\n    }\n\n    .dataframe thead th {\n        text-align: right;\n    }\n</style>\n<table border=\"1\" class=\"dataframe\">\n  <thead>\n    <tr style=\"text-align: right;\">\n      <th></th>\n      <th>id</th>\n      <th>Setor</th>\n      <th>Sexo</th>\n      <th>Grau_Instrucao</th>\n      <th>Idade</th>\n      <th>Anos_Experiencia</th>\n      <th>Estado</th>\n      <th>Salario</th>\n    </tr>\n  </thead>\n  <tbody>\n    <tr>\n      <th>0</th>\n      <td>1390</td>\n      <td>Administrativo</td>\n      <td>Feminino</td>\n      <td>Superior Incompleto</td>\n      <td>55</td>\n      <td>11</td>\n      <td>SP</td>\n      <td>1999.616745</td>\n    </tr>\n    <tr>\n      <th>1</th>\n      <td>1407</td>\n      <td>Marketing</td>\n      <td>Masculino</td>\n      <td>Superior Completo</td>\n      <td>40</td>\n      <td>17</td>\n      <td>SP</td>\n      <td>5139.437521</td>\n    </tr>\n    <tr>\n      <th>2</th>\n      <td>1347</td>\n      <td>Administrativo</td>\n      <td>Feminino</td>\n      <td>Mestrado</td>\n      <td>35</td>\n      <td>8</td>\n      <td>SP</td>\n      <td>6883.379725</td>\n    </tr>\n    <tr>\n      <th>3</th>\n      <td>1123</td>\n      <td>Operacao</td>\n      <td>Masculino</td>\n      <td>Mestrado</td>\n      <td>45</td>\n      <td>16</td>\n      <td>SP</td>\n      <td>6386.825060</td>\n    </tr>\n    <tr>\n      <th>4</th>\n      <td>1042</td>\n      <td>Administrativo</td>\n      <td>Feminino</td>\n      <td>Superior Incompleto</td>\n      <td>43</td>\n      <td>16</td>\n      <td>BH</td>\n      <td>1877.931320</td>\n    </tr>\n  </tbody>\n</table>\n</div>"
     },
     "metadata": {},
     "output_type": "display_data"
    },
    {
     "data": {
      "text/plain": "  Sex       Grau_Instrucao  Experiencia  Idade Estado       Salario  \\\n0   M    Superior Completo           11     56     SP   3722.984809   \n1   F    Superior Completo            9     31     RJ  10290.856780   \n2   F  Superior Incompleto           12     53     SP   3583.467000   \n3   M            Doutorado           16     45     BH  10588.027760   \n4   F  Superior Incompleto           15     46     SP   1995.308000   \n\n       Departamento  \n0          Operacao  \n1    Administrativo  \n2  Recursos Humanos  \n3          Operacao  \n4    Administrativo  ",
      "text/html": "<div>\n<style scoped>\n    .dataframe tbody tr th:only-of-type {\n        vertical-align: middle;\n    }\n\n    .dataframe tbody tr th {\n        vertical-align: top;\n    }\n\n    .dataframe thead th {\n        text-align: right;\n    }\n</style>\n<table border=\"1\" class=\"dataframe\">\n  <thead>\n    <tr style=\"text-align: right;\">\n      <th></th>\n      <th>Sex</th>\n      <th>Grau_Instrucao</th>\n      <th>Experiencia</th>\n      <th>Idade</th>\n      <th>Estado</th>\n      <th>Salario</th>\n      <th>Departamento</th>\n    </tr>\n  </thead>\n  <tbody>\n    <tr>\n      <th>0</th>\n      <td>M</td>\n      <td>Superior Completo</td>\n      <td>11</td>\n      <td>56</td>\n      <td>SP</td>\n      <td>3722.984809</td>\n      <td>Operacao</td>\n    </tr>\n    <tr>\n      <th>1</th>\n      <td>F</td>\n      <td>Superior Completo</td>\n      <td>9</td>\n      <td>31</td>\n      <td>RJ</td>\n      <td>10290.856780</td>\n      <td>Administrativo</td>\n    </tr>\n    <tr>\n      <th>2</th>\n      <td>F</td>\n      <td>Superior Incompleto</td>\n      <td>12</td>\n      <td>53</td>\n      <td>SP</td>\n      <td>3583.467000</td>\n      <td>Recursos Humanos</td>\n    </tr>\n    <tr>\n      <th>3</th>\n      <td>M</td>\n      <td>Doutorado</td>\n      <td>16</td>\n      <td>45</td>\n      <td>BH</td>\n      <td>10588.027760</td>\n      <td>Operacao</td>\n    </tr>\n    <tr>\n      <th>4</th>\n      <td>F</td>\n      <td>Superior Incompleto</td>\n      <td>15</td>\n      <td>46</td>\n      <td>SP</td>\n      <td>1995.308000</td>\n      <td>Administrativo</td>\n    </tr>\n  </tbody>\n</table>\n</div>"
     },
     "metadata": {},
     "output_type": "display_data"
    }
   ],
   "source": [
    "company_before = pd.read_csv(path + 'company_before.csv')\n",
    "company_fev = pd.read_csv(path + 'company_fev.csv')\n",
    "company_mar = pd.read_csv(path + 'company_mar.csv')\n",
    "\n",
    "display(company_before.head())\n",
    "display(company_fev.head())\n",
    "display(company_mar.head())"
   ],
   "metadata": {
    "collapsed": false
   }
  },
  {
   "cell_type": "markdown",
   "source": [
    "Dica: Veja a seguir instruções úteis neste exercício."
   ],
   "metadata": {
    "collapsed": false
   }
  },
  {
   "cell_type": "code",
   "execution_count": 4,
   "outputs": [
    {
     "data": {
      "text/plain": "   123 BBB  X delete\n0    1   b  a   None\n1    2   b  b   None\n2    3   c  c   None",
      "text/html": "<div>\n<style scoped>\n    .dataframe tbody tr th:only-of-type {\n        vertical-align: middle;\n    }\n\n    .dataframe tbody tr th {\n        vertical-align: top;\n    }\n\n    .dataframe thead th {\n        text-align: right;\n    }\n</style>\n<table border=\"1\" class=\"dataframe\">\n  <thead>\n    <tr style=\"text-align: right;\">\n      <th></th>\n      <th>123</th>\n      <th>BBB</th>\n      <th>X</th>\n      <th>delete</th>\n    </tr>\n  </thead>\n  <tbody>\n    <tr>\n      <th>0</th>\n      <td>1</td>\n      <td>b</td>\n      <td>a</td>\n      <td>None</td>\n    </tr>\n    <tr>\n      <th>1</th>\n      <td>2</td>\n      <td>b</td>\n      <td>b</td>\n      <td>None</td>\n    </tr>\n    <tr>\n      <th>2</th>\n      <td>3</td>\n      <td>c</td>\n      <td>c</td>\n      <td>None</td>\n    </tr>\n  </tbody>\n</table>\n</div>"
     },
     "execution_count": 4,
     "metadata": {},
     "output_type": "execute_result"
    }
   ],
   "source": [
    "df = pd.DataFrame({ '123': [1,2,3], 'BBB': ['b','b','c'], 'X':['a','b','c'], 'delete':[None, None, None]})\n",
    "df"
   ],
   "metadata": {
    "collapsed": false
   }
  },
  {
   "cell_type": "code",
   "execution_count": 5,
   "outputs": [
    {
     "data": {
      "text/plain": "   123 BBB  X\n0    1   b  a\n1    2   b  b\n2    3   c  c",
      "text/html": "<div>\n<style scoped>\n    .dataframe tbody tr th:only-of-type {\n        vertical-align: middle;\n    }\n\n    .dataframe tbody tr th {\n        vertical-align: top;\n    }\n\n    .dataframe thead th {\n        text-align: right;\n    }\n</style>\n<table border=\"1\" class=\"dataframe\">\n  <thead>\n    <tr style=\"text-align: right;\">\n      <th></th>\n      <th>123</th>\n      <th>BBB</th>\n      <th>X</th>\n    </tr>\n  </thead>\n  <tbody>\n    <tr>\n      <th>0</th>\n      <td>1</td>\n      <td>b</td>\n      <td>a</td>\n    </tr>\n    <tr>\n      <th>1</th>\n      <td>2</td>\n      <td>b</td>\n      <td>b</td>\n    </tr>\n    <tr>\n      <th>2</th>\n      <td>3</td>\n      <td>c</td>\n      <td>c</td>\n    </tr>\n  </tbody>\n</table>\n</div>"
     },
     "execution_count": 5,
     "metadata": {},
     "output_type": "execute_result"
    }
   ],
   "source": [
    "df = df.drop(columns=['delete'])\n",
    "# df.drop(columns=['delete'],inplace=True)\n",
    "df"
   ],
   "metadata": {
    "collapsed": false
   }
  },
  {
   "cell_type": "code",
   "execution_count": 6,
   "outputs": [
    {
     "data": {
      "text/plain": "   123 BBB ABC\n0    1   b   a\n1    2   b   b\n2    3   c   c",
      "text/html": "<div>\n<style scoped>\n    .dataframe tbody tr th:only-of-type {\n        vertical-align: middle;\n    }\n\n    .dataframe tbody tr th {\n        vertical-align: top;\n    }\n\n    .dataframe thead th {\n        text-align: right;\n    }\n</style>\n<table border=\"1\" class=\"dataframe\">\n  <thead>\n    <tr style=\"text-align: right;\">\n      <th></th>\n      <th>123</th>\n      <th>BBB</th>\n      <th>ABC</th>\n    </tr>\n  </thead>\n  <tbody>\n    <tr>\n      <th>0</th>\n      <td>1</td>\n      <td>b</td>\n      <td>a</td>\n    </tr>\n    <tr>\n      <th>1</th>\n      <td>2</td>\n      <td>b</td>\n      <td>b</td>\n    </tr>\n    <tr>\n      <th>2</th>\n      <td>3</td>\n      <td>c</td>\n      <td>c</td>\n    </tr>\n  </tbody>\n</table>\n</div>"
     },
     "execution_count": 6,
     "metadata": {},
     "output_type": "execute_result"
    }
   ],
   "source": [
    "df = df.rename(columns={'X':'ABC'})\n",
    "# df.rename(columns={'X':'ABC'},inplace=True)\n",
    "df"
   ],
   "metadata": {
    "collapsed": false
   }
  },
  {
   "cell_type": "code",
   "execution_count": 7,
   "outputs": [
    {
     "data": {
      "text/plain": "   123 BBB ABC\n0    1   b   a\n1    2   b   b\n2    3   b   c",
      "text/html": "<div>\n<style scoped>\n    .dataframe tbody tr th:only-of-type {\n        vertical-align: middle;\n    }\n\n    .dataframe tbody tr th {\n        vertical-align: top;\n    }\n\n    .dataframe thead th {\n        text-align: right;\n    }\n</style>\n<table border=\"1\" class=\"dataframe\">\n  <thead>\n    <tr style=\"text-align: right;\">\n      <th></th>\n      <th>123</th>\n      <th>BBB</th>\n      <th>ABC</th>\n    </tr>\n  </thead>\n  <tbody>\n    <tr>\n      <th>0</th>\n      <td>1</td>\n      <td>b</td>\n      <td>a</td>\n    </tr>\n    <tr>\n      <th>1</th>\n      <td>2</td>\n      <td>b</td>\n      <td>b</td>\n    </tr>\n    <tr>\n      <th>2</th>\n      <td>3</td>\n      <td>b</td>\n      <td>c</td>\n    </tr>\n  </tbody>\n</table>\n</div>"
     },
     "execution_count": 7,
     "metadata": {},
     "output_type": "execute_result"
    }
   ],
   "source": [
    "df.BBB = df.BBB.replace('c','b')\n",
    "df"
   ],
   "metadata": {
    "collapsed": false
   }
  },
  {
   "cell_type": "markdown",
   "source": [
    "Exclua o id de company_before e company_fev."
   ],
   "metadata": {
    "collapsed": false
   }
  },
  {
   "cell_type": "code",
   "execution_count": 11,
   "outputs": [
    {
     "data": {
      "text/plain": "        Setor       Sexo       Grau_Instrucao  Idade  Anos_Experiencia Estado  \\\n0    Operacao  Masculino    Superior Completo     54                12     SP   \n1          RH  Masculino            Doutorado     52                12     SP   \n2          RH  Masculino             Mestrado     54                12     RJ   \n3  Financeiro   Feminino             Mestrado     32                 9     BH   \n4          RH  Masculino  Superior Incompleto     34                 8     BH   \n\n       Salario  \n0  2708.410161  \n1  8321.204000  \n2  7588.139000  \n3  6512.599657  \n4  3125.765000  ",
      "text/html": "<div>\n<style scoped>\n    .dataframe tbody tr th:only-of-type {\n        vertical-align: middle;\n    }\n\n    .dataframe tbody tr th {\n        vertical-align: top;\n    }\n\n    .dataframe thead th {\n        text-align: right;\n    }\n</style>\n<table border=\"1\" class=\"dataframe\">\n  <thead>\n    <tr style=\"text-align: right;\">\n      <th></th>\n      <th>Setor</th>\n      <th>Sexo</th>\n      <th>Grau_Instrucao</th>\n      <th>Idade</th>\n      <th>Anos_Experiencia</th>\n      <th>Estado</th>\n      <th>Salario</th>\n    </tr>\n  </thead>\n  <tbody>\n    <tr>\n      <th>0</th>\n      <td>Operacao</td>\n      <td>Masculino</td>\n      <td>Superior Completo</td>\n      <td>54</td>\n      <td>12</td>\n      <td>SP</td>\n      <td>2708.410161</td>\n    </tr>\n    <tr>\n      <th>1</th>\n      <td>RH</td>\n      <td>Masculino</td>\n      <td>Doutorado</td>\n      <td>52</td>\n      <td>12</td>\n      <td>SP</td>\n      <td>8321.204000</td>\n    </tr>\n    <tr>\n      <th>2</th>\n      <td>RH</td>\n      <td>Masculino</td>\n      <td>Mestrado</td>\n      <td>54</td>\n      <td>12</td>\n      <td>RJ</td>\n      <td>7588.139000</td>\n    </tr>\n    <tr>\n      <th>3</th>\n      <td>Financeiro</td>\n      <td>Feminino</td>\n      <td>Mestrado</td>\n      <td>32</td>\n      <td>9</td>\n      <td>BH</td>\n      <td>6512.599657</td>\n    </tr>\n    <tr>\n      <th>4</th>\n      <td>RH</td>\n      <td>Masculino</td>\n      <td>Superior Incompleto</td>\n      <td>34</td>\n      <td>8</td>\n      <td>BH</td>\n      <td>3125.765000</td>\n    </tr>\n  </tbody>\n</table>\n</div>"
     },
     "metadata": {},
     "output_type": "display_data"
    },
    {
     "data": {
      "text/plain": "            Setor       Sexo       Grau_Instrucao  Idade  Anos_Experiencia  \\\n0  Administrativo   Feminino  Superior Incompleto     55                11   \n1       Marketing  Masculino    Superior Completo     40                17   \n2  Administrativo   Feminino             Mestrado     35                 8   \n3        Operacao  Masculino             Mestrado     45                16   \n4  Administrativo   Feminino  Superior Incompleto     43                16   \n\n  Estado      Salario  \n0     SP  1999.616745  \n1     SP  5139.437521  \n2     SP  6883.379725  \n3     SP  6386.825060  \n4     BH  1877.931320  ",
      "text/html": "<div>\n<style scoped>\n    .dataframe tbody tr th:only-of-type {\n        vertical-align: middle;\n    }\n\n    .dataframe tbody tr th {\n        vertical-align: top;\n    }\n\n    .dataframe thead th {\n        text-align: right;\n    }\n</style>\n<table border=\"1\" class=\"dataframe\">\n  <thead>\n    <tr style=\"text-align: right;\">\n      <th></th>\n      <th>Setor</th>\n      <th>Sexo</th>\n      <th>Grau_Instrucao</th>\n      <th>Idade</th>\n      <th>Anos_Experiencia</th>\n      <th>Estado</th>\n      <th>Salario</th>\n    </tr>\n  </thead>\n  <tbody>\n    <tr>\n      <th>0</th>\n      <td>Administrativo</td>\n      <td>Feminino</td>\n      <td>Superior Incompleto</td>\n      <td>55</td>\n      <td>11</td>\n      <td>SP</td>\n      <td>1999.616745</td>\n    </tr>\n    <tr>\n      <th>1</th>\n      <td>Marketing</td>\n      <td>Masculino</td>\n      <td>Superior Completo</td>\n      <td>40</td>\n      <td>17</td>\n      <td>SP</td>\n      <td>5139.437521</td>\n    </tr>\n    <tr>\n      <th>2</th>\n      <td>Administrativo</td>\n      <td>Feminino</td>\n      <td>Mestrado</td>\n      <td>35</td>\n      <td>8</td>\n      <td>SP</td>\n      <td>6883.379725</td>\n    </tr>\n    <tr>\n      <th>3</th>\n      <td>Operacao</td>\n      <td>Masculino</td>\n      <td>Mestrado</td>\n      <td>45</td>\n      <td>16</td>\n      <td>SP</td>\n      <td>6386.825060</td>\n    </tr>\n    <tr>\n      <th>4</th>\n      <td>Administrativo</td>\n      <td>Feminino</td>\n      <td>Superior Incompleto</td>\n      <td>43</td>\n      <td>16</td>\n      <td>BH</td>\n      <td>1877.931320</td>\n    </tr>\n  </tbody>\n</table>\n</div>"
     },
     "metadata": {},
     "output_type": "display_data"
    }
   ],
   "source": [
    "company_before,company_fev = company_before.drop(columns=['id']),company_fev.drop(columns=['id'])\n",
    "display(company_before.head())\n",
    "display(company_fev.head())"
   ],
   "metadata": {
    "collapsed": false
   }
  },
  {
   "cell_type": "markdown",
   "source": [
    "Ajuste o nome das colunas no DataFrame company_mar."
   ],
   "metadata": {
    "collapsed": false
   }
  },
  {
   "cell_type": "code",
   "execution_count": 21,
   "outputs": [
    {
     "data": {
      "text/plain": "  Sexo       Grau_Instrucao  Anos_Experiencia  Idade Estado       Salario  \\\n0    M    Superior Completo                11     56     SP   3722.984809   \n1    F    Superior Completo                 9     31     RJ  10290.856780   \n2    F  Superior Incompleto                12     53     SP   3583.467000   \n3    M            Doutorado                16     45     BH  10588.027760   \n4    F  Superior Incompleto                15     46     SP   1995.308000   \n\n              Setor  \n0          Operacao  \n1    Administrativo  \n2  Recursos Humanos  \n3          Operacao  \n4    Administrativo  ",
      "text/html": "<div>\n<style scoped>\n    .dataframe tbody tr th:only-of-type {\n        vertical-align: middle;\n    }\n\n    .dataframe tbody tr th {\n        vertical-align: top;\n    }\n\n    .dataframe thead th {\n        text-align: right;\n    }\n</style>\n<table border=\"1\" class=\"dataframe\">\n  <thead>\n    <tr style=\"text-align: right;\">\n      <th></th>\n      <th>Sexo</th>\n      <th>Grau_Instrucao</th>\n      <th>Anos_Experiencia</th>\n      <th>Idade</th>\n      <th>Estado</th>\n      <th>Salario</th>\n      <th>Setor</th>\n    </tr>\n  </thead>\n  <tbody>\n    <tr>\n      <th>0</th>\n      <td>M</td>\n      <td>Superior Completo</td>\n      <td>11</td>\n      <td>56</td>\n      <td>SP</td>\n      <td>3722.984809</td>\n      <td>Operacao</td>\n    </tr>\n    <tr>\n      <th>1</th>\n      <td>F</td>\n      <td>Superior Completo</td>\n      <td>9</td>\n      <td>31</td>\n      <td>RJ</td>\n      <td>10290.856780</td>\n      <td>Administrativo</td>\n    </tr>\n    <tr>\n      <th>2</th>\n      <td>F</td>\n      <td>Superior Incompleto</td>\n      <td>12</td>\n      <td>53</td>\n      <td>SP</td>\n      <td>3583.467000</td>\n      <td>Recursos Humanos</td>\n    </tr>\n    <tr>\n      <th>3</th>\n      <td>M</td>\n      <td>Doutorado</td>\n      <td>16</td>\n      <td>45</td>\n      <td>BH</td>\n      <td>10588.027760</td>\n      <td>Operacao</td>\n    </tr>\n    <tr>\n      <th>4</th>\n      <td>F</td>\n      <td>Superior Incompleto</td>\n      <td>15</td>\n      <td>46</td>\n      <td>SP</td>\n      <td>1995.308000</td>\n      <td>Administrativo</td>\n    </tr>\n  </tbody>\n</table>\n</div>"
     },
     "execution_count": 21,
     "metadata": {},
     "output_type": "execute_result"
    }
   ],
   "source": [
    "company_mar = company_mar.rename(columns={'Sex':'Sexo','Experiencia':'Anos_Experiencia','Departamento':'Setor'})\n",
    "company_mar.head()"
   ],
   "metadata": {
    "collapsed": false
   }
  },
  {
   "cell_type": "markdown",
   "source": [
    "Ajuste a ordem das colunas em company_mar."
   ],
   "metadata": {
    "collapsed": false
   }
  },
  {
   "cell_type": "code",
   "execution_count": 36,
   "outputs": [
    {
     "data": {
      "text/plain": "              Setor Sexo       Grau_Instrucao  Idade  Anos_Experiencia Estado  \\\n0          Operacao    M    Superior Completo     56                11     SP   \n1    Administrativo    F    Superior Completo     31                 9     RJ   \n2  Recursos Humanos    F  Superior Incompleto     53                12     SP   \n3          Operacao    M            Doutorado     45                16     BH   \n4    Administrativo    F  Superior Incompleto     46                15     SP   \n\n        Salario  \n0   3722.984809  \n1  10290.856780  \n2   3583.467000  \n3  10588.027760  \n4   1995.308000  ",
      "text/html": "<div>\n<style scoped>\n    .dataframe tbody tr th:only-of-type {\n        vertical-align: middle;\n    }\n\n    .dataframe tbody tr th {\n        vertical-align: top;\n    }\n\n    .dataframe thead th {\n        text-align: right;\n    }\n</style>\n<table border=\"1\" class=\"dataframe\">\n  <thead>\n    <tr style=\"text-align: right;\">\n      <th></th>\n      <th>Setor</th>\n      <th>Sexo</th>\n      <th>Grau_Instrucao</th>\n      <th>Idade</th>\n      <th>Anos_Experiencia</th>\n      <th>Estado</th>\n      <th>Salario</th>\n    </tr>\n  </thead>\n  <tbody>\n    <tr>\n      <th>0</th>\n      <td>Operacao</td>\n      <td>M</td>\n      <td>Superior Completo</td>\n      <td>56</td>\n      <td>11</td>\n      <td>SP</td>\n      <td>3722.984809</td>\n    </tr>\n    <tr>\n      <th>1</th>\n      <td>Administrativo</td>\n      <td>F</td>\n      <td>Superior Completo</td>\n      <td>31</td>\n      <td>9</td>\n      <td>RJ</td>\n      <td>10290.856780</td>\n    </tr>\n    <tr>\n      <th>2</th>\n      <td>Recursos Humanos</td>\n      <td>F</td>\n      <td>Superior Incompleto</td>\n      <td>53</td>\n      <td>12</td>\n      <td>SP</td>\n      <td>3583.467000</td>\n    </tr>\n    <tr>\n      <th>3</th>\n      <td>Operacao</td>\n      <td>M</td>\n      <td>Doutorado</td>\n      <td>45</td>\n      <td>16</td>\n      <td>BH</td>\n      <td>10588.027760</td>\n    </tr>\n    <tr>\n      <th>4</th>\n      <td>Administrativo</td>\n      <td>F</td>\n      <td>Superior Incompleto</td>\n      <td>46</td>\n      <td>15</td>\n      <td>SP</td>\n      <td>1995.308000</td>\n    </tr>\n  </tbody>\n</table>\n</div>"
     },
     "execution_count": 36,
     "metadata": {},
     "output_type": "execute_result"
    }
   ],
   "source": [
    "company_mar = company_mar.reindex(columns=['Setor','Sexo','Grau_Instrucao','Idade','Anos_Experiencia','Estado','Salario'])\n",
    "company_mar.head()"
   ],
   "metadata": {
    "collapsed": false
   }
  },
  {
   "cell_type": "markdown",
   "source": [
    "Verifique e ajuste os valores dos rótulos empregados nos campos object (strings) de company_mar"
   ],
   "metadata": {
    "collapsed": false
   }
  },
  {
   "cell_type": "code",
   "execution_count": 37,
   "outputs": [
    {
     "data": {
      "text/plain": "              Setor       Sexo       Grau_Instrucao  Idade  Anos_Experiencia  \\\n0          Operacao  Masculino    Superior Completo     56                11   \n1    Administrativo   Feminino    Superior Completo     31                 9   \n2  Recursos Humanos   Feminino  Superior Incompleto     53                12   \n3          Operacao  Masculino            Doutorado     45                16   \n4    Administrativo   Feminino  Superior Incompleto     46                15   \n\n  Estado       Salario  \n0     SP   3722.984809  \n1     RJ  10290.856780  \n2     SP   3583.467000  \n3     BH  10588.027760  \n4     SP   1995.308000  ",
      "text/html": "<div>\n<style scoped>\n    .dataframe tbody tr th:only-of-type {\n        vertical-align: middle;\n    }\n\n    .dataframe tbody tr th {\n        vertical-align: top;\n    }\n\n    .dataframe thead th {\n        text-align: right;\n    }\n</style>\n<table border=\"1\" class=\"dataframe\">\n  <thead>\n    <tr style=\"text-align: right;\">\n      <th></th>\n      <th>Setor</th>\n      <th>Sexo</th>\n      <th>Grau_Instrucao</th>\n      <th>Idade</th>\n      <th>Anos_Experiencia</th>\n      <th>Estado</th>\n      <th>Salario</th>\n    </tr>\n  </thead>\n  <tbody>\n    <tr>\n      <th>0</th>\n      <td>Operacao</td>\n      <td>Masculino</td>\n      <td>Superior Completo</td>\n      <td>56</td>\n      <td>11</td>\n      <td>SP</td>\n      <td>3722.984809</td>\n    </tr>\n    <tr>\n      <th>1</th>\n      <td>Administrativo</td>\n      <td>Feminino</td>\n      <td>Superior Completo</td>\n      <td>31</td>\n      <td>9</td>\n      <td>RJ</td>\n      <td>10290.856780</td>\n    </tr>\n    <tr>\n      <th>2</th>\n      <td>Recursos Humanos</td>\n      <td>Feminino</td>\n      <td>Superior Incompleto</td>\n      <td>53</td>\n      <td>12</td>\n      <td>SP</td>\n      <td>3583.467000</td>\n    </tr>\n    <tr>\n      <th>3</th>\n      <td>Operacao</td>\n      <td>Masculino</td>\n      <td>Doutorado</td>\n      <td>45</td>\n      <td>16</td>\n      <td>BH</td>\n      <td>10588.027760</td>\n    </tr>\n    <tr>\n      <th>4</th>\n      <td>Administrativo</td>\n      <td>Feminino</td>\n      <td>Superior Incompleto</td>\n      <td>46</td>\n      <td>15</td>\n      <td>SP</td>\n      <td>1995.308000</td>\n    </tr>\n  </tbody>\n</table>\n</div>"
     },
     "execution_count": 37,
     "metadata": {},
     "output_type": "execute_result"
    }
   ],
   "source": [
    "company_mar.Sexo = company_mar.Sexo.replace('M','Masculino')\n",
    "company_mar.Sexo = company_mar.Sexo.replace('F', 'Feminino')\n",
    "company_mar.head()"
   ],
   "metadata": {
    "collapsed": false
   }
  },
  {
   "cell_type": "markdown",
   "source": [
    "Concatene os DataFrames em um único DataFrame company."
   ],
   "metadata": {
    "collapsed": false
   }
  },
  {
   "cell_type": "code",
   "execution_count": 90,
   "outputs": [
    {
     "data": {
      "text/plain": "              Setor       Sexo       Grau_Instrucao  Idade  Anos_Experiencia  \\\n0          Operacao  Masculino    Superior Completo     56                11   \n1    Administrativo   Feminino    Superior Completo     31                 9   \n2  Recursos Humanos   Feminino  Superior Incompleto     53                12   \n3          Operacao  Masculino            Doutorado     45                16   \n4    Administrativo   Feminino  Superior Incompleto     46                15   \n\n  Estado       Salario  \n0     SP   3722.984809  \n1     RJ  10290.856780  \n2     SP   3583.467000  \n3     BH  10588.027760  \n4     SP   1995.308000  ",
      "text/html": "<div>\n<style scoped>\n    .dataframe tbody tr th:only-of-type {\n        vertical-align: middle;\n    }\n\n    .dataframe tbody tr th {\n        vertical-align: top;\n    }\n\n    .dataframe thead th {\n        text-align: right;\n    }\n</style>\n<table border=\"1\" class=\"dataframe\">\n  <thead>\n    <tr style=\"text-align: right;\">\n      <th></th>\n      <th>Setor</th>\n      <th>Sexo</th>\n      <th>Grau_Instrucao</th>\n      <th>Idade</th>\n      <th>Anos_Experiencia</th>\n      <th>Estado</th>\n      <th>Salario</th>\n    </tr>\n  </thead>\n  <tbody>\n    <tr>\n      <th>0</th>\n      <td>Operacao</td>\n      <td>Masculino</td>\n      <td>Superior Completo</td>\n      <td>56</td>\n      <td>11</td>\n      <td>SP</td>\n      <td>3722.984809</td>\n    </tr>\n    <tr>\n      <th>1</th>\n      <td>Administrativo</td>\n      <td>Feminino</td>\n      <td>Superior Completo</td>\n      <td>31</td>\n      <td>9</td>\n      <td>RJ</td>\n      <td>10290.856780</td>\n    </tr>\n    <tr>\n      <th>2</th>\n      <td>Recursos Humanos</td>\n      <td>Feminino</td>\n      <td>Superior Incompleto</td>\n      <td>53</td>\n      <td>12</td>\n      <td>SP</td>\n      <td>3583.467000</td>\n    </tr>\n    <tr>\n      <th>3</th>\n      <td>Operacao</td>\n      <td>Masculino</td>\n      <td>Doutorado</td>\n      <td>45</td>\n      <td>16</td>\n      <td>BH</td>\n      <td>10588.027760</td>\n    </tr>\n    <tr>\n      <th>4</th>\n      <td>Administrativo</td>\n      <td>Feminino</td>\n      <td>Superior Incompleto</td>\n      <td>46</td>\n      <td>15</td>\n      <td>SP</td>\n      <td>1995.308000</td>\n    </tr>\n  </tbody>\n</table>\n</div>"
     },
     "execution_count": 90,
     "metadata": {},
     "output_type": "execute_result"
    }
   ],
   "source": [
    "company = pd.concat([company_mar,company_before,company_fev],axis=0)\n",
    "company.head()"
   ],
   "metadata": {
    "collapsed": false
   }
  },
  {
   "cell_type": "markdown",
   "source": [
    "---------------------------------------------------------------------------------"
   ],
   "metadata": {
    "collapsed": false
   }
  },
  {
   "cell_type": "markdown",
   "source": [
    "Q1. groupby(), get_group()\n",
    "Empregue os comandos groupby() e get_group() para criar um DataFrame para cada Setor, apenas com seus dados próprios. Salve cada DataFrame em um Arquivo no formato .csv e outro no formato .json. Cada DataFrame terá o nome do setor (setor.csv e setor.json) e apenas as colunas:\n",
    "\n",
    "['Sexo', 'Grau_instrucao', 'Idade', 'Anos_Experiencia', 'Estado', 'Salario']\n",
    "(sem Setor!). Em seguida, empregue o comando memory_usage() e obtenha a memória usada por cada DataFrame (.csv)."
   ],
   "metadata": {
    "collapsed": false
   }
  },
  {
   "cell_type": "markdown",
   "source": [
    "Um exemplo do DataFrame Administrativo a ser criado:"
   ],
   "metadata": {
    "collapsed": false
   }
  },
  {
   "cell_type": "code",
   "execution_count": 42,
   "outputs": [
    {
     "name": "stdout",
     "output_type": "stream",
     "text": [
      "DataFrame: Admistrativo\n"
     ]
    },
    {
     "data": {
      "text/plain": "        Sexo       Grau_Instrucao  Idade  Anos_Experiencia Estado  \\\n0   Feminino    Superior Completo     31                 9     RJ   \n1   Feminino  Superior Incompleto     46                15     SP   \n2  Masculino    Superior Completo     63                 8     SP   \n3  Masculino    Superior Completo     61                 9     SP   \n4  Masculino             Mestrado     32                 9     SP   \n\n        Salario  \n0  10290.856780  \n1   1995.308000  \n2   2769.916194  \n3   4275.077705  \n4   6948.868398  ",
      "text/html": "<div>\n<style scoped>\n    .dataframe tbody tr th:only-of-type {\n        vertical-align: middle;\n    }\n\n    .dataframe tbody tr th {\n        vertical-align: top;\n    }\n\n    .dataframe thead th {\n        text-align: right;\n    }\n</style>\n<table border=\"1\" class=\"dataframe\">\n  <thead>\n    <tr style=\"text-align: right;\">\n      <th></th>\n      <th>Sexo</th>\n      <th>Grau_Instrucao</th>\n      <th>Idade</th>\n      <th>Anos_Experiencia</th>\n      <th>Estado</th>\n      <th>Salario</th>\n    </tr>\n  </thead>\n  <tbody>\n    <tr>\n      <th>0</th>\n      <td>Feminino</td>\n      <td>Superior Completo</td>\n      <td>31</td>\n      <td>9</td>\n      <td>RJ</td>\n      <td>10290.856780</td>\n    </tr>\n    <tr>\n      <th>1</th>\n      <td>Feminino</td>\n      <td>Superior Incompleto</td>\n      <td>46</td>\n      <td>15</td>\n      <td>SP</td>\n      <td>1995.308000</td>\n    </tr>\n    <tr>\n      <th>2</th>\n      <td>Masculino</td>\n      <td>Superior Completo</td>\n      <td>63</td>\n      <td>8</td>\n      <td>SP</td>\n      <td>2769.916194</td>\n    </tr>\n    <tr>\n      <th>3</th>\n      <td>Masculino</td>\n      <td>Superior Completo</td>\n      <td>61</td>\n      <td>9</td>\n      <td>SP</td>\n      <td>4275.077705</td>\n    </tr>\n    <tr>\n      <th>4</th>\n      <td>Masculino</td>\n      <td>Mestrado</td>\n      <td>32</td>\n      <td>9</td>\n      <td>SP</td>\n      <td>6948.868398</td>\n    </tr>\n  </tbody>\n</table>\n</div>"
     },
     "metadata": {},
     "output_type": "display_data"
    },
    {
     "name": "stdout",
     "output_type": "stream",
     "text": [
      "\n",
      "memory usage: 0.4KB\n"
     ]
    }
   ],
   "source": [
    "#@markdown\n",
    "\n",
    "# Atenção esta não é a solução, é apenas para fornecer o aspecto da saída esperada\n",
    "\n",
    "temp = company[ company.Setor == 'Administrativo' ].head(5).drop(columns='Setor').reset_index(drop=True).head()\n",
    "\n",
    "print('DataFrame: Admistrativo')\n",
    "display( temp.head() )\n",
    "print()\n",
    "print( f'memory usage: {temp.memory_usage().sum() / 1024:.1f}KB' )"
   ],
   "metadata": {
    "collapsed": false
   }
  },
  {
   "cell_type": "markdown",
   "source": [
    "Dica: Veja o exemplo a seguir de como empregar o get_group()."
   ],
   "metadata": {
    "collapsed": false
   }
  },
  {
   "cell_type": "code",
   "execution_count": null,
   "outputs": [],
   "source": [
    "#@markdown\n",
    "df = pd.DataFrame(\n",
    "    [\n",
    "        (\"bird\", \"Falconiformes\", 389.0),\n",
    "        (\"bird\", \"Psittaciformes\", 24.0),\n",
    "        (\"mammal\", \"Carnivora\", 80.2),\n",
    "        (\"mammal\", \"Primates\", np.nan),\n",
    "        (\"mammal\", \"Carnivora\", 58),\n",
    "    ],\n",
    "    index=[\"falcon\", \"parrot\", \"lion\", \"monkey\", \"leopard\"],\n",
    "    columns=(\"class\", \"order\", \"max_speed\"),\n",
    ")\n",
    "\n",
    "df"
   ],
   "metadata": {
    "collapsed": false
   }
  },
  {
   "cell_type": "code",
   "execution_count": null,
   "outputs": [],
   "source": [
    "g = df.groupby('class')"
   ],
   "metadata": {
    "collapsed": false
   }
  },
  {
   "cell_type": "code",
   "execution_count": null,
   "outputs": [],
   "source": [
    "g.groups.keys()"
   ],
   "metadata": {
    "collapsed": false
   }
  },
  {
   "cell_type": "code",
   "execution_count": null,
   "outputs": [],
   "source": [
    "g.get_group('bird')"
   ],
   "metadata": {
    "collapsed": false
   }
  },
  {
   "cell_type": "code",
   "execution_count": 45,
   "outputs": [
    {
     "data": {
      "text/plain": "dict_keys(['Administrativo', 'Financeiro', 'Marketing', 'Operacao', 'RH', 'Recursos Humanos'])"
     },
     "execution_count": 45,
     "metadata": {},
     "output_type": "execute_result"
    }
   ],
   "source": [
    "Q1 = company.groupby('Setor')\n",
    "Q1.groups.keys()"
   ],
   "metadata": {
    "collapsed": false
   }
  },
  {
   "cell_type": "code",
   "execution_count": 75,
   "outputs": [],
   "source": [
    "Administrativo = Q1.get_group('Administrativo')\n",
    "Administrativo = Administrativo.drop(columns=['Setor'])\n",
    "Administrativo.to_csv('Administrativo.csv', index=False)\n",
    "Administrativo.to_json('Administrativo.json', orient='records')\n",
    "\n",
    "Financeiro = Q1.get_group('Financeiro')\n",
    "Financeiro = Financeiro.drop(columns=['Setor'])\n",
    "Financeiro.to_csv('Financeiro.csv', index=False)\n",
    "Financeiro.to_json('Financeiro.json', orient='records')"
   ],
   "metadata": {
    "collapsed": false
   }
  },
  {
   "cell_type": "markdown",
   "source": [
    "(Moodle) Qual a memória ocupada pelos DataFrames Administrativo e Financeiro criados?\n",
    "['Sexo', 'Grau_instrucao', 'Idade', 'Anos_Experiencia', 'Estado', 'Salario']\n",
    "(sem Setor!)"
   ],
   "metadata": {
    "collapsed": false
   }
  },
  {
   "cell_type": "code",
   "execution_count": 76,
   "outputs": [
    {
     "name": "stdout",
     "output_type": "stream",
     "text": [
      "memory usage Administrativo.csv: 19.0KB\n",
      "memory usage Administrativo.json: 0.0KB\n",
      "memory usage Financeiro.csv: 8.5KB\n",
      "memory usage Financeiro.json: 0.0KB\n"
     ]
    }
   ],
   "source": [
    "temp = pd.read_csv('Administrativo.csv')\n",
    "print( f'memory usage Administrativo.csv: {temp.memory_usage().sum() / 1024:.1f}KB' )\n",
    "\n",
    "temp = pd.read_csv('Administrativo.json')\n",
    "print( f'memory usage Administrativo.json: {temp.memory_usage().sum() / 1024:.1f}KB' )\n",
    "\n",
    "temp = pd.read_csv('Financeiro.csv')\n",
    "print( f'memory usage Financeiro.csv: {temp.memory_usage().sum() / 1024:.1f}KB' )\n",
    "\n",
    "temp = pd.read_csv('Financeiro.json')\n",
    "print( f'memory usage Financeiro.json: {temp.memory_usage().sum() / 1024:.1f}KB' )"
   ],
   "metadata": {
    "collapsed": false
   }
  },
  {
   "cell_type": "markdown",
   "source": [
    "-------------------------------------------------------------------------------"
   ],
   "metadata": {
    "collapsed": false
   }
  },
  {
   "cell_type": "markdown",
   "source": [
    "Q2. to_json\n",
    "(Moodle) Inspecione o DataFrame json criado. É o que você esperava encontrar? O que melhor descreve o formato encontrado? Verifique em https://pandas.pydata.org/docs/reference/api/pandas.DataFrame.to_json.html. The format of the JSON string."
   ],
   "metadata": {
    "collapsed": false
   }
  },
  {
   "cell_type": "markdown",
   "source": [
    "-------------------------------------------------------------------------------"
   ],
   "metadata": {
    "collapsed": false
   }
  },
  {
   "cell_type": "markdown",
   "source": [
    "Q3. agg(), mode()\n",
    "Veja os exemplos abaixo de como empregar a função agg() e como criar uma função nova para uso dentro do agg().\n",
    "\n",
    "dict_keys(['Administrativo', 'Financeiro', 'Marketing', 'Operacao', 'RH', 'Recursos Humanos'])dict_keys(['Administrativo', 'Financeiro', 'Marketing', 'Operacao', 'RH', 'Recursos Humanos'])"
   ],
   "metadata": {
    "collapsed": false
   }
  },
  {
   "cell_type": "code",
   "execution_count": 109,
   "outputs": [
    {
     "data": {
      "text/plain": "      Salario\n402  19790.41\n401  18097.53\n400  17945.62\n399  17578.02\n398  17306.15\n397  17148.12\n396  16895.05\n395  16758.74\n394  16106.52\n393  16070.24",
      "text/html": "<div>\n<style scoped>\n    .dataframe tbody tr th:only-of-type {\n        vertical-align: middle;\n    }\n\n    .dataframe tbody tr th {\n        vertical-align: top;\n    }\n\n    .dataframe thead th {\n        text-align: right;\n    }\n</style>\n<table border=\"1\" class=\"dataframe\">\n  <thead>\n    <tr style=\"text-align: right;\">\n      <th></th>\n      <th>Salario</th>\n    </tr>\n  </thead>\n  <tbody>\n    <tr>\n      <th>402</th>\n      <td>19790.41</td>\n    </tr>\n    <tr>\n      <th>401</th>\n      <td>18097.53</td>\n    </tr>\n    <tr>\n      <th>400</th>\n      <td>17945.62</td>\n    </tr>\n    <tr>\n      <th>399</th>\n      <td>17578.02</td>\n    </tr>\n    <tr>\n      <th>398</th>\n      <td>17306.15</td>\n    </tr>\n    <tr>\n      <th>397</th>\n      <td>17148.12</td>\n    </tr>\n    <tr>\n      <th>396</th>\n      <td>16895.05</td>\n    </tr>\n    <tr>\n      <th>395</th>\n      <td>16758.74</td>\n    </tr>\n    <tr>\n      <th>394</th>\n      <td>16106.52</td>\n    </tr>\n    <tr>\n      <th>393</th>\n      <td>16070.24</td>\n    </tr>\n  </tbody>\n</table>\n</div>"
     },
     "metadata": {},
     "output_type": "display_data"
    },
    {
     "data": {
      "text/plain": "         Salario\n178  11837.96937\n177  11825.47915\n176  11344.36545\n175  11100.82517\n174  11095.95904\n173  11076.30159\n172  10929.57923\n171  10894.77924\n170  10813.31032\n169  10748.47584",
      "text/html": "<div>\n<style scoped>\n    .dataframe tbody tr th:only-of-type {\n        vertical-align: middle;\n    }\n\n    .dataframe tbody tr th {\n        vertical-align: top;\n    }\n\n    .dataframe thead th {\n        text-align: right;\n    }\n</style>\n<table border=\"1\" class=\"dataframe\">\n  <thead>\n    <tr style=\"text-align: right;\">\n      <th></th>\n      <th>Salario</th>\n    </tr>\n  </thead>\n  <tbody>\n    <tr>\n      <th>178</th>\n      <td>11837.96937</td>\n    </tr>\n    <tr>\n      <th>177</th>\n      <td>11825.47915</td>\n    </tr>\n    <tr>\n      <th>176</th>\n      <td>11344.36545</td>\n    </tr>\n    <tr>\n      <th>175</th>\n      <td>11100.82517</td>\n    </tr>\n    <tr>\n      <th>174</th>\n      <td>11095.95904</td>\n    </tr>\n    <tr>\n      <th>173</th>\n      <td>11076.30159</td>\n    </tr>\n    <tr>\n      <th>172</th>\n      <td>10929.57923</td>\n    </tr>\n    <tr>\n      <th>171</th>\n      <td>10894.77924</td>\n    </tr>\n    <tr>\n      <th>170</th>\n      <td>10813.31032</td>\n    </tr>\n    <tr>\n      <th>169</th>\n      <td>10748.47584</td>\n    </tr>\n  </tbody>\n</table>\n</div>"
     },
     "metadata": {},
     "output_type": "display_data"
    },
    {
     "data": {
      "text/plain": "         Salario\n191  11797.85578\n190  11571.47909\n189  11409.29811\n188  11398.33818\n187  11331.07164\n186  11317.96485\n185  11301.24377\n184  11201.66833\n183  11189.58498\n182  10823.28046",
      "text/html": "<div>\n<style scoped>\n    .dataframe tbody tr th:only-of-type {\n        vertical-align: middle;\n    }\n\n    .dataframe tbody tr th {\n        vertical-align: top;\n    }\n\n    .dataframe thead th {\n        text-align: right;\n    }\n</style>\n<table border=\"1\" class=\"dataframe\">\n  <thead>\n    <tr style=\"text-align: right;\">\n      <th></th>\n      <th>Salario</th>\n    </tr>\n  </thead>\n  <tbody>\n    <tr>\n      <th>191</th>\n      <td>11797.85578</td>\n    </tr>\n    <tr>\n      <th>190</th>\n      <td>11571.47909</td>\n    </tr>\n    <tr>\n      <th>189</th>\n      <td>11409.29811</td>\n    </tr>\n    <tr>\n      <th>188</th>\n      <td>11398.33818</td>\n    </tr>\n    <tr>\n      <th>187</th>\n      <td>11331.07164</td>\n    </tr>\n    <tr>\n      <th>186</th>\n      <td>11317.96485</td>\n    </tr>\n    <tr>\n      <th>185</th>\n      <td>11301.24377</td>\n    </tr>\n    <tr>\n      <th>184</th>\n      <td>11201.66833</td>\n    </tr>\n    <tr>\n      <th>183</th>\n      <td>11189.58498</td>\n    </tr>\n    <tr>\n      <th>182</th>\n      <td>10823.28046</td>\n    </tr>\n  </tbody>\n</table>\n</div>"
     },
     "metadata": {},
     "output_type": "display_data"
    },
    {
     "data": {
      "text/plain": "         Salario\n556  12406.65206\n555  12085.55215\n554  12048.29864\n553  11910.84982\n552  11905.52915\n551  11905.46981\n550  11887.09626\n549  11885.89983\n548  11883.43761\n547  11716.45362",
      "text/html": "<div>\n<style scoped>\n    .dataframe tbody tr th:only-of-type {\n        vertical-align: middle;\n    }\n\n    .dataframe tbody tr th {\n        vertical-align: top;\n    }\n\n    .dataframe thead th {\n        text-align: right;\n    }\n</style>\n<table border=\"1\" class=\"dataframe\">\n  <thead>\n    <tr style=\"text-align: right;\">\n      <th></th>\n      <th>Salario</th>\n    </tr>\n  </thead>\n  <tbody>\n    <tr>\n      <th>556</th>\n      <td>12406.65206</td>\n    </tr>\n    <tr>\n      <th>555</th>\n      <td>12085.55215</td>\n    </tr>\n    <tr>\n      <th>554</th>\n      <td>12048.29864</td>\n    </tr>\n    <tr>\n      <th>553</th>\n      <td>11910.84982</td>\n    </tr>\n    <tr>\n      <th>552</th>\n      <td>11905.52915</td>\n    </tr>\n    <tr>\n      <th>551</th>\n      <td>11905.46981</td>\n    </tr>\n    <tr>\n      <th>550</th>\n      <td>11887.09626</td>\n    </tr>\n    <tr>\n      <th>549</th>\n      <td>11885.89983</td>\n    </tr>\n    <tr>\n      <th>548</th>\n      <td>11883.43761</td>\n    </tr>\n    <tr>\n      <th>547</th>\n      <td>11716.45362</td>\n    </tr>\n  </tbody>\n</table>\n</div>"
     },
     "metadata": {},
     "output_type": "display_data"
    },
    {
     "data": {
      "text/plain": "       Salario\n186  10189.237\n185   9465.429\n184   8991.566\n183   8802.473\n182   8414.703\n181   8382.517\n180   8380.938\n179   8322.199\n178   8321.204\n177   8307.735",
      "text/html": "<div>\n<style scoped>\n    .dataframe tbody tr th:only-of-type {\n        vertical-align: middle;\n    }\n\n    .dataframe tbody tr th {\n        vertical-align: top;\n    }\n\n    .dataframe thead th {\n        text-align: right;\n    }\n</style>\n<table border=\"1\" class=\"dataframe\">\n  <thead>\n    <tr style=\"text-align: right;\">\n      <th></th>\n      <th>Salario</th>\n    </tr>\n  </thead>\n  <tbody>\n    <tr>\n      <th>186</th>\n      <td>10189.237</td>\n    </tr>\n    <tr>\n      <th>185</th>\n      <td>9465.429</td>\n    </tr>\n    <tr>\n      <th>184</th>\n      <td>8991.566</td>\n    </tr>\n    <tr>\n      <th>183</th>\n      <td>8802.473</td>\n    </tr>\n    <tr>\n      <th>182</th>\n      <td>8414.703</td>\n    </tr>\n    <tr>\n      <th>181</th>\n      <td>8382.517</td>\n    </tr>\n    <tr>\n      <th>180</th>\n      <td>8380.938</td>\n    </tr>\n    <tr>\n      <th>179</th>\n      <td>8322.199</td>\n    </tr>\n    <tr>\n      <th>178</th>\n      <td>8321.204</td>\n    </tr>\n    <tr>\n      <th>177</th>\n      <td>8307.735</td>\n    </tr>\n  </tbody>\n</table>\n</div>"
     },
     "metadata": {},
     "output_type": "display_data"
    },
    {
     "data": {
      "text/plain": "    Salario\n1  6538.568\n0  3583.467",
      "text/html": "<div>\n<style scoped>\n    .dataframe tbody tr th:only-of-type {\n        vertical-align: middle;\n    }\n\n    .dataframe tbody tr th {\n        vertical-align: top;\n    }\n\n    .dataframe thead th {\n        text-align: right;\n    }\n</style>\n<table border=\"1\" class=\"dataframe\">\n  <thead>\n    <tr style=\"text-align: right;\">\n      <th></th>\n      <th>Salario</th>\n    </tr>\n  </thead>\n  <tbody>\n    <tr>\n      <th>1</th>\n      <td>6538.568</td>\n    </tr>\n    <tr>\n      <th>0</th>\n      <td>3583.467</td>\n    </tr>\n  </tbody>\n</table>\n</div>"
     },
     "metadata": {},
     "output_type": "display_data"
    }
   ],
   "source": [
    "Q3 = company.groupby('Setor').agg(\"Salario\")\n",
    "display(pd.DataFrame(Q3.get_group(\"Administrativo\").mode()).nlargest(10,'Salario'))\n",
    "display(pd.DataFrame(Q3.get_group(\"Financeiro\").mode()).nlargest(10,'Salario'))\n",
    "display(pd.DataFrame(Q3.get_group(\"Marketing\").mode()).nlargest(10,'Salario'))\n",
    "display(pd.DataFrame(Q3.get_group(\"Operacao\").mode()).nlargest(10,'Salario'))\n",
    "display(pd.DataFrame(Q3.get_group(\"RH\").mode()).nlargest(10,'Salario'))\n",
    "display(pd.DataFrame(Q3.get_group(\"Recursos Humanos\").mode()).nlargest(10,'Salario'))"
   ],
   "metadata": {
    "collapsed": false
   }
  },
  {
   "cell_type": "code",
   "execution_count": 111,
   "outputs": [
    {
     "data": {
      "text/plain": "5579.490246096774"
     },
     "execution_count": 111,
     "metadata": {},
     "output_type": "execute_result"
    }
   ],
   "source": [
    "Q3.get_group(\"Administrativo\").mean()"
   ],
   "metadata": {
    "collapsed": false
   }
  },
  {
   "cell_type": "markdown",
   "source": [
    "Empregue os exemplos para fornecer os valores de moda (atributos categóricos) e médios (atributos numéricos) para todos os valores de company por Setor."
   ],
   "metadata": {
    "collapsed": false
   }
  },
  {
   "cell_type": "markdown",
   "source": [
    "(Moodle) Há algum Setor onde os valores de moda diferem dos demais? Se sim, qual a média de Salário desse Setor?"
   ],
   "metadata": {
    "collapsed": false
   }
  },
  {
   "cell_type": "markdown",
   "source": [
    "----------------------------------------------------------------------------------------"
   ],
   "metadata": {
    "collapsed": false
   }
  },
  {
   "cell_type": "markdown",
   "source": [
    "Q4. map()\n",
    "Empregue map() para criar um atributo Codigo_instrucao atribuindo valores inteiros  1  a  n  do menor para o maior Grau_Instrucao (ordem alfabética)."
   ],
   "metadata": {
    "collapsed": false
   }
  },
  {
   "cell_type": "code",
   "execution_count": 131,
   "outputs": [
    {
     "data": {
      "text/plain": "['Doutorado', 'Mestrado', 'Superior Completo', 'Superior Incompleto']"
     },
     "execution_count": 131,
     "metadata": {},
     "output_type": "execute_result"
    }
   ],
   "source": [
    "edu = company.Grau_Instrucao.unique()\n",
    "edu = edu.tolist()\n",
    "edu.sort()\n",
    "edu"
   ],
   "metadata": {
    "collapsed": false
   }
  },
  {
   "cell_type": "code",
   "execution_count": 134,
   "outputs": [],
   "source": [
    "def educacao(i):\n",
    "    if i == 'Doutorado':\n",
    "        return 1\n",
    "    elif i == 'Mestrado':\n",
    "        return 2\n",
    "    elif i == 'Superior Completo':\n",
    "        return 3\n",
    "    elif i == 'Superior Incompleto':\n",
    "        return 4"
   ],
   "metadata": {
    "collapsed": false
   }
  },
  {
   "cell_type": "code",
   "execution_count": 140,
   "outputs": [
    {
     "data": {
      "text/plain": "4498"
     },
     "execution_count": 140,
     "metadata": {},
     "output_type": "execute_result"
    }
   ],
   "source": [
    "Q4 = company.Grau_Instrucao.map(educacao)\n",
    "Q4.sum()"
   ],
   "metadata": {
    "collapsed": false
   }
  },
  {
   "cell_type": "markdown",
   "source": [
    "(Moodle) Fazendo o valor de soma dos valores do novo atributo Codigo_Instrucao?"
   ],
   "metadata": {
    "collapsed": false
   }
  },
  {
   "cell_type": "markdown",
   "source": [
    "---------------------------------------------------------------------------------------------"
   ],
   "metadata": {
    "collapsed": false
   }
  },
  {
   "cell_type": "markdown",
   "source": [
    "Q5. Tabela de contingência, pd.crosstab()\n",
    "Pesquise pd.crosstab() e o que é uma tabela de contigência. Em seguida construa uma tabela de contigência para responder a seguinte pergunta.\n",
    "\n",
    "(Moodle) Qual Setor possui menos mulheres trabalhando e qual o percentual que essas mulheres representam de toda a companhia?"
   ],
   "metadata": {
    "collapsed": false
   }
  },
  {
   "cell_type": "markdown",
   "source": [
    "dict_keys(['Administrativo', 'Financeiro', 'Marketing', 'Operacao', 'RH', 'Recursos Humanos'])"
   ],
   "metadata": {
    "collapsed": false
   }
  },
  {
   "cell_type": "code",
   "execution_count": 146,
   "outputs": [],
   "source": [
    "Q4   = company.groupby('Setor')\n",
    "TOTAL = company.Sexo.count()"
   ],
   "metadata": {
    "collapsed": false
   }
  },
  {
   "cell_type": "code",
   "execution_count": 153,
   "outputs": [
    {
     "name": "stdout",
     "output_type": "stream",
     "text": [
      "Administrativo 163, \t percentual = 10.723684210526315\n",
      "Financeiro 72, \t percentual = 4.736842105263158\n",
      "Marketing 66, \t percentual = 4.342105263157895\n",
      "Operacao 221, \t percentual = 14.539473684210527\n",
      "RH 71, \t percentual = 4.671052631578947\n",
      "Recursos Humanos 1, \t percentual = 0.06578947368421052\n"
     ]
    }
   ],
   "source": [
    "temp = Q4.get_group('Administrativo')\n",
    "setor = temp.Sexo[temp.Sexo == 'Feminino'].count()\n",
    "print(f'Administrativo {setor}, \\t percentual = {(setor/TOTAL)*100}')\n",
    "\n",
    "temp = Q4.get_group('Financeiro')\n",
    "setor = temp.Sexo[temp.Sexo == 'Feminino'].count()\n",
    "print(f'Financeiro {setor}, \\t percentual = {(setor/TOTAL)*100}')\n",
    "\n",
    "temp = Q4.get_group('Marketing')\n",
    "setor = temp.Sexo[temp.Sexo == 'Feminino'].count()\n",
    "print(f'Marketing {setor}, \\t percentual = {(setor/TOTAL)*100}')\n",
    "\n",
    "temp = Q4.get_group('Operacao')\n",
    "setor = temp.Sexo[temp.Sexo == 'Feminino'].count()\n",
    "print(f'Operacao {setor}, \\t percentual = {(setor/TOTAL)*100}')\n",
    "\n",
    "temp = Q4.get_group('RH')\n",
    "setor = temp.Sexo[temp.Sexo == 'Feminino'].count()\n",
    "print(f'RH {setor}, \\t percentual = {(setor/TOTAL)*100}')\n",
    "\n",
    "temp = Q4.get_group('Recursos Humanos')\n",
    "setor = temp.Sexo[temp.Sexo == 'Feminino'].count()\n",
    "print(f'Recursos Humanos {setor}, \\t percentual = {(setor/TOTAL)*100}')"
   ],
   "metadata": {
    "collapsed": false
   }
  },
  {
   "cell_type": "markdown",
   "source": [
    "O crosstab, entretando, é limitado a índices simples.Tabelas semelhantes com índices múltiplos podem ser obtidas combinando-se groupby() com .unstack()."
   ],
   "metadata": {
    "collapsed": false
   }
  },
  {
   "cell_type": "code",
   "execution_count": null,
   "outputs": [],
   "source": [
    "( company.groupby([\"Sexo\",\"Setor\",\"Grau_Instrucao\"])[[\"Salario\"]].count().unstack() / len(company) ) # .sum().sum()"
   ],
   "metadata": {
    "collapsed": false
   }
  },
  {
   "cell_type": "code",
   "execution_count": null,
   "outputs": [],
   "source": [],
   "metadata": {
    "collapsed": false
   }
  }
 ],
 "metadata": {
  "kernelspec": {
   "display_name": "Python 3",
   "language": "python",
   "name": "python3"
  },
  "language_info": {
   "codemirror_mode": {
    "name": "ipython",
    "version": 2
   },
   "file_extension": ".py",
   "mimetype": "text/x-python",
   "name": "python",
   "nbconvert_exporter": "python",
   "pygments_lexer": "ipython2",
   "version": "2.7.6"
  }
 },
 "nbformat": 4,
 "nbformat_minor": 0
}
